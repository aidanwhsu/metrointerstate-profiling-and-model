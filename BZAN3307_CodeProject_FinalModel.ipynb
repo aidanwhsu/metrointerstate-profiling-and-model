{
  "cells": [
    {
      "cell_type": "markdown",
      "metadata": {
        "id": "GRr-9irg3PpU"
      },
      "source": [
        "## Data available, import from Google Drive\n",
        "Run this if you have the csv file in drive"
      ]
    },
    {
      "cell_type": "code",
      "execution_count": null,
      "metadata": {
        "id": "Ivz7xbx43Vpv",
        "colab": {
          "base_uri": "https://localhost:8080/"
        },
        "outputId": "09d7afb2-580f-4077-ba8c-4168966e6c2d"
      },
      "outputs": [
        {
          "output_type": "stream",
          "name": "stdout",
          "text": [
            "Mounted at /content/drive\n"
          ]
        }
      ],
      "source": [
        "from google.colab import drive\n",
        "drive.mount('/content/drive')"
      ]
    },
    {
      "cell_type": "code",
      "execution_count": null,
      "metadata": {
        "id": "_rR6FU213Pa8",
        "colab": {
          "base_uri": "https://localhost:8080/"
        },
        "outputId": "b1d5b3b0-c95d-43fc-a2c2-6d60d02434e2"
      },
      "outputs": [
        {
          "output_type": "stream",
          "name": "stdout",
          "text": [
            "/content/drive/My Drive/mlai\n"
          ]
        }
      ],
      "source": [
        "%cd /content/drive/My Drive/mlai/"
      ]
    },
    {
      "cell_type": "markdown",
      "metadata": {
        "id": "zym8hRNh-Upw"
      },
      "source": [
        "## Data available, import"
      ]
    },
    {
      "cell_type": "code",
      "execution_count": null,
      "metadata": {
        "id": "yrsBY_RJdFbO"
      },
      "outputs": [],
      "source": [
        "from IPython.core.interactiveshell import InteractiveShell #allow printing multiple outputs per cell\n",
        "InteractiveShell.ast_node_interactivity = \"all\""
      ]
    },
    {
      "cell_type": "code",
      "source": [
        "!pip install scikit-learn"
      ],
      "metadata": {
        "colab": {
          "base_uri": "https://localhost:8080/"
        },
        "id": "a2MvmWiaaTHk",
        "outputId": "aaea65ca-607b-41cc-9394-800b5dd85186"
      },
      "execution_count": null,
      "outputs": [
        {
          "output_type": "stream",
          "name": "stdout",
          "text": [
            "Requirement already satisfied: scikit-learn in /usr/local/lib/python3.10/dist-packages (1.2.2)\n",
            "Requirement already satisfied: numpy>=1.17.3 in /usr/local/lib/python3.10/dist-packages (from scikit-learn) (1.23.5)\n",
            "Requirement already satisfied: scipy>=1.3.2 in /usr/local/lib/python3.10/dist-packages (from scikit-learn) (1.11.4)\n",
            "Requirement already satisfied: joblib>=1.1.1 in /usr/local/lib/python3.10/dist-packages (from scikit-learn) (1.3.2)\n",
            "Requirement already satisfied: threadpoolctl>=2.0.0 in /usr/local/lib/python3.10/dist-packages (from scikit-learn) (3.2.0)\n"
          ]
        }
      ]
    },
    {
      "cell_type": "code",
      "execution_count": null,
      "metadata": {
        "id": "DRCG6PHt99ut"
      },
      "outputs": [],
      "source": [
        "import pandas as pd\n",
        "import matplotlib\n",
        "import numpy"
      ]
    },
    {
      "cell_type": "code",
      "execution_count": null,
      "metadata": {
        "id": "bjJtExRi-Sd9",
        "colab": {
          "base_uri": "https://localhost:8080/",
          "height": 423
        },
        "outputId": "cf0be671-ffec-488f-a26a-f59ac09455dd"
      },
      "outputs": [
        {
          "output_type": "execute_result",
          "data": {
            "text/plain": [
              "      holiday    temp  rain_1h  snow_1h  clouds_all  weather_main  \\\n",
              "0        None  288.28      0.0      0.0          40        Clouds   \n",
              "1        None  289.36      0.0      0.0          75        Clouds   \n",
              "2        None  289.58      0.0      0.0          90        Clouds   \n",
              "3        None  290.13      0.0      0.0          90        Clouds   \n",
              "4        None  291.14      0.0      0.0          75        Clouds   \n",
              "...       ...     ...      ...      ...         ...           ...   \n",
              "48199    None  283.45      0.0      0.0          75        Clouds   \n",
              "48200    None  282.76      0.0      0.0          90        Clouds   \n",
              "48201    None  282.73      0.0      0.0          90  Thunderstorm   \n",
              "48202    None  282.09      0.0      0.0          90        Clouds   \n",
              "48203    None  282.12      0.0      0.0          90        Clouds   \n",
              "\n",
              "          weather_description           date_time  traffic_volume  \n",
              "0            scattered clouds 2012-10-02 09:00:00            5545  \n",
              "1               broken clouds 2012-10-02 10:00:00            4516  \n",
              "2             overcast clouds 2012-10-02 11:00:00            4767  \n",
              "3             overcast clouds 2012-10-02 12:00:00            5026  \n",
              "4               broken clouds 2012-10-02 13:00:00            4918  \n",
              "...                       ...                 ...             ...  \n",
              "48199           broken clouds 2018-09-30 19:00:00            3543  \n",
              "48200         overcast clouds 2018-09-30 20:00:00            2781  \n",
              "48201  proximity thunderstorm 2018-09-30 21:00:00            2159  \n",
              "48202         overcast clouds 2018-09-30 22:00:00            1450  \n",
              "48203         overcast clouds 2018-09-30 23:00:00             954  \n",
              "\n",
              "[48204 rows x 9 columns]"
            ],
            "text/html": [
              "\n",
              "  <div id=\"df-574559c5-9d54-4956-8529-e58f6d1da220\" class=\"colab-df-container\">\n",
              "    <div>\n",
              "<style scoped>\n",
              "    .dataframe tbody tr th:only-of-type {\n",
              "        vertical-align: middle;\n",
              "    }\n",
              "\n",
              "    .dataframe tbody tr th {\n",
              "        vertical-align: top;\n",
              "    }\n",
              "\n",
              "    .dataframe thead th {\n",
              "        text-align: right;\n",
              "    }\n",
              "</style>\n",
              "<table border=\"1\" class=\"dataframe\">\n",
              "  <thead>\n",
              "    <tr style=\"text-align: right;\">\n",
              "      <th></th>\n",
              "      <th>holiday</th>\n",
              "      <th>temp</th>\n",
              "      <th>rain_1h</th>\n",
              "      <th>snow_1h</th>\n",
              "      <th>clouds_all</th>\n",
              "      <th>weather_main</th>\n",
              "      <th>weather_description</th>\n",
              "      <th>date_time</th>\n",
              "      <th>traffic_volume</th>\n",
              "    </tr>\n",
              "  </thead>\n",
              "  <tbody>\n",
              "    <tr>\n",
              "      <th>0</th>\n",
              "      <td>None</td>\n",
              "      <td>288.28</td>\n",
              "      <td>0.0</td>\n",
              "      <td>0.0</td>\n",
              "      <td>40</td>\n",
              "      <td>Clouds</td>\n",
              "      <td>scattered clouds</td>\n",
              "      <td>2012-10-02 09:00:00</td>\n",
              "      <td>5545</td>\n",
              "    </tr>\n",
              "    <tr>\n",
              "      <th>1</th>\n",
              "      <td>None</td>\n",
              "      <td>289.36</td>\n",
              "      <td>0.0</td>\n",
              "      <td>0.0</td>\n",
              "      <td>75</td>\n",
              "      <td>Clouds</td>\n",
              "      <td>broken clouds</td>\n",
              "      <td>2012-10-02 10:00:00</td>\n",
              "      <td>4516</td>\n",
              "    </tr>\n",
              "    <tr>\n",
              "      <th>2</th>\n",
              "      <td>None</td>\n",
              "      <td>289.58</td>\n",
              "      <td>0.0</td>\n",
              "      <td>0.0</td>\n",
              "      <td>90</td>\n",
              "      <td>Clouds</td>\n",
              "      <td>overcast clouds</td>\n",
              "      <td>2012-10-02 11:00:00</td>\n",
              "      <td>4767</td>\n",
              "    </tr>\n",
              "    <tr>\n",
              "      <th>3</th>\n",
              "      <td>None</td>\n",
              "      <td>290.13</td>\n",
              "      <td>0.0</td>\n",
              "      <td>0.0</td>\n",
              "      <td>90</td>\n",
              "      <td>Clouds</td>\n",
              "      <td>overcast clouds</td>\n",
              "      <td>2012-10-02 12:00:00</td>\n",
              "      <td>5026</td>\n",
              "    </tr>\n",
              "    <tr>\n",
              "      <th>4</th>\n",
              "      <td>None</td>\n",
              "      <td>291.14</td>\n",
              "      <td>0.0</td>\n",
              "      <td>0.0</td>\n",
              "      <td>75</td>\n",
              "      <td>Clouds</td>\n",
              "      <td>broken clouds</td>\n",
              "      <td>2012-10-02 13:00:00</td>\n",
              "      <td>4918</td>\n",
              "    </tr>\n",
              "    <tr>\n",
              "      <th>...</th>\n",
              "      <td>...</td>\n",
              "      <td>...</td>\n",
              "      <td>...</td>\n",
              "      <td>...</td>\n",
              "      <td>...</td>\n",
              "      <td>...</td>\n",
              "      <td>...</td>\n",
              "      <td>...</td>\n",
              "      <td>...</td>\n",
              "    </tr>\n",
              "    <tr>\n",
              "      <th>48199</th>\n",
              "      <td>None</td>\n",
              "      <td>283.45</td>\n",
              "      <td>0.0</td>\n",
              "      <td>0.0</td>\n",
              "      <td>75</td>\n",
              "      <td>Clouds</td>\n",
              "      <td>broken clouds</td>\n",
              "      <td>2018-09-30 19:00:00</td>\n",
              "      <td>3543</td>\n",
              "    </tr>\n",
              "    <tr>\n",
              "      <th>48200</th>\n",
              "      <td>None</td>\n",
              "      <td>282.76</td>\n",
              "      <td>0.0</td>\n",
              "      <td>0.0</td>\n",
              "      <td>90</td>\n",
              "      <td>Clouds</td>\n",
              "      <td>overcast clouds</td>\n",
              "      <td>2018-09-30 20:00:00</td>\n",
              "      <td>2781</td>\n",
              "    </tr>\n",
              "    <tr>\n",
              "      <th>48201</th>\n",
              "      <td>None</td>\n",
              "      <td>282.73</td>\n",
              "      <td>0.0</td>\n",
              "      <td>0.0</td>\n",
              "      <td>90</td>\n",
              "      <td>Thunderstorm</td>\n",
              "      <td>proximity thunderstorm</td>\n",
              "      <td>2018-09-30 21:00:00</td>\n",
              "      <td>2159</td>\n",
              "    </tr>\n",
              "    <tr>\n",
              "      <th>48202</th>\n",
              "      <td>None</td>\n",
              "      <td>282.09</td>\n",
              "      <td>0.0</td>\n",
              "      <td>0.0</td>\n",
              "      <td>90</td>\n",
              "      <td>Clouds</td>\n",
              "      <td>overcast clouds</td>\n",
              "      <td>2018-09-30 22:00:00</td>\n",
              "      <td>1450</td>\n",
              "    </tr>\n",
              "    <tr>\n",
              "      <th>48203</th>\n",
              "      <td>None</td>\n",
              "      <td>282.12</td>\n",
              "      <td>0.0</td>\n",
              "      <td>0.0</td>\n",
              "      <td>90</td>\n",
              "      <td>Clouds</td>\n",
              "      <td>overcast clouds</td>\n",
              "      <td>2018-09-30 23:00:00</td>\n",
              "      <td>954</td>\n",
              "    </tr>\n",
              "  </tbody>\n",
              "</table>\n",
              "<p>48204 rows × 9 columns</p>\n",
              "</div>\n",
              "    <div class=\"colab-df-buttons\">\n",
              "\n",
              "  <div class=\"colab-df-container\">\n",
              "    <button class=\"colab-df-convert\" onclick=\"convertToInteractive('df-574559c5-9d54-4956-8529-e58f6d1da220')\"\n",
              "            title=\"Convert this dataframe to an interactive table.\"\n",
              "            style=\"display:none;\">\n",
              "\n",
              "  <svg xmlns=\"http://www.w3.org/2000/svg\" height=\"24px\" viewBox=\"0 -960 960 960\">\n",
              "    <path d=\"M120-120v-720h720v720H120Zm60-500h600v-160H180v160Zm220 220h160v-160H400v160Zm0 220h160v-160H400v160ZM180-400h160v-160H180v160Zm440 0h160v-160H620v160ZM180-180h160v-160H180v160Zm440 0h160v-160H620v160Z\"/>\n",
              "  </svg>\n",
              "    </button>\n",
              "\n",
              "  <style>\n",
              "    .colab-df-container {\n",
              "      display:flex;\n",
              "      gap: 12px;\n",
              "    }\n",
              "\n",
              "    .colab-df-convert {\n",
              "      background-color: #E8F0FE;\n",
              "      border: none;\n",
              "      border-radius: 50%;\n",
              "      cursor: pointer;\n",
              "      display: none;\n",
              "      fill: #1967D2;\n",
              "      height: 32px;\n",
              "      padding: 0 0 0 0;\n",
              "      width: 32px;\n",
              "    }\n",
              "\n",
              "    .colab-df-convert:hover {\n",
              "      background-color: #E2EBFA;\n",
              "      box-shadow: 0px 1px 2px rgba(60, 64, 67, 0.3), 0px 1px 3px 1px rgba(60, 64, 67, 0.15);\n",
              "      fill: #174EA6;\n",
              "    }\n",
              "\n",
              "    .colab-df-buttons div {\n",
              "      margin-bottom: 4px;\n",
              "    }\n",
              "\n",
              "    [theme=dark] .colab-df-convert {\n",
              "      background-color: #3B4455;\n",
              "      fill: #D2E3FC;\n",
              "    }\n",
              "\n",
              "    [theme=dark] .colab-df-convert:hover {\n",
              "      background-color: #434B5C;\n",
              "      box-shadow: 0px 1px 3px 1px rgba(0, 0, 0, 0.15);\n",
              "      filter: drop-shadow(0px 1px 2px rgba(0, 0, 0, 0.3));\n",
              "      fill: #FFFFFF;\n",
              "    }\n",
              "  </style>\n",
              "\n",
              "    <script>\n",
              "      const buttonEl =\n",
              "        document.querySelector('#df-574559c5-9d54-4956-8529-e58f6d1da220 button.colab-df-convert');\n",
              "      buttonEl.style.display =\n",
              "        google.colab.kernel.accessAllowed ? 'block' : 'none';\n",
              "\n",
              "      async function convertToInteractive(key) {\n",
              "        const element = document.querySelector('#df-574559c5-9d54-4956-8529-e58f6d1da220');\n",
              "        const dataTable =\n",
              "          await google.colab.kernel.invokeFunction('convertToInteractive',\n",
              "                                                    [key], {});\n",
              "        if (!dataTable) return;\n",
              "\n",
              "        const docLinkHtml = 'Like what you see? Visit the ' +\n",
              "          '<a target=\"_blank\" href=https://colab.research.google.com/notebooks/data_table.ipynb>data table notebook</a>'\n",
              "          + ' to learn more about interactive tables.';\n",
              "        element.innerHTML = '';\n",
              "        dataTable['output_type'] = 'display_data';\n",
              "        await google.colab.output.renderOutput(dataTable, element);\n",
              "        const docLink = document.createElement('div');\n",
              "        docLink.innerHTML = docLinkHtml;\n",
              "        element.appendChild(docLink);\n",
              "      }\n",
              "    </script>\n",
              "  </div>\n",
              "\n",
              "\n",
              "<div id=\"df-c59b2db8-02cd-44bf-bdd0-5afedacd223e\">\n",
              "  <button class=\"colab-df-quickchart\" onclick=\"quickchart('df-c59b2db8-02cd-44bf-bdd0-5afedacd223e')\"\n",
              "            title=\"Suggest charts\"\n",
              "            style=\"display:none;\">\n",
              "\n",
              "<svg xmlns=\"http://www.w3.org/2000/svg\" height=\"24px\"viewBox=\"0 0 24 24\"\n",
              "     width=\"24px\">\n",
              "    <g>\n",
              "        <path d=\"M19 3H5c-1.1 0-2 .9-2 2v14c0 1.1.9 2 2 2h14c1.1 0 2-.9 2-2V5c0-1.1-.9-2-2-2zM9 17H7v-7h2v7zm4 0h-2V7h2v10zm4 0h-2v-4h2v4z\"/>\n",
              "    </g>\n",
              "</svg>\n",
              "  </button>\n",
              "\n",
              "<style>\n",
              "  .colab-df-quickchart {\n",
              "      --bg-color: #E8F0FE;\n",
              "      --fill-color: #1967D2;\n",
              "      --hover-bg-color: #E2EBFA;\n",
              "      --hover-fill-color: #174EA6;\n",
              "      --disabled-fill-color: #AAA;\n",
              "      --disabled-bg-color: #DDD;\n",
              "  }\n",
              "\n",
              "  [theme=dark] .colab-df-quickchart {\n",
              "      --bg-color: #3B4455;\n",
              "      --fill-color: #D2E3FC;\n",
              "      --hover-bg-color: #434B5C;\n",
              "      --hover-fill-color: #FFFFFF;\n",
              "      --disabled-bg-color: #3B4455;\n",
              "      --disabled-fill-color: #666;\n",
              "  }\n",
              "\n",
              "  .colab-df-quickchart {\n",
              "    background-color: var(--bg-color);\n",
              "    border: none;\n",
              "    border-radius: 50%;\n",
              "    cursor: pointer;\n",
              "    display: none;\n",
              "    fill: var(--fill-color);\n",
              "    height: 32px;\n",
              "    padding: 0;\n",
              "    width: 32px;\n",
              "  }\n",
              "\n",
              "  .colab-df-quickchart:hover {\n",
              "    background-color: var(--hover-bg-color);\n",
              "    box-shadow: 0 1px 2px rgba(60, 64, 67, 0.3), 0 1px 3px 1px rgba(60, 64, 67, 0.15);\n",
              "    fill: var(--button-hover-fill-color);\n",
              "  }\n",
              "\n",
              "  .colab-df-quickchart-complete:disabled,\n",
              "  .colab-df-quickchart-complete:disabled:hover {\n",
              "    background-color: var(--disabled-bg-color);\n",
              "    fill: var(--disabled-fill-color);\n",
              "    box-shadow: none;\n",
              "  }\n",
              "\n",
              "  .colab-df-spinner {\n",
              "    border: 2px solid var(--fill-color);\n",
              "    border-color: transparent;\n",
              "    border-bottom-color: var(--fill-color);\n",
              "    animation:\n",
              "      spin 1s steps(1) infinite;\n",
              "  }\n",
              "\n",
              "  @keyframes spin {\n",
              "    0% {\n",
              "      border-color: transparent;\n",
              "      border-bottom-color: var(--fill-color);\n",
              "      border-left-color: var(--fill-color);\n",
              "    }\n",
              "    20% {\n",
              "      border-color: transparent;\n",
              "      border-left-color: var(--fill-color);\n",
              "      border-top-color: var(--fill-color);\n",
              "    }\n",
              "    30% {\n",
              "      border-color: transparent;\n",
              "      border-left-color: var(--fill-color);\n",
              "      border-top-color: var(--fill-color);\n",
              "      border-right-color: var(--fill-color);\n",
              "    }\n",
              "    40% {\n",
              "      border-color: transparent;\n",
              "      border-right-color: var(--fill-color);\n",
              "      border-top-color: var(--fill-color);\n",
              "    }\n",
              "    60% {\n",
              "      border-color: transparent;\n",
              "      border-right-color: var(--fill-color);\n",
              "    }\n",
              "    80% {\n",
              "      border-color: transparent;\n",
              "      border-right-color: var(--fill-color);\n",
              "      border-bottom-color: var(--fill-color);\n",
              "    }\n",
              "    90% {\n",
              "      border-color: transparent;\n",
              "      border-bottom-color: var(--fill-color);\n",
              "    }\n",
              "  }\n",
              "</style>\n",
              "\n",
              "  <script>\n",
              "    async function quickchart(key) {\n",
              "      const quickchartButtonEl =\n",
              "        document.querySelector('#' + key + ' button');\n",
              "      quickchartButtonEl.disabled = true;  // To prevent multiple clicks.\n",
              "      quickchartButtonEl.classList.add('colab-df-spinner');\n",
              "      try {\n",
              "        const charts = await google.colab.kernel.invokeFunction(\n",
              "            'suggestCharts', [key], {});\n",
              "      } catch (error) {\n",
              "        console.error('Error during call to suggestCharts:', error);\n",
              "      }\n",
              "      quickchartButtonEl.classList.remove('colab-df-spinner');\n",
              "      quickchartButtonEl.classList.add('colab-df-quickchart-complete');\n",
              "    }\n",
              "    (() => {\n",
              "      let quickchartButtonEl =\n",
              "        document.querySelector('#df-c59b2db8-02cd-44bf-bdd0-5afedacd223e button');\n",
              "      quickchartButtonEl.style.display =\n",
              "        google.colab.kernel.accessAllowed ? 'block' : 'none';\n",
              "    })();\n",
              "  </script>\n",
              "</div>\n",
              "    </div>\n",
              "  </div>\n"
            ]
          },
          "metadata": {},
          "execution_count": 6
        }
      ],
      "source": [
        "df = pd.read_csv(\"Metro_Interstate_Traffic_Volume.csv\", parse_dates=['date_time'])\n",
        "df"
      ]
    },
    {
      "cell_type": "code",
      "source": [
        "df.nunique()"
      ],
      "metadata": {
        "colab": {
          "base_uri": "https://localhost:8080/"
        },
        "id": "aMwInXnupLbl",
        "outputId": "256427f8-37a6-4af8-ba4c-52eb92e6b626"
      },
      "execution_count": null,
      "outputs": [
        {
          "output_type": "execute_result",
          "data": {
            "text/plain": [
              "holiday                   12\n",
              "temp                    5843\n",
              "rain_1h                  372\n",
              "snow_1h                   12\n",
              "clouds_all                60\n",
              "weather_main              11\n",
              "weather_description       38\n",
              "date_time              40575\n",
              "traffic_volume          6704\n",
              "dtype: int64"
            ]
          },
          "metadata": {},
          "execution_count": 7
        }
      ]
    },
    {
      "cell_type": "code",
      "source": [
        "df.weather_description.value_counts()"
      ],
      "metadata": {
        "colab": {
          "base_uri": "https://localhost:8080/"
        },
        "id": "tFomfC_ghfrv",
        "outputId": "e556a33a-8f6e-42c8-84de-35deb90ecc2f"
      },
      "execution_count": null,
      "outputs": [
        {
          "output_type": "execute_result",
          "data": {
            "text/plain": [
              "sky is clear                           11665\n",
              "mist                                    5950\n",
              "overcast clouds                         5081\n",
              "broken clouds                           4666\n",
              "scattered clouds                        3461\n",
              "light rain                              3372\n",
              "few clouds                              1956\n",
              "light snow                              1946\n",
              "Sky is Clear                            1726\n",
              "moderate rain                           1664\n",
              "haze                                    1360\n",
              "light intensity drizzle                 1100\n",
              "fog                                      912\n",
              "proximity thunderstorm                   673\n",
              "drizzle                                  651\n",
              "heavy snow                               616\n",
              "heavy intensity rain                     467\n",
              "snow                                     293\n",
              "proximity shower rain                    136\n",
              "thunderstorm                             125\n",
              "heavy intensity drizzle                   64\n",
              "thunderstorm with heavy rain              63\n",
              "thunderstorm with light rain              54\n",
              "proximity thunderstorm with rain          52\n",
              "thunderstorm with rain                    37\n",
              "smoke                                     20\n",
              "very heavy rain                           18\n",
              "thunderstorm with light drizzle           15\n",
              "light intensity shower rain               13\n",
              "proximity thunderstorm with drizzle       13\n",
              "light shower snow                         11\n",
              "light rain and snow                        6\n",
              "shower drizzle                             6\n",
              "SQUALLS                                    4\n",
              "sleet                                      3\n",
              "thunderstorm with drizzle                  2\n",
              "freezing rain                              2\n",
              "shower snow                                1\n",
              "Name: weather_description, dtype: int64"
            ]
          },
          "metadata": {},
          "execution_count": 8
        }
      ]
    },
    {
      "cell_type": "code",
      "source": [
        "df.weather_main.value_counts()"
      ],
      "metadata": {
        "id": "zSgbLvhGZ7a7",
        "outputId": "8e1a3384-90b7-40aa-b36e-893a65385653",
        "colab": {
          "base_uri": "https://localhost:8080/"
        }
      },
      "execution_count": null,
      "outputs": [
        {
          "output_type": "execute_result",
          "data": {
            "text/plain": [
              "Clouds          15164\n",
              "Clear           13391\n",
              "Mist             5950\n",
              "Rain             5672\n",
              "Snow             2876\n",
              "Drizzle          1821\n",
              "Haze             1360\n",
              "Thunderstorm     1034\n",
              "Fog               912\n",
              "Smoke              20\n",
              "Squall              4\n",
              "Name: weather_main, dtype: int64"
            ]
          },
          "metadata": {},
          "execution_count": 9
        }
      ]
    },
    {
      "cell_type": "code",
      "source": [
        "df.weather_description.value_counts()"
      ],
      "metadata": {
        "colab": {
          "base_uri": "https://localhost:8080/"
        },
        "id": "dmt3pQklZUjn",
        "outputId": "0776b0eb-0694-4da1-ad9e-5e520447050f"
      },
      "execution_count": null,
      "outputs": [
        {
          "output_type": "execute_result",
          "data": {
            "text/plain": [
              "sky is clear                           11665\n",
              "mist                                    5950\n",
              "overcast clouds                         5081\n",
              "broken clouds                           4666\n",
              "scattered clouds                        3461\n",
              "light rain                              3372\n",
              "few clouds                              1956\n",
              "light snow                              1946\n",
              "Sky is Clear                            1726\n",
              "moderate rain                           1664\n",
              "haze                                    1360\n",
              "light intensity drizzle                 1100\n",
              "fog                                      912\n",
              "proximity thunderstorm                   673\n",
              "drizzle                                  651\n",
              "heavy snow                               616\n",
              "heavy intensity rain                     467\n",
              "snow                                     293\n",
              "proximity shower rain                    136\n",
              "thunderstorm                             125\n",
              "heavy intensity drizzle                   64\n",
              "thunderstorm with heavy rain              63\n",
              "thunderstorm with light rain              54\n",
              "proximity thunderstorm with rain          52\n",
              "thunderstorm with rain                    37\n",
              "smoke                                     20\n",
              "very heavy rain                           18\n",
              "thunderstorm with light drizzle           15\n",
              "light intensity shower rain               13\n",
              "proximity thunderstorm with drizzle       13\n",
              "light shower snow                         11\n",
              "light rain and snow                        6\n",
              "shower drizzle                             6\n",
              "SQUALLS                                    4\n",
              "sleet                                      3\n",
              "thunderstorm with drizzle                  2\n",
              "freezing rain                              2\n",
              "shower snow                                1\n",
              "Name: weather_description, dtype: int64"
            ]
          },
          "metadata": {},
          "execution_count": 10
        }
      ]
    },
    {
      "cell_type": "markdown",
      "metadata": {
        "id": "UE8E-KTpYhKN"
      },
      "source": [
        "## Data Cleaning\n",
        "\n",
        "For more information on data profiling, this is what we have done for the previous assignment: https://colab.research.google.com/drive/1IloERKEaM_xcS5N0r0k08MlSthyvKo21#scrollTo=-r8BhZF5lCl5"
      ]
    },
    {
      "cell_type": "markdown",
      "source": [
        "### Eliminate values that are insignificant"
      ],
      "metadata": {
        "id": "CT1cn5K3aIaB"
      }
    },
    {
      "cell_type": "code",
      "source": [
        "df.weather_main.value_counts() #same issue with the dataset in the slides, need to treat squalls"
      ],
      "metadata": {
        "colab": {
          "base_uri": "https://localhost:8080/"
        },
        "id": "LoTF_tJNaLWB",
        "outputId": "2bcbf2e4-6240-4533-f740-3621e88e2c76"
      },
      "execution_count": null,
      "outputs": [
        {
          "output_type": "execute_result",
          "data": {
            "text/plain": [
              "Clouds          15164\n",
              "Clear           13391\n",
              "Mist             5950\n",
              "Rain             5672\n",
              "Snow             2876\n",
              "Drizzle          1821\n",
              "Haze             1360\n",
              "Thunderstorm     1034\n",
              "Fog               912\n",
              "Smoke              20\n",
              "Squall              4\n",
              "Name: weather_main, dtype: int64"
            ]
          },
          "metadata": {},
          "execution_count": 11
        }
      ]
    },
    {
      "cell_type": "code",
      "source": [
        " df = df.query( \"weather_main != 'Squall' \")"
      ],
      "metadata": {
        "id": "ae_XF4JIaHzn"
      },
      "execution_count": null,
      "outputs": []
    },
    {
      "cell_type": "markdown",
      "metadata": {
        "id": "UM2mRsHIcQvq"
      },
      "source": [
        "### Eliminate outliers"
      ]
    },
    {
      "cell_type": "code",
      "execution_count": null,
      "metadata": {
        "colab": {
          "base_uri": "https://localhost:8080/"
        },
        "id": "g2BQwLPgYNou",
        "outputId": "c795e23f-e64e-4fac-919b-ff39a5b6a0b4"
      },
      "outputs": [
        {
          "output_type": "execute_result",
          "data": {
            "text/plain": [
              "holiday                        object\n",
              "temp                          float64\n",
              "rain_1h                       float64\n",
              "snow_1h                       float64\n",
              "clouds_all                      int64\n",
              "weather_main                   object\n",
              "weather_description            object\n",
              "date_time              datetime64[ns]\n",
              "traffic_volume                  int64\n",
              "dtype: object"
            ]
          },
          "metadata": {},
          "execution_count": 13
        }
      ],
      "source": [
        "df.dtypes"
      ]
    },
    {
      "cell_type": "markdown",
      "metadata": {
        "id": "ztsfWCvB63Ap"
      },
      "source": [
        "####Removing outliers in rain_1h"
      ]
    },
    {
      "cell_type": "code",
      "execution_count": null,
      "metadata": {
        "colab": {
          "base_uri": "https://localhost:8080/",
          "height": 450
        },
        "id": "pp9MOlSP6--h",
        "outputId": "62f1a695-1a4b-4acb-b179-71e4321efc1d"
      },
      "outputs": [
        {
          "output_type": "display_data",
          "data": {
            "text/plain": [
              "<Figure size 640x480 with 1 Axes>"
            ],
            "image/png": "[encoded data removed]"
          },
          "metadata": {}
        }
      ],
      "source": [
        "scatterrain = df.plot.scatter( x = \"rain_1h\", y= \"traffic_volume\")"
      ]
    },
    {
      "cell_type": "code",
      "execution_count": null,
      "metadata": {
        "colab": {
          "base_uri": "https://localhost:8080/",
          "height": 112
        },
        "id": "XXvCSF2Q7QRp",
        "outputId": "acbb0a86-c1c8-49d8-ff06-ea737ce2002e"
      },
      "outputs": [
        {
          "output_type": "execute_result",
          "data": {
            "text/plain": [
              "      holiday    temp  rain_1h  snow_1h  clouds_all weather_main  \\\n",
              "8247     None  289.10    55.63      0.0          68         Rain   \n",
              "24872    None  302.11  9831.30      0.0          75         Rain   \n",
              "\n",
              "      weather_description           date_time  traffic_volume  \n",
              "8247      very heavy rain 2013-08-07 02:00:00             315  \n",
              "24872     very heavy rain 2016-07-11 17:00:00            5535  "
            ],
            "text/html": [
              "\n",
              "  <div id=\"df-567dc1cb-949c-4151-8527-83207a57726e\" class=\"colab-df-container\">\n",
              "    <div>\n",
              "<style scoped>\n",
              "    .dataframe tbody tr th:only-of-type {\n",
              "        vertical-align: middle;\n",
              "    }\n",
              "\n",
              "    .dataframe tbody tr th {\n",
              "        vertical-align: top;\n",
              "    }\n",
              "\n",
              "    .dataframe thead th {\n",
              "        text-align: right;\n",
              "    }\n",
              "</style>\n",
              "<table border=\"1\" class=\"dataframe\">\n",
              "  <thead>\n",
              "    <tr style=\"text-align: right;\">\n",
              "      <th></th>\n",
              "      <th>holiday</th>\n",
              "      <th>temp</th>\n",
              "      <th>rain_1h</th>\n",
              "      <th>snow_1h</th>\n",
              "      <th>clouds_all</th>\n",
              "      <th>weather_main</th>\n",
              "      <th>weather_description</th>\n",
              "      <th>date_time</th>\n",
              "      <th>traffic_volume</th>\n",
              "    </tr>\n",
              "  </thead>\n",
              "  <tbody>\n",
              "    <tr>\n",
              "      <th>8247</th>\n",
              "      <td>None</td>\n",
              "      <td>289.10</td>\n",
              "      <td>55.63</td>\n",
              "      <td>0.0</td>\n",
              "      <td>68</td>\n",
              "      <td>Rain</td>\n",
              "      <td>very heavy rain</td>\n",
              "      <td>2013-08-07 02:00:00</td>\n",
              "      <td>315</td>\n",
              "    </tr>\n",
              "    <tr>\n",
              "      <th>24872</th>\n",
              "      <td>None</td>\n",
              "      <td>302.11</td>\n",
              "      <td>9831.30</td>\n",
              "      <td>0.0</td>\n",
              "      <td>75</td>\n",
              "      <td>Rain</td>\n",
              "      <td>very heavy rain</td>\n",
              "      <td>2016-07-11 17:00:00</td>\n",
              "      <td>5535</td>\n",
              "    </tr>\n",
              "  </tbody>\n",
              "</table>\n",
              "</div>\n",
              "    <div class=\"colab-df-buttons\">\n",
              "\n",
              "  <div class=\"colab-df-container\">\n",
              "    <button class=\"colab-df-convert\" onclick=\"convertToInteractive('df-567dc1cb-949c-4151-8527-83207a57726e')\"\n",
              "            title=\"Convert this dataframe to an interactive table.\"\n",
              "            style=\"display:none;\">\n",
              "\n",
              "  <svg xmlns=\"http://www.w3.org/2000/svg\" height=\"24px\" viewBox=\"0 -960 960 960\">\n",
              "    <path d=\"M120-120v-720h720v720H120Zm60-500h600v-160H180v160Zm220 220h160v-160H400v160Zm0 220h160v-160H400v160ZM180-400h160v-160H180v160Zm440 0h160v-160H620v160ZM180-180h160v-160H180v160Zm440 0h160v-160H620v160Z\"/>\n",
              "  </svg>\n",
              "    </button>\n",
              "\n",
              "  <style>\n",
              "    .colab-df-container {\n",
              "      display:flex;\n",
              "      gap: 12px;\n",
              "    }\n",
              "\n",
              "    .colab-df-convert {\n",
              "      background-color: #E8F0FE;\n",
              "      border: none;\n",
              "      border-radius: 50%;\n",
              "      cursor: pointer;\n",
              "      display: none;\n",
              "      fill: #1967D2;\n",
              "      height: 32px;\n",
              "      padding: 0 0 0 0;\n",
              "      width: 32px;\n",
              "    }\n",
              "\n",
              "    .colab-df-convert:hover {\n",
              "      background-color: #E2EBFA;\n",
              "      box-shadow: 0px 1px 2px rgba(60, 64, 67, 0.3), 0px 1px 3px 1px rgba(60, 64, 67, 0.15);\n",
              "      fill: #174EA6;\n",
              "    }\n",
              "\n",
              "    .colab-df-buttons div {\n",
              "      margin-bottom: 4px;\n",
              "    }\n",
              "\n",
              "    [theme=dark] .colab-df-convert {\n",
              "      background-color: #3B4455;\n",
              "      fill: #D2E3FC;\n",
              "    }\n",
              "\n",
              "    [theme=dark] .colab-df-convert:hover {\n",
              "      background-color: #434B5C;\n",
              "      box-shadow: 0px 1px 3px 1px rgba(0, 0, 0, 0.15);\n",
              "      filter: drop-shadow(0px 1px 2px rgba(0, 0, 0, 0.3));\n",
              "      fill: #FFFFFF;\n",
              "    }\n",
              "  </style>\n",
              "\n",
              "    <script>\n",
              "      const buttonEl =\n",
              "        document.querySelector('#df-567dc1cb-949c-4151-8527-83207a57726e button.colab-df-convert');\n",
              "      buttonEl.style.display =\n",
              "        google.colab.kernel.accessAllowed ? 'block' : 'none';\n",
              "\n",
              "      async function convertToInteractive(key) {\n",
              "        const element = document.querySelector('#df-567dc1cb-949c-4151-8527-83207a57726e');\n",
              "        const dataTable =\n",
              "          await google.colab.kernel.invokeFunction('convertToInteractive',\n",
              "                                                    [key], {});\n",
              "        if (!dataTable) return;\n",
              "\n",
              "        const docLinkHtml = 'Like what you see? Visit the ' +\n",
              "          '<a target=\"_blank\" href=https://colab.research.google.com/notebooks/data_table.ipynb>data table notebook</a>'\n",
              "          + ' to learn more about interactive tables.';\n",
              "        element.innerHTML = '';\n",
              "        dataTable['output_type'] = 'display_data';\n",
              "        await google.colab.output.renderOutput(dataTable, element);\n",
              "        const docLink = document.createElement('div');\n",
              "        docLink.innerHTML = docLinkHtml;\n",
              "        element.appendChild(docLink);\n",
              "      }\n",
              "    </script>\n",
              "  </div>\n",
              "\n",
              "\n",
              "<div id=\"df-e8c33c4b-a29a-4104-8e3d-5b231619f703\">\n",
              "  <button class=\"colab-df-quickchart\" onclick=\"quickchart('df-e8c33c4b-a29a-4104-8e3d-5b231619f703')\"\n",
              "            title=\"Suggest charts\"\n",
              "            style=\"display:none;\">\n",
              "\n",
              "<svg xmlns=\"http://www.w3.org/2000/svg\" height=\"24px\"viewBox=\"0 0 24 24\"\n",
              "     width=\"24px\">\n",
              "    <g>\n",
              "        <path d=\"M19 3H5c-1.1 0-2 .9-2 2v14c0 1.1.9 2 2 2h14c1.1 0 2-.9 2-2V5c0-1.1-.9-2-2-2zM9 17H7v-7h2v7zm4 0h-2V7h2v10zm4 0h-2v-4h2v4z\"/>\n",
              "    </g>\n",
              "</svg>\n",
              "  </button>\n",
              "\n",
              "<style>\n",
              "  .colab-df-quickchart {\n",
              "      --bg-color: #E8F0FE;\n",
              "      --fill-color: #1967D2;\n",
              "      --hover-bg-color: #E2EBFA;\n",
              "      --hover-fill-color: #174EA6;\n",
              "      --disabled-fill-color: #AAA;\n",
              "      --disabled-bg-color: #DDD;\n",
              "  }\n",
              "\n",
              "  [theme=dark] .colab-df-quickchart {\n",
              "      --bg-color: #3B4455;\n",
              "      --fill-color: #D2E3FC;\n",
              "      --hover-bg-color: #434B5C;\n",
              "      --hover-fill-color: #FFFFFF;\n",
              "      --disabled-bg-color: #3B4455;\n",
              "      --disabled-fill-color: #666;\n",
              "  }\n",
              "\n",
              "  .colab-df-quickchart {\n",
              "    background-color: var(--bg-color);\n",
              "    border: none;\n",
              "    border-radius: 50%;\n",
              "    cursor: pointer;\n",
              "    display: none;\n",
              "    fill: var(--fill-color);\n",
              "    height: 32px;\n",
              "    padding: 0;\n",
              "    width: 32px;\n",
              "  }\n",
              "\n",
              "  .colab-df-quickchart:hover {\n",
              "    background-color: var(--hover-bg-color);\n",
              "    box-shadow: 0 1px 2px rgba(60, 64, 67, 0.3), 0 1px 3px 1px rgba(60, 64, 67, 0.15);\n",
              "    fill: var(--button-hover-fill-color);\n",
              "  }\n",
              "\n",
              "  .colab-df-quickchart-complete:disabled,\n",
              "  .colab-df-quickchart-complete:disabled:hover {\n",
              "    background-color: var(--disabled-bg-color);\n",
              "    fill: var(--disabled-fill-color);\n",
              "    box-shadow: none;\n",
              "  }\n",
              "\n",
              "  .colab-df-spinner {\n",
              "    border: 2px solid var(--fill-color);\n",
              "    border-color: transparent;\n",
              "    border-bottom-color: var(--fill-color);\n",
              "    animation:\n",
              "      spin 1s steps(1) infinite;\n",
              "  }\n",
              "\n",
              "  @keyframes spin {\n",
              "    0% {\n",
              "      border-color: transparent;\n",
              "      border-bottom-color: var(--fill-color);\n",
              "      border-left-color: var(--fill-color);\n",
              "    }\n",
              "    20% {\n",
              "      border-color: transparent;\n",
              "      border-left-color: var(--fill-color);\n",
              "      border-top-color: var(--fill-color);\n",
              "    }\n",
              "    30% {\n",
              "      border-color: transparent;\n",
              "      border-left-color: var(--fill-color);\n",
              "      border-top-color: var(--fill-color);\n",
              "      border-right-color: var(--fill-color);\n",
              "    }\n",
              "    40% {\n",
              "      border-color: transparent;\n",
              "      border-right-color: var(--fill-color);\n",
              "      border-top-color: var(--fill-color);\n",
              "    }\n",
              "    60% {\n",
              "      border-color: transparent;\n",
              "      border-right-color: var(--fill-color);\n",
              "    }\n",
              "    80% {\n",
              "      border-color: transparent;\n",
              "      border-right-color: var(--fill-color);\n",
              "      border-bottom-color: var(--fill-color);\n",
              "    }\n",
              "    90% {\n",
              "      border-color: transparent;\n",
              "      border-bottom-color: var(--fill-color);\n",
              "    }\n",
              "  }\n",
              "</style>\n",
              "\n",
              "  <script>\n",
              "    async function quickchart(key) {\n",
              "      const quickchartButtonEl =\n",
              "        document.querySelector('#' + key + ' button');\n",
              "      quickchartButtonEl.disabled = true;  // To prevent multiple clicks.\n",
              "      quickchartButtonEl.classList.add('colab-df-spinner');\n",
              "      try {\n",
              "        const charts = await google.colab.kernel.invokeFunction(\n",
              "            'suggestCharts', [key], {});\n",
              "      } catch (error) {\n",
              "        console.error('Error during call to suggestCharts:', error);\n",
              "      }\n",
              "      quickchartButtonEl.classList.remove('colab-df-spinner');\n",
              "      quickchartButtonEl.classList.add('colab-df-quickchart-complete');\n",
              "    }\n",
              "    (() => {\n",
              "      let quickchartButtonEl =\n",
              "        document.querySelector('#df-e8c33c4b-a29a-4104-8e3d-5b231619f703 button');\n",
              "      quickchartButtonEl.style.display =\n",
              "        google.colab.kernel.accessAllowed ? 'block' : 'none';\n",
              "    })();\n",
              "  </script>\n",
              "</div>\n",
              "    </div>\n",
              "  </div>\n"
            ]
          },
          "metadata": {},
          "execution_count": 15
        }
      ],
      "source": [
        "df[(df['rain_1h']>50)] #here is the big outlier - row 24872 - likely a erroneous entry."
      ]
    },
    {
      "cell_type": "code",
      "execution_count": null,
      "metadata": {
        "id": "y9yCbi_s7T4K"
      },
      "outputs": [],
      "source": [
        "df = df[df['rain_1h']<100] #remove row 24872"
      ]
    },
    {
      "cell_type": "code",
      "execution_count": null,
      "metadata": {
        "colab": {
          "base_uri": "https://localhost:8080/",
          "height": 450
        },
        "id": "lr6B2Ejff3kK",
        "outputId": "104266ad-3bfb-4024-bc05-30fce80dd183"
      },
      "outputs": [
        {
          "output_type": "display_data",
          "data": {
            "text/plain": [
              "<Figure size 640x480 with 1 Axes>"
            ],
            "image/png": "[encoded data removed]"
          },
          "metadata": {}
        }
      ],
      "source": [
        "scatterrain = df.plot.scatter( x = \"rain_1h\", y= \"traffic_volume\")"
      ]
    },
    {
      "cell_type": "markdown",
      "metadata": {
        "id": "NEjWmmSd7tW_"
      },
      "source": [
        "#### Removing outliers in temp"
      ]
    },
    {
      "cell_type": "code",
      "execution_count": null,
      "metadata": {
        "colab": {
          "base_uri": "https://localhost:8080/",
          "height": 449
        },
        "id": "5dTDO2197w1L",
        "outputId": "1d1d9dbf-f80b-41e8-d6c0-1ba7ae5d834e"
      },
      "outputs": [
        {
          "output_type": "display_data",
          "data": {
            "text/plain": [
              "<Figure size 640x480 with 1 Axes>"
            ],
            "image/png": "[encoded data removed]"
          },
          "metadata": {}
        }
      ],
      "source": [
        "scattertemp = df.plot.scatter( x = \"temp\", y= \"traffic_volume\") #temp being 0 is not possible, as these numbers are in kelvin."
      ]
    },
    {
      "cell_type": "code",
      "execution_count": null,
      "metadata": {
        "colab": {
          "base_uri": "https://localhost:8080/",
          "height": 363
        },
        "id": "uWHOP5Sr8DDt",
        "outputId": "31165fec-6b87-4e72-cc19-10667129cbfd"
      },
      "outputs": [
        {
          "output_type": "execute_result",
          "data": {
            "text/plain": [
              "      holiday  temp  rain_1h  snow_1h  clouds_all weather_main  \\\n",
              "11898    None   0.0      0.0      0.0           0        Clear   \n",
              "11899    None   0.0      0.0      0.0           0        Clear   \n",
              "11900    None   0.0      0.0      0.0           0        Clear   \n",
              "11901    None   0.0      0.0      0.0           0        Clear   \n",
              "11946    None   0.0      0.0      0.0           0        Clear   \n",
              "11947    None   0.0      0.0      0.0           0        Clear   \n",
              "11948    None   0.0      0.0      0.0           0        Clear   \n",
              "11949    None   0.0      0.0      0.0           0        Clear   \n",
              "11950    None   0.0      0.0      0.0           0        Clear   \n",
              "11951    None   0.0      0.0      0.0           0        Clear   \n",
              "\n",
              "      weather_description           date_time  traffic_volume  \n",
              "11898        sky is clear 2014-01-31 03:00:00             361  \n",
              "11899        sky is clear 2014-01-31 04:00:00             734  \n",
              "11900        sky is clear 2014-01-31 05:00:00            2557  \n",
              "11901        sky is clear 2014-01-31 06:00:00            5150  \n",
              "11946        sky is clear 2014-02-02 03:00:00             291  \n",
              "11947        sky is clear 2014-02-02 04:00:00             284  \n",
              "11948        sky is clear 2014-02-02 05:00:00             434  \n",
              "11949        sky is clear 2014-02-02 06:00:00             739  \n",
              "11950        sky is clear 2014-02-02 07:00:00             962  \n",
              "11951        sky is clear 2014-02-02 08:00:00            1670  "
            ],
            "text/html": [
              "\n",
              "  <div id=\"df-6ca39c69-48c8-45cb-81d4-1901e605fb98\" class=\"colab-df-container\">\n",
              "    <div>\n",
              "<style scoped>\n",
              "    .dataframe tbody tr th:only-of-type {\n",
              "        vertical-align: middle;\n",
              "    }\n",
              "\n",
              "    .dataframe tbody tr th {\n",
              "        vertical-align: top;\n",
              "    }\n",
              "\n",
              "    .dataframe thead th {\n",
              "        text-align: right;\n",
              "    }\n",
              "</style>\n",
              "<table border=\"1\" class=\"dataframe\">\n",
              "  <thead>\n",
              "    <tr style=\"text-align: right;\">\n",
              "      <th></th>\n",
              "      <th>holiday</th>\n",
              "      <th>temp</th>\n",
              "      <th>rain_1h</th>\n",
              "      <th>snow_1h</th>\n",
              "      <th>clouds_all</th>\n",
              "      <th>weather_main</th>\n",
              "      <th>weather_description</th>\n",
              "      <th>date_time</th>\n",
              "      <th>traffic_volume</th>\n",
              "    </tr>\n",
              "  </thead>\n",
              "  <tbody>\n",
              "    <tr>\n",
              "      <th>11898</th>\n",
              "      <td>None</td>\n",
              "      <td>0.0</td>\n",
              "      <td>0.0</td>\n",
              "      <td>0.0</td>\n",
              "      <td>0</td>\n",
              "      <td>Clear</td>\n",
              "      <td>sky is clear</td>\n",
              "      <td>2014-01-31 03:00:00</td>\n",
              "      <td>361</td>\n",
              "    </tr>\n",
              "    <tr>\n",
              "      <th>11899</th>\n",
              "      <td>None</td>\n",
              "      <td>0.0</td>\n",
              "      <td>0.0</td>\n",
              "      <td>0.0</td>\n",
              "      <td>0</td>\n",
              "      <td>Clear</td>\n",
              "      <td>sky is clear</td>\n",
              "      <td>2014-01-31 04:00:00</td>\n",
              "      <td>734</td>\n",
              "    </tr>\n",
              "    <tr>\n",
              "      <th>11900</th>\n",
              "      <td>None</td>\n",
              "      <td>0.0</td>\n",
              "      <td>0.0</td>\n",
              "      <td>0.0</td>\n",
              "      <td>0</td>\n",
              "      <td>Clear</td>\n",
              "      <td>sky is clear</td>\n",
              "      <td>2014-01-31 05:00:00</td>\n",
              "      <td>2557</td>\n",
              "    </tr>\n",
              "    <tr>\n",
              "      <th>11901</th>\n",
              "      <td>None</td>\n",
              "      <td>0.0</td>\n",
              "      <td>0.0</td>\n",
              "      <td>0.0</td>\n",
              "      <td>0</td>\n",
              "      <td>Clear</td>\n",
              "      <td>sky is clear</td>\n",
              "      <td>2014-01-31 06:00:00</td>\n",
              "      <td>5150</td>\n",
              "    </tr>\n",
              "    <tr>\n",
              "      <th>11946</th>\n",
              "      <td>None</td>\n",
              "      <td>0.0</td>\n",
              "      <td>0.0</td>\n",
              "      <td>0.0</td>\n",
              "      <td>0</td>\n",
              "      <td>Clear</td>\n",
              "      <td>sky is clear</td>\n",
              "      <td>2014-02-02 03:00:00</td>\n",
              "      <td>291</td>\n",
              "    </tr>\n",
              "    <tr>\n",
              "      <th>11947</th>\n",
              "      <td>None</td>\n",
              "      <td>0.0</td>\n",
              "      <td>0.0</td>\n",
              "      <td>0.0</td>\n",
              "      <td>0</td>\n",
              "      <td>Clear</td>\n",
              "      <td>sky is clear</td>\n",
              "      <td>2014-02-02 04:00:00</td>\n",
              "      <td>284</td>\n",
              "    </tr>\n",
              "    <tr>\n",
              "      <th>11948</th>\n",
              "      <td>None</td>\n",
              "      <td>0.0</td>\n",
              "      <td>0.0</td>\n",
              "      <td>0.0</td>\n",
              "      <td>0</td>\n",
              "      <td>Clear</td>\n",
              "      <td>sky is clear</td>\n",
              "      <td>2014-02-02 05:00:00</td>\n",
              "      <td>434</td>\n",
              "    </tr>\n",
              "    <tr>\n",
              "      <th>11949</th>\n",
              "      <td>None</td>\n",
              "      <td>0.0</td>\n",
              "      <td>0.0</td>\n",
              "      <td>0.0</td>\n",
              "      <td>0</td>\n",
              "      <td>Clear</td>\n",
              "      <td>sky is clear</td>\n",
              "      <td>2014-02-02 06:00:00</td>\n",
              "      <td>739</td>\n",
              "    </tr>\n",
              "    <tr>\n",
              "      <th>11950</th>\n",
              "      <td>None</td>\n",
              "      <td>0.0</td>\n",
              "      <td>0.0</td>\n",
              "      <td>0.0</td>\n",
              "      <td>0</td>\n",
              "      <td>Clear</td>\n",
              "      <td>sky is clear</td>\n",
              "      <td>2014-02-02 07:00:00</td>\n",
              "      <td>962</td>\n",
              "    </tr>\n",
              "    <tr>\n",
              "      <th>11951</th>\n",
              "      <td>None</td>\n",
              "      <td>0.0</td>\n",
              "      <td>0.0</td>\n",
              "      <td>0.0</td>\n",
              "      <td>0</td>\n",
              "      <td>Clear</td>\n",
              "      <td>sky is clear</td>\n",
              "      <td>2014-02-02 08:00:00</td>\n",
              "      <td>1670</td>\n",
              "    </tr>\n",
              "  </tbody>\n",
              "</table>\n",
              "</div>\n",
              "    <div class=\"colab-df-buttons\">\n",
              "\n",
              "  <div class=\"colab-df-container\">\n",
              "    <button class=\"colab-df-convert\" onclick=\"convertToInteractive('df-6ca39c69-48c8-45cb-81d4-1901e605fb98')\"\n",
              "            title=\"Convert this dataframe to an interactive table.\"\n",
              "            style=\"display:none;\">\n",
              "\n",
              "  <svg xmlns=\"http://www.w3.org/2000/svg\" height=\"24px\" viewBox=\"0 -960 960 960\">\n",
              "    <path d=\"M120-120v-720h720v720H120Zm60-500h600v-160H180v160Zm220 220h160v-160H400v160Zm0 220h160v-160H400v160ZM180-400h160v-160H180v160Zm440 0h160v-160H620v160ZM180-180h160v-160H180v160Zm440 0h160v-160H620v160Z\"/>\n",
              "  </svg>\n",
              "    </button>\n",
              "\n",
              "  <style>\n",
              "    .colab-df-container {\n",
              "      display:flex;\n",
              "      gap: 12px;\n",
              "    }\n",
              "\n",
              "    .colab-df-convert {\n",
              "      background-color: #E8F0FE;\n",
              "      border: none;\n",
              "      border-radius: 50%;\n",
              "      cursor: pointer;\n",
              "      display: none;\n",
              "      fill: #1967D2;\n",
              "      height: 32px;\n",
              "      padding: 0 0 0 0;\n",
              "      width: 32px;\n",
              "    }\n",
              "\n",
              "    .colab-df-convert:hover {\n",
              "      background-color: #E2EBFA;\n",
              "      box-shadow: 0px 1px 2px rgba(60, 64, 67, 0.3), 0px 1px 3px 1px rgba(60, 64, 67, 0.15);\n",
              "      fill: #174EA6;\n",
              "    }\n",
              "\n",
              "    .colab-df-buttons div {\n",
              "      margin-bottom: 4px;\n",
              "    }\n",
              "\n",
              "    [theme=dark] .colab-df-convert {\n",
              "      background-color: #3B4455;\n",
              "      fill: #D2E3FC;\n",
              "    }\n",
              "\n",
              "    [theme=dark] .colab-df-convert:hover {\n",
              "      background-color: #434B5C;\n",
              "      box-shadow: 0px 1px 3px 1px rgba(0, 0, 0, 0.15);\n",
              "      filter: drop-shadow(0px 1px 2px rgba(0, 0, 0, 0.3));\n",
              "      fill: #FFFFFF;\n",
              "    }\n",
              "  </style>\n",
              "\n",
              "    <script>\n",
              "      const buttonEl =\n",
              "        document.querySelector('#df-6ca39c69-48c8-45cb-81d4-1901e605fb98 button.colab-df-convert');\n",
              "      buttonEl.style.display =\n",
              "        google.colab.kernel.accessAllowed ? 'block' : 'none';\n",
              "\n",
              "      async function convertToInteractive(key) {\n",
              "        const element = document.querySelector('#df-6ca39c69-48c8-45cb-81d4-1901e605fb98');\n",
              "        const dataTable =\n",
              "          await google.colab.kernel.invokeFunction('convertToInteractive',\n",
              "                                                    [key], {});\n",
              "        if (!dataTable) return;\n",
              "\n",
              "        const docLinkHtml = 'Like what you see? Visit the ' +\n",
              "          '<a target=\"_blank\" href=https://colab.research.google.com/notebooks/data_table.ipynb>data table notebook</a>'\n",
              "          + ' to learn more about interactive tables.';\n",
              "        element.innerHTML = '';\n",
              "        dataTable['output_type'] = 'display_data';\n",
              "        await google.colab.output.renderOutput(dataTable, element);\n",
              "        const docLink = document.createElement('div');\n",
              "        docLink.innerHTML = docLinkHtml;\n",
              "        element.appendChild(docLink);\n",
              "      }\n",
              "    </script>\n",
              "  </div>\n",
              "\n",
              "\n",
              "<div id=\"df-9590d92c-fbec-4b38-8e35-cd92d53982a6\">\n",
              "  <button class=\"colab-df-quickchart\" onclick=\"quickchart('df-9590d92c-fbec-4b38-8e35-cd92d53982a6')\"\n",
              "            title=\"Suggest charts\"\n",
              "            style=\"display:none;\">\n",
              "\n",
              "<svg xmlns=\"http://www.w3.org/2000/svg\" height=\"24px\"viewBox=\"0 0 24 24\"\n",
              "     width=\"24px\">\n",
              "    <g>\n",
              "        <path d=\"M19 3H5c-1.1 0-2 .9-2 2v14c0 1.1.9 2 2 2h14c1.1 0 2-.9 2-2V5c0-1.1-.9-2-2-2zM9 17H7v-7h2v7zm4 0h-2V7h2v10zm4 0h-2v-4h2v4z\"/>\n",
              "    </g>\n",
              "</svg>\n",
              "  </button>\n",
              "\n",
              "<style>\n",
              "  .colab-df-quickchart {\n",
              "      --bg-color: #E8F0FE;\n",
              "      --fill-color: #1967D2;\n",
              "      --hover-bg-color: #E2EBFA;\n",
              "      --hover-fill-color: #174EA6;\n",
              "      --disabled-fill-color: #AAA;\n",
              "      --disabled-bg-color: #DDD;\n",
              "  }\n",
              "\n",
              "  [theme=dark] .colab-df-quickchart {\n",
              "      --bg-color: #3B4455;\n",
              "      --fill-color: #D2E3FC;\n",
              "      --hover-bg-color: #434B5C;\n",
              "      --hover-fill-color: #FFFFFF;\n",
              "      --disabled-bg-color: #3B4455;\n",
              "      --disabled-fill-color: #666;\n",
              "  }\n",
              "\n",
              "  .colab-df-quickchart {\n",
              "    background-color: var(--bg-color);\n",
              "    border: none;\n",
              "    border-radius: 50%;\n",
              "    cursor: pointer;\n",
              "    display: none;\n",
              "    fill: var(--fill-color);\n",
              "    height: 32px;\n",
              "    padding: 0;\n",
              "    width: 32px;\n",
              "  }\n",
              "\n",
              "  .colab-df-quickchart:hover {\n",
              "    background-color: var(--hover-bg-color);\n",
              "    box-shadow: 0 1px 2px rgba(60, 64, 67, 0.3), 0 1px 3px 1px rgba(60, 64, 67, 0.15);\n",
              "    fill: var(--button-hover-fill-color);\n",
              "  }\n",
              "\n",
              "  .colab-df-quickchart-complete:disabled,\n",
              "  .colab-df-quickchart-complete:disabled:hover {\n",
              "    background-color: var(--disabled-bg-color);\n",
              "    fill: var(--disabled-fill-color);\n",
              "    box-shadow: none;\n",
              "  }\n",
              "\n",
              "  .colab-df-spinner {\n",
              "    border: 2px solid var(--fill-color);\n",
              "    border-color: transparent;\n",
              "    border-bottom-color: var(--fill-color);\n",
              "    animation:\n",
              "      spin 1s steps(1) infinite;\n",
              "  }\n",
              "\n",
              "  @keyframes spin {\n",
              "    0% {\n",
              "      border-color: transparent;\n",
              "      border-bottom-color: var(--fill-color);\n",
              "      border-left-color: var(--fill-color);\n",
              "    }\n",
              "    20% {\n",
              "      border-color: transparent;\n",
              "      border-left-color: var(--fill-color);\n",
              "      border-top-color: var(--fill-color);\n",
              "    }\n",
              "    30% {\n",
              "      border-color: transparent;\n",
              "      border-left-color: var(--fill-color);\n",
              "      border-top-color: var(--fill-color);\n",
              "      border-right-color: var(--fill-color);\n",
              "    }\n",
              "    40% {\n",
              "      border-color: transparent;\n",
              "      border-right-color: var(--fill-color);\n",
              "      border-top-color: var(--fill-color);\n",
              "    }\n",
              "    60% {\n",
              "      border-color: transparent;\n",
              "      border-right-color: var(--fill-color);\n",
              "    }\n",
              "    80% {\n",
              "      border-color: transparent;\n",
              "      border-right-color: var(--fill-color);\n",
              "      border-bottom-color: var(--fill-color);\n",
              "    }\n",
              "    90% {\n",
              "      border-color: transparent;\n",
              "      border-bottom-color: var(--fill-color);\n",
              "    }\n",
              "  }\n",
              "</style>\n",
              "\n",
              "  <script>\n",
              "    async function quickchart(key) {\n",
              "      const quickchartButtonEl =\n",
              "        document.querySelector('#' + key + ' button');\n",
              "      quickchartButtonEl.disabled = true;  // To prevent multiple clicks.\n",
              "      quickchartButtonEl.classList.add('colab-df-spinner');\n",
              "      try {\n",
              "        const charts = await google.colab.kernel.invokeFunction(\n",
              "            'suggestCharts', [key], {});\n",
              "      } catch (error) {\n",
              "        console.error('Error during call to suggestCharts:', error);\n",
              "      }\n",
              "      quickchartButtonEl.classList.remove('colab-df-spinner');\n",
              "      quickchartButtonEl.classList.add('colab-df-quickchart-complete');\n",
              "    }\n",
              "    (() => {\n",
              "      let quickchartButtonEl =\n",
              "        document.querySelector('#df-9590d92c-fbec-4b38-8e35-cd92d53982a6 button');\n",
              "      quickchartButtonEl.style.display =\n",
              "        google.colab.kernel.accessAllowed ? 'block' : 'none';\n",
              "    })();\n",
              "  </script>\n",
              "</div>\n",
              "    </div>\n",
              "  </div>\n"
            ]
          },
          "metadata": {},
          "execution_count": 19
        }
      ],
      "source": [
        "df[(df['temp']==0)] #10 lines of data with invalid temp."
      ]
    },
    {
      "cell_type": "code",
      "execution_count": null,
      "metadata": {
        "id": "aHPHosSf79ZT"
      },
      "outputs": [],
      "source": [
        "df = df[(df['temp'] >= 184) & (df['temp'] <= 329)] #The highest and lowest temperature recorded on earth in Kelvin is 184 and 329. Therefore, any temperature outside of this bound is an outlier/"
      ]
    },
    {
      "cell_type": "code",
      "execution_count": null,
      "metadata": {
        "colab": {
          "base_uri": "https://localhost:8080/",
          "height": 449
        },
        "id": "Vg0KAvhof_Wd",
        "outputId": "56c0f29c-8d65-45c9-e5b5-a598545297a4"
      },
      "outputs": [
        {
          "output_type": "display_data",
          "data": {
            "text/plain": [
              "<Figure size 640x480 with 1 Axes>"
            ],
            "image/png": "[encoded data removed]"
          },
          "metadata": {}
        }
      ],
      "source": [
        "scattertemp = df.plot.scatter( x = \"temp\", y= \"traffic_volume\")"
      ]
    },
    {
      "cell_type": "markdown",
      "metadata": {
        "id": "IzYQTn3z81AX"
      },
      "source": [
        "### Data Transformation"
      ]
    },
    {
      "cell_type": "markdown",
      "metadata": {
        "id": "jsfj5jok84oV"
      },
      "source": [
        "#### Fixing skewed data\n",
        "\n",
        "rain_1h is heavily skewed, can apply transformations to fix it.\n",
        "\n",
        "The reason we decided to transform instead of turning rain binary was because\n",
        "\n",
        "1: there are a lot more days with rain compared to snow_1h\n",
        "\n",
        "2: varying amounts of rain should have an impact on traffic volume\n",
        "\n",
        "rain_1h: apply λe^(−λx)"
      ]
    },
    {
      "cell_type": "markdown",
      "metadata": {
        "id": "tJy9oce_A1jS"
      },
      "source": [
        "##### rain_1h"
      ]
    },
    {
      "cell_type": "code",
      "execution_count": null,
      "metadata": {
        "id": "U4ZJOkM79QhM",
        "colab": {
          "base_uri": "https://localhost:8080/",
          "height": 450
        },
        "outputId": "9b50318e-f710-4006-e0c6-5d428c2ce10a"
      },
      "outputs": [
        {
          "output_type": "display_data",
          "data": {
            "text/plain": [
              "<Figure size 640x480 with 1 Axes>"
            ],
            "image/png": "[encoded data removed]"
          },
          "metadata": {}
        }
      ],
      "source": [
        "df = df.copy() #just to prevent warning\n",
        "constant = 1\n",
        "df['rain_1h_transform'] = constant * numpy.exp(-constant*(df['rain_1h']+1))\n",
        "# df['rain_1h_transform2'] = numpy.log10(df['rain_1h']+50)\n",
        "scatterraintransform = df.plot.scatter( x = \"rain_1h_transform\", y= \"traffic_volume\")"
      ]
    },
    {
      "cell_type": "code",
      "source": [
        "import matplotlib.pyplot as plt\n",
        "\n",
        "fig, (ax1, ax2) = plt.subplots(1, 2,figsize=(10, 5))\n",
        "ax1.hist(df['rain_1h'], bins=10, edgecolor='black')\n",
        "ax2.hist(df['rain_1h_transform'],bins=10,  edgecolor='black')\n",
        "#honestly while it does look terrible, it makes sense since most of the data is 0 rain, all that was done was spread out the non zero rain values more."
      ],
      "metadata": {
        "colab": {
          "base_uri": "https://localhost:8080/",
          "height": 651
        },
        "id": "4VBYhcgO9jbx",
        "outputId": "9b1b3191-cb4f-4a3a-e15b-e8c23fea4026"
      },
      "execution_count": null,
      "outputs": [
        {
          "output_type": "execute_result",
          "data": {
            "text/plain": [
              "(array([4.7915e+04, 1.9900e+02, 4.2000e+01, 1.6000e+01, 1.2000e+01,\n",
              "        3.0000e+00, 0.0000e+00, 1.0000e+00, 0.0000e+00, 1.0000e+00]),\n",
              " array([ 0.   ,  5.563, 11.126, 16.689, 22.252, 27.815, 33.378, 38.941,\n",
              "        44.504, 50.067, 55.63 ]),\n",
              " <BarContainer object of 10 artists>)"
            ]
          },
          "metadata": {},
          "execution_count": 23
        },
        {
          "output_type": "execute_result",
          "data": {
            "text/plain": [
              "(array([  672.,   289.,   232.,   253.,   239.,   179.,   449.,  1150.,\n",
              "            0., 44726.]),\n",
              " array([2.54626435e-25, 3.67879441e-02, 7.35758882e-02, 1.10363832e-01,\n",
              "        1.47151776e-01, 1.83939721e-01, 2.20727665e-01, 2.57515609e-01,\n",
              "        2.94303553e-01, 3.31091497e-01, 3.67879441e-01]),\n",
              " <BarContainer object of 10 artists>)"
            ]
          },
          "metadata": {},
          "execution_count": 23
        },
        {
          "output_type": "display_data",
          "data": {
            "text/plain": [
              "<Figure size 1000x500 with 2 Axes>"
            ],
            "image/png": "[encoded data removed]"
          },
          "metadata": {}
        }
      ]
    },
    {
      "cell_type": "markdown",
      "source": [
        "#### Changing Features to binary"
      ],
      "metadata": {
        "id": "B1ndSEZwcS-I"
      }
    },
    {
      "cell_type": "markdown",
      "source": [
        "##### snow_1h\n",
        "There are only 63 (0.13%) datetime that shows snow. Therefore, we have decided to change these values to binary to show whether it is snowing on the day"
      ],
      "metadata": {
        "id": "8KaBsxR7cU8t"
      }
    },
    {
      "cell_type": "code",
      "source": [
        "scattersnow = df.plot.scatter( x = \"snow_1h\", y= \"traffic_volume\")"
      ],
      "metadata": {
        "colab": {
          "base_uri": "https://localhost:8080/",
          "height": 450
        },
        "id": "vXqlI0PfcXD3",
        "outputId": "8b5e4613-24f4-4179-be57-8ba24e6927c1"
      },
      "execution_count": null,
      "outputs": [
        {
          "output_type": "display_data",
          "data": {
            "text/plain": [
              "<Figure size 640x480 with 1 Axes>"
            ],
            "image/png": "[encoded data removed]"
          },
          "metadata": {}
        }
      ]
    },
    {
      "cell_type": "code",
      "source": [
        "print(df.snow_1h.value_counts())\n",
        "df['isSnow'] = 0\n",
        "df.loc[df['snow_1h'] != 0, 'isSnow'] = 1\n",
        "print(df['isSnow'].value_counts())"
      ],
      "metadata": {
        "colab": {
          "base_uri": "https://localhost:8080/"
        },
        "id": "equlG-pzcVUY",
        "outputId": "8983e3cc-a488-4fd9-9fb7-4fe6d60906fe"
      },
      "execution_count": null,
      "outputs": [
        {
          "output_type": "stream",
          "name": "stdout",
          "text": [
            "0.00    48126\n",
            "0.05       14\n",
            "0.06       12\n",
            "0.51        6\n",
            "0.25        6\n",
            "0.13        6\n",
            "0.10        6\n",
            "0.32        5\n",
            "0.17        3\n",
            "0.44        2\n",
            "0.08        2\n",
            "0.21        1\n",
            "Name: snow_1h, dtype: int64\n",
            "0    48126\n",
            "1       63\n",
            "Name: isSnow, dtype: int64\n"
          ]
        }
      ]
    },
    {
      "cell_type": "markdown",
      "source": [
        "##### Holiday\n",
        "Since there is a column on holiday already, we do not need to use the pandas.tseries.holiday and check if there is a correlation between holiday. However, we are not interested in the kind of holiday. Therefore, we can add a new column isholiday and use it to model the prediction for traffic volume"
      ],
      "metadata": {
        "id": "nFn2QlGAb1sg"
      }
    },
    {
      "cell_type": "code",
      "source": [
        "print(df['holiday'].value_counts())\n",
        "df['isholiday'] = 0\n",
        "df.loc[df['holiday'] != 'None', 'isholiday'] = 1\n",
        "print(df['isholiday'].value_counts())"
      ],
      "metadata": {
        "colab": {
          "base_uri": "https://localhost:8080/"
        },
        "id": "yrQjsN-Fb1HQ",
        "outputId": "a810dd58-2ce4-4a6a-b158-3cc6a3142c07"
      },
      "execution_count": null,
      "outputs": [
        {
          "output_type": "stream",
          "name": "stdout",
          "text": [
            "None                         48128\n",
            "Labor Day                        7\n",
            "Thanksgiving Day                 6\n",
            "Christmas Day                    6\n",
            "New Years Day                    6\n",
            "Martin Luther King Jr Day        6\n",
            "Columbus Day                     5\n",
            "Veterans Day                     5\n",
            "Washingtons Birthday             5\n",
            "Memorial Day                     5\n",
            "Independence Day                 5\n",
            "State Fair                       5\n",
            "Name: holiday, dtype: int64\n",
            "0    48128\n",
            "1       61\n",
            "Name: isholiday, dtype: int64\n"
          ]
        }
      ]
    },
    {
      "cell_type": "markdown",
      "source": [
        "#### Splitting data"
      ],
      "metadata": {
        "id": "dsYoLwMjcOBA"
      }
    },
    {
      "cell_type": "markdown",
      "source": [
        "##### Datetime\n"
      ],
      "metadata": {
        "id": "LMTo6aj1cDBD"
      }
    },
    {
      "cell_type": "code",
      "source": [
        "df['year'] = df.date_time.dt.year\n",
        "df['month'] = df.date_time.dt.month\n",
        "df['dayofweek'] = df.date_time.dt.dayofweek\n",
        "df['hour'] = df.date_time.dt.hour"
      ],
      "metadata": {
        "id": "qT85YKzRb_2q"
      },
      "execution_count": null,
      "outputs": []
    },
    {
      "cell_type": "markdown",
      "metadata": {
        "id": "I-kkpO2_ZAtA"
      },
      "source": [
        "## Split and build Pipeline\n",
        "\n",
        "We did not use weather description, need to check why"
      ]
    },
    {
      "cell_type": "code",
      "execution_count": null,
      "metadata": {
        "id": "3aIUJzTtZAYr"
      },
      "outputs": [],
      "source": [
        "import numpy\n",
        "numpy.random.seed(28)\n",
        "\n",
        "### Randomly split the data into half training, half testing, Payment as variable outcome\n",
        "from sklearn.model_selection import train_test_split\n",
        "X_train,X_test,y_train,y_test = train_test_split(df,df.traffic_volume,test_size=0.5)\n",
        "\n",
        "\n",
        "### Put features in a list\n",
        "lstNum = ['temp', 'rain_1h_transform', 'clouds_all']\n",
        "lstCat = ['weather_main', 'year', 'month', 'dayofweek','hour', 'isholiday', 'isSnow']\n",
        "\n",
        "from sklearn.pipeline import Pipeline\n",
        "from sklearn.compose import ColumnTransformer\n",
        "from sklearn.preprocessing import StandardScaler\n",
        "\n",
        "### Build a pipeline for the numerical variables that scale\n",
        "pipeNum = Pipeline([\n",
        "    ('selector',ColumnTransformer([('selector','passthrough',lstNum)])),\n",
        "    ('scaler',StandardScaler())\n",
        "])\n",
        "\n",
        "### Build a pipeline for categorical variables\n",
        "from sklearn.preprocessing import OneHotEncoder\n",
        "pipeCat = Pipeline([\n",
        "    ('selector',ColumnTransformer([('selector','passthrough',lstCat)])),\n",
        "    ('encoder', OneHotEncoder(dtype=int, drop='first', sparse_output=False))\n",
        "])\n",
        "\n",
        "### A step to combine the features\n",
        "from sklearn.pipeline import FeatureUnion\n",
        "preprocessor = FeatureUnion([\n",
        "    ('cat',pipeCat),\n",
        "    ('num',pipeNum)\n",
        "])"
      ]
    },
    {
      "cell_type": "markdown",
      "metadata": {
        "id": "Pcupzf9uZm1v"
      },
      "source": [
        "## Model Training"
      ]
    },
    {
      "cell_type": "markdown",
      "metadata": {
        "id": "_UsfK2weZSQg"
      },
      "source": [
        "### Random Forest"
      ]
    },
    {
      "cell_type": "code",
      "execution_count": null,
      "metadata": {
        "id": "xW92TAEXRLaS",
        "colab": {
          "base_uri": "https://localhost:8080/",
          "height": 324
        },
        "outputId": "1de75e8c-e4fd-4c0e-a549-d453fb79d0ee"
      },
      "outputs": [
        {
          "output_type": "stream",
          "name": "stdout",
          "text": [
            "[Pipeline] ...... (step 1 of 2) Processing preprocessor, total=   0.1s\n",
            "[Pipeline] ............. (step 2 of 2) Processing model, total=  22.0s\n"
          ]
        },
        {
          "output_type": "execute_result",
          "data": {
            "text/plain": [
              "Pipeline(steps=[('preprocessor',\n",
              "                 FeatureUnion(transformer_list=[('cat',\n",
              "                                                 Pipeline(steps=[('selector',\n",
              "                                                                  ColumnTransformer(transformers=[('selector',\n",
              "                                                                                                   'passthrough',\n",
              "                                                                                                   ['weather_main',\n",
              "                                                                                                    'year',\n",
              "                                                                                                    'month',\n",
              "                                                                                                    'dayofweek',\n",
              "                                                                                                    'hour',\n",
              "                                                                                                    'isholiday',\n",
              "                                                                                                    'isSnow'])])),\n",
              "                                                                 ('encoder',\n",
              "                                                                  OneHotEncoder(drop='first',\n",
              "                                                                                dtype=<class 'int'>,\n",
              "                                                                                sparse_output=False))])),\n",
              "                                                ('num',\n",
              "                                                 Pipeline(steps=[('selector',\n",
              "                                                                  ColumnTransformer(transformers=[('selector',\n",
              "                                                                                                   'passthrough',\n",
              "                                                                                                   ['temp',\n",
              "                                                                                                    'rain_1h_transform',\n",
              "                                                                                                    'clouds_all'])])),\n",
              "                                                                 ('scaler',\n",
              "                                                                  StandardScaler())]))])),\n",
              "                ('model', RandomForestRegressor())],\n",
              "         verbose=True)"
            ],
            "text/html": [
              "<style>#sk-container-id-1 {color: black;background-color: white;}#sk-container-id-1 pre{padding: 0;}#sk-container-id-1 div.sk-toggleable {background-color: white;}#sk-container-id-1 label.sk-toggleable__label {cursor: pointer;display: block;width: 100%;margin-bottom: 0;padding: 0.3em;box-sizing: border-box;text-align: center;}#sk-container-id-1 label.sk-toggleable__label-arrow:before {content: \"▸\";float: left;margin-right: 0.25em;color: #696969;}#sk-container-id-1 label.sk-toggleable__label-arrow:hover:before {color: black;}#sk-container-id-1 div.sk-estimator:hover label.sk-toggleable__label-arrow:before {color: black;}#sk-container-id-1 div.sk-toggleable__content {max-height: 0;max-width: 0;overflow: hidden;text-align: left;background-color: #f0f8ff;}#sk-container-id-1 div.sk-toggleable__content pre {margin: 0.2em;color: black;border-radius: 0.25em;background-color: #f0f8ff;}#sk-container-id-1 input.sk-toggleable__control:checked~div.sk-toggleable__content {max-height: 200px;max-width: 100%;overflow: auto;}#sk-container-id-1 input.sk-toggleable__control:checked~label.sk-toggleable__label-arrow:before {content: \"▾\";}#sk-container-id-1 div.sk-estimator input.sk-toggleable__control:checked~label.sk-toggleable__label {background-color: #d4ebff;}#sk-container-id-1 div.sk-label input.sk-toggleable__control:checked~label.sk-toggleable__label {background-color: #d4ebff;}#sk-container-id-1 input.sk-hidden--visually {border: 0;clip: rect(1px 1px 1px 1px);clip: rect(1px, 1px, 1px, 1px);height: 1px;margin: -1px;overflow: hidden;padding: 0;position: absolute;width: 1px;}#sk-container-id-1 div.sk-estimator {font-family: monospace;background-color: #f0f8ff;border: 1px dotted black;border-radius: 0.25em;box-sizing: border-box;margin-bottom: 0.5em;}#sk-container-id-1 div.sk-estimator:hover {background-color: #d4ebff;}#sk-container-id-1 div.sk-parallel-item::after {content: \"\";width: 100%;border-bottom: 1px solid gray;flex-grow: 1;}#sk-container-id-1 div.sk-label:hover label.sk-toggleable__label {background-color: #d4ebff;}#sk-container-id-1 div.sk-serial::before {content: \"\";position: absolute;border-left: 1px solid gray;box-sizing: border-box;top: 0;bottom: 0;left: 50%;z-index: 0;}#sk-container-id-1 div.sk-serial {display: flex;flex-direction: column;align-items: center;background-color: white;padding-right: 0.2em;padding-left: 0.2em;position: relative;}#sk-container-id-1 div.sk-item {position: relative;z-index: 1;}#sk-container-id-1 div.sk-parallel {display: flex;align-items: stretch;justify-content: center;background-color: white;position: relative;}#sk-container-id-1 div.sk-item::before, #sk-container-id-1 div.sk-parallel-item::before {content: \"\";position: absolute;border-left: 1px solid gray;box-sizing: border-box;top: 0;bottom: 0;left: 50%;z-index: -1;}#sk-container-id-1 div.sk-parallel-item {display: flex;flex-direction: column;z-index: 1;position: relative;background-color: white;}#sk-container-id-1 div.sk-parallel-item:first-child::after {align-self: flex-end;width: 50%;}#sk-container-id-1 div.sk-parallel-item:last-child::after {align-self: flex-start;width: 50%;}#sk-container-id-1 div.sk-parallel-item:only-child::after {width: 0;}#sk-container-id-1 div.sk-dashed-wrapped {border: 1px dashed gray;margin: 0 0.4em 0.5em 0.4em;box-sizing: border-box;padding-bottom: 0.4em;background-color: white;}#sk-container-id-1 div.sk-label label {font-family: monospace;font-weight: bold;display: inline-block;line-height: 1.2em;}#sk-container-id-1 div.sk-label-container {text-align: center;}#sk-container-id-1 div.sk-container {/* jupyter's `normalize.less` sets `[hidden] { display: none; }` but bootstrap.min.css set `[hidden] { display: none !important; }` so we also need the `!important` here to be able to override the default hidden behavior on the sphinx rendered scikit-learn.org. See: https://github.com/scikit-learn/scikit-learn/issues/21755 */display: inline-block !important;position: relative;}#sk-container-id-1 div.sk-text-repr-fallback {display: none;}</style><div id=\"sk-container-id-1\" class=\"sk-top-container\"><div class=\"sk-text-repr-fallback\"><pre>Pipeline(steps=[(&#x27;preprocessor&#x27;,\n",
              "                 FeatureUnion(transformer_list=[(&#x27;cat&#x27;,\n",
              "                                                 Pipeline(steps=[(&#x27;selector&#x27;,\n",
              "                                                                  ColumnTransformer(transformers=[(&#x27;selector&#x27;,\n",
              "                                                                                                   &#x27;passthrough&#x27;,\n",
              "                                                                                                   [&#x27;weather_main&#x27;,\n",
              "                                                                                                    &#x27;year&#x27;,\n",
              "                                                                                                    &#x27;month&#x27;,\n",
              "                                                                                                    &#x27;dayofweek&#x27;,\n",
              "                                                                                                    &#x27;hour&#x27;,\n",
              "                                                                                                    &#x27;isholiday&#x27;,\n",
              "                                                                                                    &#x27;isSnow&#x27;])])),\n",
              "                                                                 (&#x27;encoder&#x27;,\n",
              "                                                                  OneHotEncoder(drop=&#x27;first&#x27;,\n",
              "                                                                                dtype=&lt;class &#x27;int&#x27;&gt;,\n",
              "                                                                                sparse_output=False))])),\n",
              "                                                (&#x27;num&#x27;,\n",
              "                                                 Pipeline(steps=[(&#x27;selector&#x27;,\n",
              "                                                                  ColumnTransformer(transformers=[(&#x27;selector&#x27;,\n",
              "                                                                                                   &#x27;passthrough&#x27;,\n",
              "                                                                                                   [&#x27;temp&#x27;,\n",
              "                                                                                                    &#x27;rain_1h_transform&#x27;,\n",
              "                                                                                                    &#x27;clouds_all&#x27;])])),\n",
              "                                                                 (&#x27;scaler&#x27;,\n",
              "                                                                  StandardScaler())]))])),\n",
              "                (&#x27;model&#x27;, RandomForestRegressor())],\n",
              "         verbose=True)</pre><b>In a Jupyter environment, please rerun this cell to show the HTML representation or trust the notebook. <br />On GitHub, the HTML representation is unable to render, please try loading this page with nbviewer.org.</b></div><div class=\"sk-container\" hidden><div class=\"sk-item sk-dashed-wrapped\"><div class=\"sk-label-container\"><div class=\"sk-label sk-toggleable\"><input class=\"sk-toggleable__control sk-hidden--visually\" id=\"sk-estimator-id-1\" type=\"checkbox\" ><label for=\"sk-estimator-id-1\" class=\"sk-toggleable__label sk-toggleable__label-arrow\">Pipeline</label><div class=\"sk-toggleable__content\"><pre>Pipeline(steps=[(&#x27;preprocessor&#x27;,\n",
              "                 FeatureUnion(transformer_list=[(&#x27;cat&#x27;,\n",
              "                                                 Pipeline(steps=[(&#x27;selector&#x27;,\n",
              "                                                                  ColumnTransformer(transformers=[(&#x27;selector&#x27;,\n",
              "                                                                                                   &#x27;passthrough&#x27;,\n",
              "                                                                                                   [&#x27;weather_main&#x27;,\n",
              "                                                                                                    &#x27;year&#x27;,\n",
              "                                                                                                    &#x27;month&#x27;,\n",
              "                                                                                                    &#x27;dayofweek&#x27;,\n",
              "                                                                                                    &#x27;hour&#x27;,\n",
              "                                                                                                    &#x27;isholiday&#x27;,\n",
              "                                                                                                    &#x27;isSnow&#x27;])])),\n",
              "                                                                 (&#x27;encoder&#x27;,\n",
              "                                                                  OneHotEncoder(drop=&#x27;first&#x27;,\n",
              "                                                                                dtype=&lt;class &#x27;int&#x27;&gt;,\n",
              "                                                                                sparse_output=False))])),\n",
              "                                                (&#x27;num&#x27;,\n",
              "                                                 Pipeline(steps=[(&#x27;selector&#x27;,\n",
              "                                                                  ColumnTransformer(transformers=[(&#x27;selector&#x27;,\n",
              "                                                                                                   &#x27;passthrough&#x27;,\n",
              "                                                                                                   [&#x27;temp&#x27;,\n",
              "                                                                                                    &#x27;rain_1h_transform&#x27;,\n",
              "                                                                                                    &#x27;clouds_all&#x27;])])),\n",
              "                                                                 (&#x27;scaler&#x27;,\n",
              "                                                                  StandardScaler())]))])),\n",
              "                (&#x27;model&#x27;, RandomForestRegressor())],\n",
              "         verbose=True)</pre></div></div></div><div class=\"sk-serial\"><div class=\"sk-item sk-dashed-wrapped\"><div class=\"sk-label-container\"><div class=\"sk-label sk-toggleable\"><input class=\"sk-toggleable__control sk-hidden--visually\" id=\"sk-estimator-id-2\" type=\"checkbox\" ><label for=\"sk-estimator-id-2\" class=\"sk-toggleable__label sk-toggleable__label-arrow\">preprocessor: FeatureUnion</label><div class=\"sk-toggleable__content\"><pre>FeatureUnion(transformer_list=[(&#x27;cat&#x27;,\n",
              "                                Pipeline(steps=[(&#x27;selector&#x27;,\n",
              "                                                 ColumnTransformer(transformers=[(&#x27;selector&#x27;,\n",
              "                                                                                  &#x27;passthrough&#x27;,\n",
              "                                                                                  [&#x27;weather_main&#x27;,\n",
              "                                                                                   &#x27;year&#x27;,\n",
              "                                                                                   &#x27;month&#x27;,\n",
              "                                                                                   &#x27;dayofweek&#x27;,\n",
              "                                                                                   &#x27;hour&#x27;,\n",
              "                                                                                   &#x27;isholiday&#x27;,\n",
              "                                                                                   &#x27;isSnow&#x27;])])),\n",
              "                                                (&#x27;encoder&#x27;,\n",
              "                                                 OneHotEncoder(drop=&#x27;first&#x27;,\n",
              "                                                               dtype=&lt;class &#x27;int&#x27;&gt;,\n",
              "                                                               sparse_output=False))])),\n",
              "                               (&#x27;num&#x27;,\n",
              "                                Pipeline(steps=[(&#x27;selector&#x27;,\n",
              "                                                 ColumnTransformer(transformers=[(&#x27;selector&#x27;,\n",
              "                                                                                  &#x27;passthrough&#x27;,\n",
              "                                                                                  [&#x27;temp&#x27;,\n",
              "                                                                                   &#x27;rain_1h_transform&#x27;,\n",
              "                                                                                   &#x27;clouds_all&#x27;])])),\n",
              "                                                (&#x27;scaler&#x27;,\n",
              "                                                 StandardScaler())]))])</pre></div></div></div><div class=\"sk-parallel\"><div class=\"sk-parallel-item\"><div class=\"sk-item\"><div class=\"sk-label-container\"><div class=\"sk-label sk-toggleable\"><label>cat</label></div></div><div class=\"sk-serial\"><div class=\"sk-item\"><div class=\"sk-serial\"><div class=\"sk-item sk-dashed-wrapped\"><div class=\"sk-label-container\"><div class=\"sk-label sk-toggleable\"><input class=\"sk-toggleable__control sk-hidden--visually\" id=\"sk-estimator-id-3\" type=\"checkbox\" ><label for=\"sk-estimator-id-3\" class=\"sk-toggleable__label sk-toggleable__label-arrow\">selector: ColumnTransformer</label><div class=\"sk-toggleable__content\"><pre>ColumnTransformer(transformers=[(&#x27;selector&#x27;, &#x27;passthrough&#x27;,\n",
              "                                 [&#x27;weather_main&#x27;, &#x27;year&#x27;, &#x27;month&#x27;, &#x27;dayofweek&#x27;,\n",
              "                                  &#x27;hour&#x27;, &#x27;isholiday&#x27;, &#x27;isSnow&#x27;])])</pre></div></div></div><div class=\"sk-parallel\"><div class=\"sk-parallel-item\"><div class=\"sk-item\"><div class=\"sk-label-container\"><div class=\"sk-label sk-toggleable\"><input class=\"sk-toggleable__control sk-hidden--visually\" id=\"sk-estimator-id-4\" type=\"checkbox\" ><label for=\"sk-estimator-id-4\" class=\"sk-toggleable__label sk-toggleable__label-arrow\">selector</label><div class=\"sk-toggleable__content\"><pre>[&#x27;weather_main&#x27;, &#x27;year&#x27;, &#x27;month&#x27;, &#x27;dayofweek&#x27;, &#x27;hour&#x27;, &#x27;isholiday&#x27;, &#x27;isSnow&#x27;]</pre></div></div></div><div class=\"sk-serial\"><div class=\"sk-item\"><div class=\"sk-estimator sk-toggleable\"><input class=\"sk-toggleable__control sk-hidden--visually\" id=\"sk-estimator-id-5\" type=\"checkbox\" ><label for=\"sk-estimator-id-5\" class=\"sk-toggleable__label sk-toggleable__label-arrow\">passthrough</label><div class=\"sk-toggleable__content\"><pre>passthrough</pre></div></div></div></div></div></div></div></div><div class=\"sk-item\"><div class=\"sk-estimator sk-toggleable\"><input class=\"sk-toggleable__control sk-hidden--visually\" id=\"sk-estimator-id-6\" type=\"checkbox\" ><label for=\"sk-estimator-id-6\" class=\"sk-toggleable__label sk-toggleable__label-arrow\">OneHotEncoder</label><div class=\"sk-toggleable__content\"><pre>OneHotEncoder(drop=&#x27;first&#x27;, dtype=&lt;class &#x27;int&#x27;&gt;, sparse_output=False)</pre></div></div></div></div></div></div></div></div><div class=\"sk-parallel-item\"><div class=\"sk-item\"><div class=\"sk-label-container\"><div class=\"sk-label sk-toggleable\"><label>num</label></div></div><div class=\"sk-serial\"><div class=\"sk-item\"><div class=\"sk-serial\"><div class=\"sk-item sk-dashed-wrapped\"><div class=\"sk-label-container\"><div class=\"sk-label sk-toggleable\"><input class=\"sk-toggleable__control sk-hidden--visually\" id=\"sk-estimator-id-7\" type=\"checkbox\" ><label for=\"sk-estimator-id-7\" class=\"sk-toggleable__label sk-toggleable__label-arrow\">selector: ColumnTransformer</label><div class=\"sk-toggleable__content\"><pre>ColumnTransformer(transformers=[(&#x27;selector&#x27;, &#x27;passthrough&#x27;,\n",
              "                                 [&#x27;temp&#x27;, &#x27;rain_1h_transform&#x27;, &#x27;clouds_all&#x27;])])</pre></div></div></div><div class=\"sk-parallel\"><div class=\"sk-parallel-item\"><div class=\"sk-item\"><div class=\"sk-label-container\"><div class=\"sk-label sk-toggleable\"><input class=\"sk-toggleable__control sk-hidden--visually\" id=\"sk-estimator-id-8\" type=\"checkbox\" ><label for=\"sk-estimator-id-8\" class=\"sk-toggleable__label sk-toggleable__label-arrow\">selector</label><div class=\"sk-toggleable__content\"><pre>[&#x27;temp&#x27;, &#x27;rain_1h_transform&#x27;, &#x27;clouds_all&#x27;]</pre></div></div></div><div class=\"sk-serial\"><div class=\"sk-item\"><div class=\"sk-estimator sk-toggleable\"><input class=\"sk-toggleable__control sk-hidden--visually\" id=\"sk-estimator-id-9\" type=\"checkbox\" ><label for=\"sk-estimator-id-9\" class=\"sk-toggleable__label sk-toggleable__label-arrow\">passthrough</label><div class=\"sk-toggleable__content\"><pre>passthrough</pre></div></div></div></div></div></div></div></div><div class=\"sk-item\"><div class=\"sk-estimator sk-toggleable\"><input class=\"sk-toggleable__control sk-hidden--visually\" id=\"sk-estimator-id-10\" type=\"checkbox\" ><label for=\"sk-estimator-id-10\" class=\"sk-toggleable__label sk-toggleable__label-arrow\">StandardScaler</label><div class=\"sk-toggleable__content\"><pre>StandardScaler()</pre></div></div></div></div></div></div></div></div></div></div><div class=\"sk-item\"><div class=\"sk-estimator sk-toggleable\"><input class=\"sk-toggleable__control sk-hidden--visually\" id=\"sk-estimator-id-11\" type=\"checkbox\" ><label for=\"sk-estimator-id-11\" class=\"sk-toggleable__label sk-toggleable__label-arrow\">RandomForestRegressor</label><div class=\"sk-toggleable__content\"><pre>RandomForestRegressor()</pre></div></div></div></div></div></div></div>"
            ]
          },
          "metadata": {},
          "execution_count": 29
        }
      ],
      "source": [
        "from sklearn.ensemble import RandomForestRegressor\n",
        "pipeRf = Pipeline([\n",
        "    ('preprocessor',preprocessor),\n",
        "    ('model',RandomForestRegressor())\n",
        "],verbose=True)\n",
        "\n",
        "pipeRf.fit(X_train,y_train)\n",
        "\n",
        "predTrainRf = pipeRf.predict(X_train)\n",
        "predTestRf = pipeRf.predict(X_test)"
      ]
    },
    {
      "cell_type": "code",
      "execution_count": null,
      "metadata": {
        "id": "HqX-jrL-RKo1",
        "colab": {
          "base_uri": "https://localhost:8080/"
        },
        "outputId": "5375327e-735b-4537-ada3-645ed6881658"
      },
      "outputs": [
        {
          "output_type": "execute_result",
          "data": {
            "text/plain": [
              "0.991398313913515"
            ]
          },
          "metadata": {},
          "execution_count": 30
        },
        {
          "output_type": "stream",
          "name": "stdout",
          "text": [
            "\n",
            "\n"
          ]
        },
        {
          "output_type": "execute_result",
          "data": {
            "text/plain": [
              "0.9422848067821795"
            ]
          },
          "metadata": {},
          "execution_count": 30
        }
      ],
      "source": [
        "import sklearn.metrics\n",
        "sklearn.metrics.r2_score(y_train, predTrainRf)\n",
        "print(\"\\n\")\n",
        "sklearn.metrics.r2_score(y_test, predTestRf)"
      ]
    },
    {
      "cell_type": "markdown",
      "metadata": {
        "id": "rG487j3JZPcc"
      },
      "source": [
        "### Gradient Boosting"
      ]
    },
    {
      "cell_type": "code",
      "execution_count": null,
      "metadata": {
        "id": "PLjziUerD2XP"
      },
      "outputs": [],
      "source": [
        "from sklearn.ensemble import GradientBoostingRegressor\n",
        "\n",
        "pipeGbA = Pipeline([\n",
        "    ('preprocessor',preprocessor),\n",
        "    ('model',GradientBoostingRegressor())\n",
        "],verbose=True)"
      ]
    },
    {
      "cell_type": "code",
      "execution_count": null,
      "metadata": {
        "id": "BtgLtTj3cyzX",
        "colab": {
          "base_uri": "https://localhost:8080/",
          "height": 324
        },
        "outputId": "70e18079-e266-4aa6-e279-1b7c1c3efb23"
      },
      "outputs": [
        {
          "output_type": "stream",
          "name": "stdout",
          "text": [
            "[Pipeline] ...... (step 1 of 2) Processing preprocessor, total=   0.1s\n",
            "[Pipeline] ............. (step 2 of 2) Processing model, total=   3.9s\n"
          ]
        },
        {
          "output_type": "execute_result",
          "data": {
            "text/plain": [
              "Pipeline(steps=[('preprocessor',\n",
              "                 FeatureUnion(transformer_list=[('cat',\n",
              "                                                 Pipeline(steps=[('selector',\n",
              "                                                                  ColumnTransformer(transformers=[('selector',\n",
              "                                                                                                   'passthrough',\n",
              "                                                                                                   ['weather_main',\n",
              "                                                                                                    'year',\n",
              "                                                                                                    'month',\n",
              "                                                                                                    'dayofweek',\n",
              "                                                                                                    'hour',\n",
              "                                                                                                    'isholiday',\n",
              "                                                                                                    'isSnow'])])),\n",
              "                                                                 ('encoder',\n",
              "                                                                  OneHotEncoder(drop='first',\n",
              "                                                                                dtype=<class 'int'>,\n",
              "                                                                                sparse_output=False))])),\n",
              "                                                ('num',\n",
              "                                                 Pipeline(steps=[('selector',\n",
              "                                                                  ColumnTransformer(transformers=[('selector',\n",
              "                                                                                                   'passthrough',\n",
              "                                                                                                   ['temp',\n",
              "                                                                                                    'rain_1h_transform',\n",
              "                                                                                                    'clouds_all'])])),\n",
              "                                                                 ('scaler',\n",
              "                                                                  StandardScaler())]))])),\n",
              "                ('model', GradientBoostingRegressor())],\n",
              "         verbose=True)"
            ],
            "text/html": [
              "<style>#sk-container-id-2 {color: black;background-color: white;}#sk-container-id-2 pre{padding: 0;}#sk-container-id-2 div.sk-toggleable {background-color: white;}#sk-container-id-2 label.sk-toggleable__label {cursor: pointer;display: block;width: 100%;margin-bottom: 0;padding: 0.3em;box-sizing: border-box;text-align: center;}#sk-container-id-2 label.sk-toggleable__label-arrow:before {content: \"▸\";float: left;margin-right: 0.25em;color: #696969;}#sk-container-id-2 label.sk-toggleable__label-arrow:hover:before {color: black;}#sk-container-id-2 div.sk-estimator:hover label.sk-toggleable__label-arrow:before {color: black;}#sk-container-id-2 div.sk-toggleable__content {max-height: 0;max-width: 0;overflow: hidden;text-align: left;background-color: #f0f8ff;}#sk-container-id-2 div.sk-toggleable__content pre {margin: 0.2em;color: black;border-radius: 0.25em;background-color: #f0f8ff;}#sk-container-id-2 input.sk-toggleable__control:checked~div.sk-toggleable__content {max-height: 200px;max-width: 100%;overflow: auto;}#sk-container-id-2 input.sk-toggleable__control:checked~label.sk-toggleable__label-arrow:before {content: \"▾\";}#sk-container-id-2 div.sk-estimator input.sk-toggleable__control:checked~label.sk-toggleable__label {background-color: #d4ebff;}#sk-container-id-2 div.sk-label input.sk-toggleable__control:checked~label.sk-toggleable__label {background-color: #d4ebff;}#sk-container-id-2 input.sk-hidden--visually {border: 0;clip: rect(1px 1px 1px 1px);clip: rect(1px, 1px, 1px, 1px);height: 1px;margin: -1px;overflow: hidden;padding: 0;position: absolute;width: 1px;}#sk-container-id-2 div.sk-estimator {font-family: monospace;background-color: #f0f8ff;border: 1px dotted black;border-radius: 0.25em;box-sizing: border-box;margin-bottom: 0.5em;}#sk-container-id-2 div.sk-estimator:hover {background-color: #d4ebff;}#sk-container-id-2 div.sk-parallel-item::after {content: \"\";width: 100%;border-bottom: 1px solid gray;flex-grow: 1;}#sk-container-id-2 div.sk-label:hover label.sk-toggleable__label {background-color: #d4ebff;}#sk-container-id-2 div.sk-serial::before {content: \"\";position: absolute;border-left: 1px solid gray;box-sizing: border-box;top: 0;bottom: 0;left: 50%;z-index: 0;}#sk-container-id-2 div.sk-serial {display: flex;flex-direction: column;align-items: center;background-color: white;padding-right: 0.2em;padding-left: 0.2em;position: relative;}#sk-container-id-2 div.sk-item {position: relative;z-index: 1;}#sk-container-id-2 div.sk-parallel {display: flex;align-items: stretch;justify-content: center;background-color: white;position: relative;}#sk-container-id-2 div.sk-item::before, #sk-container-id-2 div.sk-parallel-item::before {content: \"\";position: absolute;border-left: 1px solid gray;box-sizing: border-box;top: 0;bottom: 0;left: 50%;z-index: -1;}#sk-container-id-2 div.sk-parallel-item {display: flex;flex-direction: column;z-index: 1;position: relative;background-color: white;}#sk-container-id-2 div.sk-parallel-item:first-child::after {align-self: flex-end;width: 50%;}#sk-container-id-2 div.sk-parallel-item:last-child::after {align-self: flex-start;width: 50%;}#sk-container-id-2 div.sk-parallel-item:only-child::after {width: 0;}#sk-container-id-2 div.sk-dashed-wrapped {border: 1px dashed gray;margin: 0 0.4em 0.5em 0.4em;box-sizing: border-box;padding-bottom: 0.4em;background-color: white;}#sk-container-id-2 div.sk-label label {font-family: monospace;font-weight: bold;display: inline-block;line-height: 1.2em;}#sk-container-id-2 div.sk-label-container {text-align: center;}#sk-container-id-2 div.sk-container {/* jupyter's `normalize.less` sets `[hidden] { display: none; }` but bootstrap.min.css set `[hidden] { display: none !important; }` so we also need the `!important` here to be able to override the default hidden behavior on the sphinx rendered scikit-learn.org. See: https://github.com/scikit-learn/scikit-learn/issues/21755 */display: inline-block !important;position: relative;}#sk-container-id-2 div.sk-text-repr-fallback {display: none;}</style><div id=\"sk-container-id-2\" class=\"sk-top-container\"><div class=\"sk-text-repr-fallback\"><pre>Pipeline(steps=[(&#x27;preprocessor&#x27;,\n",
              "                 FeatureUnion(transformer_list=[(&#x27;cat&#x27;,\n",
              "                                                 Pipeline(steps=[(&#x27;selector&#x27;,\n",
              "                                                                  ColumnTransformer(transformers=[(&#x27;selector&#x27;,\n",
              "                                                                                                   &#x27;passthrough&#x27;,\n",
              "                                                                                                   [&#x27;weather_main&#x27;,\n",
              "                                                                                                    &#x27;year&#x27;,\n",
              "                                                                                                    &#x27;month&#x27;,\n",
              "                                                                                                    &#x27;dayofweek&#x27;,\n",
              "                                                                                                    &#x27;hour&#x27;,\n",
              "                                                                                                    &#x27;isholiday&#x27;,\n",
              "                                                                                                    &#x27;isSnow&#x27;])])),\n",
              "                                                                 (&#x27;encoder&#x27;,\n",
              "                                                                  OneHotEncoder(drop=&#x27;first&#x27;,\n",
              "                                                                                dtype=&lt;class &#x27;int&#x27;&gt;,\n",
              "                                                                                sparse_output=False))])),\n",
              "                                                (&#x27;num&#x27;,\n",
              "                                                 Pipeline(steps=[(&#x27;selector&#x27;,\n",
              "                                                                  ColumnTransformer(transformers=[(&#x27;selector&#x27;,\n",
              "                                                                                                   &#x27;passthrough&#x27;,\n",
              "                                                                                                   [&#x27;temp&#x27;,\n",
              "                                                                                                    &#x27;rain_1h_transform&#x27;,\n",
              "                                                                                                    &#x27;clouds_all&#x27;])])),\n",
              "                                                                 (&#x27;scaler&#x27;,\n",
              "                                                                  StandardScaler())]))])),\n",
              "                (&#x27;model&#x27;, GradientBoostingRegressor())],\n",
              "         verbose=True)</pre><b>In a Jupyter environment, please rerun this cell to show the HTML representation or trust the notebook. <br />On GitHub, the HTML representation is unable to render, please try loading this page with nbviewer.org.</b></div><div class=\"sk-container\" hidden><div class=\"sk-item sk-dashed-wrapped\"><div class=\"sk-label-container\"><div class=\"sk-label sk-toggleable\"><input class=\"sk-toggleable__control sk-hidden--visually\" id=\"sk-estimator-id-12\" type=\"checkbox\" ><label for=\"sk-estimator-id-12\" class=\"sk-toggleable__label sk-toggleable__label-arrow\">Pipeline</label><div class=\"sk-toggleable__content\"><pre>Pipeline(steps=[(&#x27;preprocessor&#x27;,\n",
              "                 FeatureUnion(transformer_list=[(&#x27;cat&#x27;,\n",
              "                                                 Pipeline(steps=[(&#x27;selector&#x27;,\n",
              "                                                                  ColumnTransformer(transformers=[(&#x27;selector&#x27;,\n",
              "                                                                                                   &#x27;passthrough&#x27;,\n",
              "                                                                                                   [&#x27;weather_main&#x27;,\n",
              "                                                                                                    &#x27;year&#x27;,\n",
              "                                                                                                    &#x27;month&#x27;,\n",
              "                                                                                                    &#x27;dayofweek&#x27;,\n",
              "                                                                                                    &#x27;hour&#x27;,\n",
              "                                                                                                    &#x27;isholiday&#x27;,\n",
              "                                                                                                    &#x27;isSnow&#x27;])])),\n",
              "                                                                 (&#x27;encoder&#x27;,\n",
              "                                                                  OneHotEncoder(drop=&#x27;first&#x27;,\n",
              "                                                                                dtype=&lt;class &#x27;int&#x27;&gt;,\n",
              "                                                                                sparse_output=False))])),\n",
              "                                                (&#x27;num&#x27;,\n",
              "                                                 Pipeline(steps=[(&#x27;selector&#x27;,\n",
              "                                                                  ColumnTransformer(transformers=[(&#x27;selector&#x27;,\n",
              "                                                                                                   &#x27;passthrough&#x27;,\n",
              "                                                                                                   [&#x27;temp&#x27;,\n",
              "                                                                                                    &#x27;rain_1h_transform&#x27;,\n",
              "                                                                                                    &#x27;clouds_all&#x27;])])),\n",
              "                                                                 (&#x27;scaler&#x27;,\n",
              "                                                                  StandardScaler())]))])),\n",
              "                (&#x27;model&#x27;, GradientBoostingRegressor())],\n",
              "         verbose=True)</pre></div></div></div><div class=\"sk-serial\"><div class=\"sk-item sk-dashed-wrapped\"><div class=\"sk-label-container\"><div class=\"sk-label sk-toggleable\"><input class=\"sk-toggleable__control sk-hidden--visually\" id=\"sk-estimator-id-13\" type=\"checkbox\" ><label for=\"sk-estimator-id-13\" class=\"sk-toggleable__label sk-toggleable__label-arrow\">preprocessor: FeatureUnion</label><div class=\"sk-toggleable__content\"><pre>FeatureUnion(transformer_list=[(&#x27;cat&#x27;,\n",
              "                                Pipeline(steps=[(&#x27;selector&#x27;,\n",
              "                                                 ColumnTransformer(transformers=[(&#x27;selector&#x27;,\n",
              "                                                                                  &#x27;passthrough&#x27;,\n",
              "                                                                                  [&#x27;weather_main&#x27;,\n",
              "                                                                                   &#x27;year&#x27;,\n",
              "                                                                                   &#x27;month&#x27;,\n",
              "                                                                                   &#x27;dayofweek&#x27;,\n",
              "                                                                                   &#x27;hour&#x27;,\n",
              "                                                                                   &#x27;isholiday&#x27;,\n",
              "                                                                                   &#x27;isSnow&#x27;])])),\n",
              "                                                (&#x27;encoder&#x27;,\n",
              "                                                 OneHotEncoder(drop=&#x27;first&#x27;,\n",
              "                                                               dtype=&lt;class &#x27;int&#x27;&gt;,\n",
              "                                                               sparse_output=False))])),\n",
              "                               (&#x27;num&#x27;,\n",
              "                                Pipeline(steps=[(&#x27;selector&#x27;,\n",
              "                                                 ColumnTransformer(transformers=[(&#x27;selector&#x27;,\n",
              "                                                                                  &#x27;passthrough&#x27;,\n",
              "                                                                                  [&#x27;temp&#x27;,\n",
              "                                                                                   &#x27;rain_1h_transform&#x27;,\n",
              "                                                                                   &#x27;clouds_all&#x27;])])),\n",
              "                                                (&#x27;scaler&#x27;,\n",
              "                                                 StandardScaler())]))])</pre></div></div></div><div class=\"sk-parallel\"><div class=\"sk-parallel-item\"><div class=\"sk-item\"><div class=\"sk-label-container\"><div class=\"sk-label sk-toggleable\"><label>cat</label></div></div><div class=\"sk-serial\"><div class=\"sk-item\"><div class=\"sk-serial\"><div class=\"sk-item sk-dashed-wrapped\"><div class=\"sk-label-container\"><div class=\"sk-label sk-toggleable\"><input class=\"sk-toggleable__control sk-hidden--visually\" id=\"sk-estimator-id-14\" type=\"checkbox\" ><label for=\"sk-estimator-id-14\" class=\"sk-toggleable__label sk-toggleable__label-arrow\">selector: ColumnTransformer</label><div class=\"sk-toggleable__content\"><pre>ColumnTransformer(transformers=[(&#x27;selector&#x27;, &#x27;passthrough&#x27;,\n",
              "                                 [&#x27;weather_main&#x27;, &#x27;year&#x27;, &#x27;month&#x27;, &#x27;dayofweek&#x27;,\n",
              "                                  &#x27;hour&#x27;, &#x27;isholiday&#x27;, &#x27;isSnow&#x27;])])</pre></div></div></div><div class=\"sk-parallel\"><div class=\"sk-parallel-item\"><div class=\"sk-item\"><div class=\"sk-label-container\"><div class=\"sk-label sk-toggleable\"><input class=\"sk-toggleable__control sk-hidden--visually\" id=\"sk-estimator-id-15\" type=\"checkbox\" ><label for=\"sk-estimator-id-15\" class=\"sk-toggleable__label sk-toggleable__label-arrow\">selector</label><div class=\"sk-toggleable__content\"><pre>[&#x27;weather_main&#x27;, &#x27;year&#x27;, &#x27;month&#x27;, &#x27;dayofweek&#x27;, &#x27;hour&#x27;, &#x27;isholiday&#x27;, &#x27;isSnow&#x27;]</pre></div></div></div><div class=\"sk-serial\"><div class=\"sk-item\"><div class=\"sk-estimator sk-toggleable\"><input class=\"sk-toggleable__control sk-hidden--visually\" id=\"sk-estimator-id-16\" type=\"checkbox\" ><label for=\"sk-estimator-id-16\" class=\"sk-toggleable__label sk-toggleable__label-arrow\">passthrough</label><div class=\"sk-toggleable__content\"><pre>passthrough</pre></div></div></div></div></div></div></div></div><div class=\"sk-item\"><div class=\"sk-estimator sk-toggleable\"><input class=\"sk-toggleable__control sk-hidden--visually\" id=\"sk-estimator-id-17\" type=\"checkbox\" ><label for=\"sk-estimator-id-17\" class=\"sk-toggleable__label sk-toggleable__label-arrow\">OneHotEncoder</label><div class=\"sk-toggleable__content\"><pre>OneHotEncoder(drop=&#x27;first&#x27;, dtype=&lt;class &#x27;int&#x27;&gt;, sparse_output=False)</pre></div></div></div></div></div></div></div></div><div class=\"sk-parallel-item\"><div class=\"sk-item\"><div class=\"sk-label-container\"><div class=\"sk-label sk-toggleable\"><label>num</label></div></div><div class=\"sk-serial\"><div class=\"sk-item\"><div class=\"sk-serial\"><div class=\"sk-item sk-dashed-wrapped\"><div class=\"sk-label-container\"><div class=\"sk-label sk-toggleable\"><input class=\"sk-toggleable__control sk-hidden--visually\" id=\"sk-estimator-id-18\" type=\"checkbox\" ><label for=\"sk-estimator-id-18\" class=\"sk-toggleable__label sk-toggleable__label-arrow\">selector: ColumnTransformer</label><div class=\"sk-toggleable__content\"><pre>ColumnTransformer(transformers=[(&#x27;selector&#x27;, &#x27;passthrough&#x27;,\n",
              "                                 [&#x27;temp&#x27;, &#x27;rain_1h_transform&#x27;, &#x27;clouds_all&#x27;])])</pre></div></div></div><div class=\"sk-parallel\"><div class=\"sk-parallel-item\"><div class=\"sk-item\"><div class=\"sk-label-container\"><div class=\"sk-label sk-toggleable\"><input class=\"sk-toggleable__control sk-hidden--visually\" id=\"sk-estimator-id-19\" type=\"checkbox\" ><label for=\"sk-estimator-id-19\" class=\"sk-toggleable__label sk-toggleable__label-arrow\">selector</label><div class=\"sk-toggleable__content\"><pre>[&#x27;temp&#x27;, &#x27;rain_1h_transform&#x27;, &#x27;clouds_all&#x27;]</pre></div></div></div><div class=\"sk-serial\"><div class=\"sk-item\"><div class=\"sk-estimator sk-toggleable\"><input class=\"sk-toggleable__control sk-hidden--visually\" id=\"sk-estimator-id-20\" type=\"checkbox\" ><label for=\"sk-estimator-id-20\" class=\"sk-toggleable__label sk-toggleable__label-arrow\">passthrough</label><div class=\"sk-toggleable__content\"><pre>passthrough</pre></div></div></div></div></div></div></div></div><div class=\"sk-item\"><div class=\"sk-estimator sk-toggleable\"><input class=\"sk-toggleable__control sk-hidden--visually\" id=\"sk-estimator-id-21\" type=\"checkbox\" ><label for=\"sk-estimator-id-21\" class=\"sk-toggleable__label sk-toggleable__label-arrow\">StandardScaler</label><div class=\"sk-toggleable__content\"><pre>StandardScaler()</pre></div></div></div></div></div></div></div></div></div></div><div class=\"sk-item\"><div class=\"sk-estimator sk-toggleable\"><input class=\"sk-toggleable__control sk-hidden--visually\" id=\"sk-estimator-id-22\" type=\"checkbox\" ><label for=\"sk-estimator-id-22\" class=\"sk-toggleable__label sk-toggleable__label-arrow\">GradientBoostingRegressor</label><div class=\"sk-toggleable__content\"><pre>GradientBoostingRegressor()</pre></div></div></div></div></div></div></div>"
            ]
          },
          "metadata": {},
          "execution_count": 32
        }
      ],
      "source": [
        "#code just to try run the pipeline once\n",
        "pipeGbA.fit( X_train, y_train)\n",
        "predTrainGbA = pipeGbA.predict( X_train )\n",
        "predTestGbA = pipeGbA.predict( X_test )"
      ]
    },
    {
      "cell_type": "code",
      "execution_count": null,
      "metadata": {
        "id": "ZuO0dkEtc7L3",
        "colab": {
          "base_uri": "https://localhost:8080/"
        },
        "outputId": "4b34dbd5-9dd4-42e3-945b-56ba52014425"
      },
      "outputs": [
        {
          "output_type": "execute_result",
          "data": {
            "text/plain": [
              "0.824050296664168"
            ]
          },
          "metadata": {},
          "execution_count": 33
        },
        {
          "output_type": "stream",
          "name": "stdout",
          "text": [
            "\n",
            "\n"
          ]
        },
        {
          "output_type": "execute_result",
          "data": {
            "text/plain": [
              "0.8233219034692995"
            ]
          },
          "metadata": {},
          "execution_count": 33
        }
      ],
      "source": [
        "sklearn.metrics.r2_score( y_train, predTrainGbA )\n",
        "print(\"\\n\")\n",
        "sklearn.metrics.r2_score( y_test, predTestGbA )"
      ]
    },
    {
      "cell_type": "markdown",
      "metadata": {
        "id": "mk2f_gc1ZhIz"
      },
      "source": [
        "### Neural Networks"
      ]
    },
    {
      "cell_type": "markdown",
      "source": [
        "#### Neural Network with with 2 hidden layer with 10 nodes each"
      ],
      "metadata": {
        "id": "IYGnYaC3eLM-"
      }
    },
    {
      "cell_type": "code",
      "source": [
        "from sklearn.neural_network import MLPRegressor\n",
        "pipeNn1010 = Pipeline([\n",
        "    ('preprocessor',preprocessor),\n",
        "    ('model',MLPRegressor(hidden_layer_sizes=(10,10)))\n",
        "],verbose = True)\n",
        "\n",
        "\n",
        "pipeNn1010.fit(X_train,y_train)\n",
        "\n",
        "predTrainNn1010 = pipeNn1010.predict(X_train)\n",
        "predTestNn1010 = pipeNn1010.predict(X_test)\n"
      ],
      "metadata": {
        "colab": {
          "base_uri": "https://localhost:8080/",
          "height": 361
        },
        "id": "Xz3BsMweEagI",
        "outputId": "6e2ede28-3ff0-4530-dc58-661986e788b1"
      },
      "execution_count": null,
      "outputs": [
        {
          "output_type": "stream",
          "name": "stdout",
          "text": [
            "[Pipeline] ...... (step 1 of 2) Processing preprocessor, total=   0.1s\n",
            "[Pipeline] ............. (step 2 of 2) Processing model, total=  13.8s\n"
          ]
        },
        {
          "output_type": "stream",
          "name": "stderr",
          "text": [
            "/usr/local/lib/python3.10/dist-packages/sklearn/neural_network/_multilayer_perceptron.py:686: ConvergenceWarning: Stochastic Optimizer: Maximum iterations (200) reached and the optimization hasn't converged yet.\n",
            "  warnings.warn(\n"
          ]
        },
        {
          "output_type": "execute_result",
          "data": {
            "text/plain": [
              "Pipeline(steps=[('preprocessor',\n",
              "                 FeatureUnion(transformer_list=[('cat',\n",
              "                                                 Pipeline(steps=[('selector',\n",
              "                                                                  ColumnTransformer(transformers=[('selector',\n",
              "                                                                                                   'passthrough',\n",
              "                                                                                                   ['weather_main',\n",
              "                                                                                                    'year',\n",
              "                                                                                                    'month',\n",
              "                                                                                                    'dayofweek',\n",
              "                                                                                                    'hour',\n",
              "                                                                                                    'isholiday',\n",
              "                                                                                                    'isSnow'])])),\n",
              "                                                                 ('encoder',\n",
              "                                                                  OneHotEncoder(drop='first',\n",
              "                                                                                dtype=<class 'int'>,\n",
              "                                                                                sparse_output=False))])),\n",
              "                                                ('num',\n",
              "                                                 Pipeline(steps=[('selector',\n",
              "                                                                  ColumnTransformer(transformers=[('selector',\n",
              "                                                                                                   'passthrough',\n",
              "                                                                                                   ['temp',\n",
              "                                                                                                    'rain_1h_transform',\n",
              "                                                                                                    'clouds_all'])])),\n",
              "                                                                 ('scaler',\n",
              "                                                                  StandardScaler())]))])),\n",
              "                ('model', MLPRegressor(hidden_layer_sizes=(10, 10)))],\n",
              "         verbose=True)"
            ],
            "text/html": [
              "<style>#sk-container-id-3 {color: black;background-color: white;}#sk-container-id-3 pre{padding: 0;}#sk-container-id-3 div.sk-toggleable {background-color: white;}#sk-container-id-3 label.sk-toggleable__label {cursor: pointer;display: block;width: 100%;margin-bottom: 0;padding: 0.3em;box-sizing: border-box;text-align: center;}#sk-container-id-3 label.sk-toggleable__label-arrow:before {content: \"▸\";float: left;margin-right: 0.25em;color: #696969;}#sk-container-id-3 label.sk-toggleable__label-arrow:hover:before {color: black;}#sk-container-id-3 div.sk-estimator:hover label.sk-toggleable__label-arrow:before {color: black;}#sk-container-id-3 div.sk-toggleable__content {max-height: 0;max-width: 0;overflow: hidden;text-align: left;background-color: #f0f8ff;}#sk-container-id-3 div.sk-toggleable__content pre {margin: 0.2em;color: black;border-radius: 0.25em;background-color: #f0f8ff;}#sk-container-id-3 input.sk-toggleable__control:checked~div.sk-toggleable__content {max-height: 200px;max-width: 100%;overflow: auto;}#sk-container-id-3 input.sk-toggleable__control:checked~label.sk-toggleable__label-arrow:before {content: \"▾\";}#sk-container-id-3 div.sk-estimator input.sk-toggleable__control:checked~label.sk-toggleable__label {background-color: #d4ebff;}#sk-container-id-3 div.sk-label input.sk-toggleable__control:checked~label.sk-toggleable__label {background-color: #d4ebff;}#sk-container-id-3 input.sk-hidden--visually {border: 0;clip: rect(1px 1px 1px 1px);clip: rect(1px, 1px, 1px, 1px);height: 1px;margin: -1px;overflow: hidden;padding: 0;position: absolute;width: 1px;}#sk-container-id-3 div.sk-estimator {font-family: monospace;background-color: #f0f8ff;border: 1px dotted black;border-radius: 0.25em;box-sizing: border-box;margin-bottom: 0.5em;}#sk-container-id-3 div.sk-estimator:hover {background-color: #d4ebff;}#sk-container-id-3 div.sk-parallel-item::after {content: \"\";width: 100%;border-bottom: 1px solid gray;flex-grow: 1;}#sk-container-id-3 div.sk-label:hover label.sk-toggleable__label {background-color: #d4ebff;}#sk-container-id-3 div.sk-serial::before {content: \"\";position: absolute;border-left: 1px solid gray;box-sizing: border-box;top: 0;bottom: 0;left: 50%;z-index: 0;}#sk-container-id-3 div.sk-serial {display: flex;flex-direction: column;align-items: center;background-color: white;padding-right: 0.2em;padding-left: 0.2em;position: relative;}#sk-container-id-3 div.sk-item {position: relative;z-index: 1;}#sk-container-id-3 div.sk-parallel {display: flex;align-items: stretch;justify-content: center;background-color: white;position: relative;}#sk-container-id-3 div.sk-item::before, #sk-container-id-3 div.sk-parallel-item::before {content: \"\";position: absolute;border-left: 1px solid gray;box-sizing: border-box;top: 0;bottom: 0;left: 50%;z-index: -1;}#sk-container-id-3 div.sk-parallel-item {display: flex;flex-direction: column;z-index: 1;position: relative;background-color: white;}#sk-container-id-3 div.sk-parallel-item:first-child::after {align-self: flex-end;width: 50%;}#sk-container-id-3 div.sk-parallel-item:last-child::after {align-self: flex-start;width: 50%;}#sk-container-id-3 div.sk-parallel-item:only-child::after {width: 0;}#sk-container-id-3 div.sk-dashed-wrapped {border: 1px dashed gray;margin: 0 0.4em 0.5em 0.4em;box-sizing: border-box;padding-bottom: 0.4em;background-color: white;}#sk-container-id-3 div.sk-label label {font-family: monospace;font-weight: bold;display: inline-block;line-height: 1.2em;}#sk-container-id-3 div.sk-label-container {text-align: center;}#sk-container-id-3 div.sk-container {/* jupyter's `normalize.less` sets `[hidden] { display: none; }` but bootstrap.min.css set `[hidden] { display: none !important; }` so we also need the `!important` here to be able to override the default hidden behavior on the sphinx rendered scikit-learn.org. See: https://github.com/scikit-learn/scikit-learn/issues/21755 */display: inline-block !important;position: relative;}#sk-container-id-3 div.sk-text-repr-fallback {display: none;}</style><div id=\"sk-container-id-3\" class=\"sk-top-container\"><div class=\"sk-text-repr-fallback\"><pre>Pipeline(steps=[(&#x27;preprocessor&#x27;,\n",
              "                 FeatureUnion(transformer_list=[(&#x27;cat&#x27;,\n",
              "                                                 Pipeline(steps=[(&#x27;selector&#x27;,\n",
              "                                                                  ColumnTransformer(transformers=[(&#x27;selector&#x27;,\n",
              "                                                                                                   &#x27;passthrough&#x27;,\n",
              "                                                                                                   [&#x27;weather_main&#x27;,\n",
              "                                                                                                    &#x27;year&#x27;,\n",
              "                                                                                                    &#x27;month&#x27;,\n",
              "                                                                                                    &#x27;dayofweek&#x27;,\n",
              "                                                                                                    &#x27;hour&#x27;,\n",
              "                                                                                                    &#x27;isholiday&#x27;,\n",
              "                                                                                                    &#x27;isSnow&#x27;])])),\n",
              "                                                                 (&#x27;encoder&#x27;,\n",
              "                                                                  OneHotEncoder(drop=&#x27;first&#x27;,\n",
              "                                                                                dtype=&lt;class &#x27;int&#x27;&gt;,\n",
              "                                                                                sparse_output=False))])),\n",
              "                                                (&#x27;num&#x27;,\n",
              "                                                 Pipeline(steps=[(&#x27;selector&#x27;,\n",
              "                                                                  ColumnTransformer(transformers=[(&#x27;selector&#x27;,\n",
              "                                                                                                   &#x27;passthrough&#x27;,\n",
              "                                                                                                   [&#x27;temp&#x27;,\n",
              "                                                                                                    &#x27;rain_1h_transform&#x27;,\n",
              "                                                                                                    &#x27;clouds_all&#x27;])])),\n",
              "                                                                 (&#x27;scaler&#x27;,\n",
              "                                                                  StandardScaler())]))])),\n",
              "                (&#x27;model&#x27;, MLPRegressor(hidden_layer_sizes=(10, 10)))],\n",
              "         verbose=True)</pre><b>In a Jupyter environment, please rerun this cell to show the HTML representation or trust the notebook. <br />On GitHub, the HTML representation is unable to render, please try loading this page with nbviewer.org.</b></div><div class=\"sk-container\" hidden><div class=\"sk-item sk-dashed-wrapped\"><div class=\"sk-label-container\"><div class=\"sk-label sk-toggleable\"><input class=\"sk-toggleable__control sk-hidden--visually\" id=\"sk-estimator-id-23\" type=\"checkbox\" ><label for=\"sk-estimator-id-23\" class=\"sk-toggleable__label sk-toggleable__label-arrow\">Pipeline</label><div class=\"sk-toggleable__content\"><pre>Pipeline(steps=[(&#x27;preprocessor&#x27;,\n",
              "                 FeatureUnion(transformer_list=[(&#x27;cat&#x27;,\n",
              "                                                 Pipeline(steps=[(&#x27;selector&#x27;,\n",
              "                                                                  ColumnTransformer(transformers=[(&#x27;selector&#x27;,\n",
              "                                                                                                   &#x27;passthrough&#x27;,\n",
              "                                                                                                   [&#x27;weather_main&#x27;,\n",
              "                                                                                                    &#x27;year&#x27;,\n",
              "                                                                                                    &#x27;month&#x27;,\n",
              "                                                                                                    &#x27;dayofweek&#x27;,\n",
              "                                                                                                    &#x27;hour&#x27;,\n",
              "                                                                                                    &#x27;isholiday&#x27;,\n",
              "                                                                                                    &#x27;isSnow&#x27;])])),\n",
              "                                                                 (&#x27;encoder&#x27;,\n",
              "                                                                  OneHotEncoder(drop=&#x27;first&#x27;,\n",
              "                                                                                dtype=&lt;class &#x27;int&#x27;&gt;,\n",
              "                                                                                sparse_output=False))])),\n",
              "                                                (&#x27;num&#x27;,\n",
              "                                                 Pipeline(steps=[(&#x27;selector&#x27;,\n",
              "                                                                  ColumnTransformer(transformers=[(&#x27;selector&#x27;,\n",
              "                                                                                                   &#x27;passthrough&#x27;,\n",
              "                                                                                                   [&#x27;temp&#x27;,\n",
              "                                                                                                    &#x27;rain_1h_transform&#x27;,\n",
              "                                                                                                    &#x27;clouds_all&#x27;])])),\n",
              "                                                                 (&#x27;scaler&#x27;,\n",
              "                                                                  StandardScaler())]))])),\n",
              "                (&#x27;model&#x27;, MLPRegressor(hidden_layer_sizes=(10, 10)))],\n",
              "         verbose=True)</pre></div></div></div><div class=\"sk-serial\"><div class=\"sk-item sk-dashed-wrapped\"><div class=\"sk-label-container\"><div class=\"sk-label sk-toggleable\"><input class=\"sk-toggleable__control sk-hidden--visually\" id=\"sk-estimator-id-24\" type=\"checkbox\" ><label for=\"sk-estimator-id-24\" class=\"sk-toggleable__label sk-toggleable__label-arrow\">preprocessor: FeatureUnion</label><div class=\"sk-toggleable__content\"><pre>FeatureUnion(transformer_list=[(&#x27;cat&#x27;,\n",
              "                                Pipeline(steps=[(&#x27;selector&#x27;,\n",
              "                                                 ColumnTransformer(transformers=[(&#x27;selector&#x27;,\n",
              "                                                                                  &#x27;passthrough&#x27;,\n",
              "                                                                                  [&#x27;weather_main&#x27;,\n",
              "                                                                                   &#x27;year&#x27;,\n",
              "                                                                                   &#x27;month&#x27;,\n",
              "                                                                                   &#x27;dayofweek&#x27;,\n",
              "                                                                                   &#x27;hour&#x27;,\n",
              "                                                                                   &#x27;isholiday&#x27;,\n",
              "                                                                                   &#x27;isSnow&#x27;])])),\n",
              "                                                (&#x27;encoder&#x27;,\n",
              "                                                 OneHotEncoder(drop=&#x27;first&#x27;,\n",
              "                                                               dtype=&lt;class &#x27;int&#x27;&gt;,\n",
              "                                                               sparse_output=False))])),\n",
              "                               (&#x27;num&#x27;,\n",
              "                                Pipeline(steps=[(&#x27;selector&#x27;,\n",
              "                                                 ColumnTransformer(transformers=[(&#x27;selector&#x27;,\n",
              "                                                                                  &#x27;passthrough&#x27;,\n",
              "                                                                                  [&#x27;temp&#x27;,\n",
              "                                                                                   &#x27;rain_1h_transform&#x27;,\n",
              "                                                                                   &#x27;clouds_all&#x27;])])),\n",
              "                                                (&#x27;scaler&#x27;,\n",
              "                                                 StandardScaler())]))])</pre></div></div></div><div class=\"sk-parallel\"><div class=\"sk-parallel-item\"><div class=\"sk-item\"><div class=\"sk-label-container\"><div class=\"sk-label sk-toggleable\"><label>cat</label></div></div><div class=\"sk-serial\"><div class=\"sk-item\"><div class=\"sk-serial\"><div class=\"sk-item sk-dashed-wrapped\"><div class=\"sk-label-container\"><div class=\"sk-label sk-toggleable\"><input class=\"sk-toggleable__control sk-hidden--visually\" id=\"sk-estimator-id-25\" type=\"checkbox\" ><label for=\"sk-estimator-id-25\" class=\"sk-toggleable__label sk-toggleable__label-arrow\">selector: ColumnTransformer</label><div class=\"sk-toggleable__content\"><pre>ColumnTransformer(transformers=[(&#x27;selector&#x27;, &#x27;passthrough&#x27;,\n",
              "                                 [&#x27;weather_main&#x27;, &#x27;year&#x27;, &#x27;month&#x27;, &#x27;dayofweek&#x27;,\n",
              "                                  &#x27;hour&#x27;, &#x27;isholiday&#x27;, &#x27;isSnow&#x27;])])</pre></div></div></div><div class=\"sk-parallel\"><div class=\"sk-parallel-item\"><div class=\"sk-item\"><div class=\"sk-label-container\"><div class=\"sk-label sk-toggleable\"><input class=\"sk-toggleable__control sk-hidden--visually\" id=\"sk-estimator-id-26\" type=\"checkbox\" ><label for=\"sk-estimator-id-26\" class=\"sk-toggleable__label sk-toggleable__label-arrow\">selector</label><div class=\"sk-toggleable__content\"><pre>[&#x27;weather_main&#x27;, &#x27;year&#x27;, &#x27;month&#x27;, &#x27;dayofweek&#x27;, &#x27;hour&#x27;, &#x27;isholiday&#x27;, &#x27;isSnow&#x27;]</pre></div></div></div><div class=\"sk-serial\"><div class=\"sk-item\"><div class=\"sk-estimator sk-toggleable\"><input class=\"sk-toggleable__control sk-hidden--visually\" id=\"sk-estimator-id-27\" type=\"checkbox\" ><label for=\"sk-estimator-id-27\" class=\"sk-toggleable__label sk-toggleable__label-arrow\">passthrough</label><div class=\"sk-toggleable__content\"><pre>passthrough</pre></div></div></div></div></div></div></div></div><div class=\"sk-item\"><div class=\"sk-estimator sk-toggleable\"><input class=\"sk-toggleable__control sk-hidden--visually\" id=\"sk-estimator-id-28\" type=\"checkbox\" ><label for=\"sk-estimator-id-28\" class=\"sk-toggleable__label sk-toggleable__label-arrow\">OneHotEncoder</label><div class=\"sk-toggleable__content\"><pre>OneHotEncoder(drop=&#x27;first&#x27;, dtype=&lt;class &#x27;int&#x27;&gt;, sparse_output=False)</pre></div></div></div></div></div></div></div></div><div class=\"sk-parallel-item\"><div class=\"sk-item\"><div class=\"sk-label-container\"><div class=\"sk-label sk-toggleable\"><label>num</label></div></div><div class=\"sk-serial\"><div class=\"sk-item\"><div class=\"sk-serial\"><div class=\"sk-item sk-dashed-wrapped\"><div class=\"sk-label-container\"><div class=\"sk-label sk-toggleable\"><input class=\"sk-toggleable__control sk-hidden--visually\" id=\"sk-estimator-id-29\" type=\"checkbox\" ><label for=\"sk-estimator-id-29\" class=\"sk-toggleable__label sk-toggleable__label-arrow\">selector: ColumnTransformer</label><div class=\"sk-toggleable__content\"><pre>ColumnTransformer(transformers=[(&#x27;selector&#x27;, &#x27;passthrough&#x27;,\n",
              "                                 [&#x27;temp&#x27;, &#x27;rain_1h_transform&#x27;, &#x27;clouds_all&#x27;])])</pre></div></div></div><div class=\"sk-parallel\"><div class=\"sk-parallel-item\"><div class=\"sk-item\"><div class=\"sk-label-container\"><div class=\"sk-label sk-toggleable\"><input class=\"sk-toggleable__control sk-hidden--visually\" id=\"sk-estimator-id-30\" type=\"checkbox\" ><label for=\"sk-estimator-id-30\" class=\"sk-toggleable__label sk-toggleable__label-arrow\">selector</label><div class=\"sk-toggleable__content\"><pre>[&#x27;temp&#x27;, &#x27;rain_1h_transform&#x27;, &#x27;clouds_all&#x27;]</pre></div></div></div><div class=\"sk-serial\"><div class=\"sk-item\"><div class=\"sk-estimator sk-toggleable\"><input class=\"sk-toggleable__control sk-hidden--visually\" id=\"sk-estimator-id-31\" type=\"checkbox\" ><label for=\"sk-estimator-id-31\" class=\"sk-toggleable__label sk-toggleable__label-arrow\">passthrough</label><div class=\"sk-toggleable__content\"><pre>passthrough</pre></div></div></div></div></div></div></div></div><div class=\"sk-item\"><div class=\"sk-estimator sk-toggleable\"><input class=\"sk-toggleable__control sk-hidden--visually\" id=\"sk-estimator-id-32\" type=\"checkbox\" ><label for=\"sk-estimator-id-32\" class=\"sk-toggleable__label sk-toggleable__label-arrow\">StandardScaler</label><div class=\"sk-toggleable__content\"><pre>StandardScaler()</pre></div></div></div></div></div></div></div></div></div></div><div class=\"sk-item\"><div class=\"sk-estimator sk-toggleable\"><input class=\"sk-toggleable__control sk-hidden--visually\" id=\"sk-estimator-id-33\" type=\"checkbox\" ><label for=\"sk-estimator-id-33\" class=\"sk-toggleable__label sk-toggleable__label-arrow\">MLPRegressor</label><div class=\"sk-toggleable__content\"><pre>MLPRegressor(hidden_layer_sizes=(10, 10))</pre></div></div></div></div></div></div></div>"
            ]
          },
          "metadata": {},
          "execution_count": 34
        }
      ]
    },
    {
      "cell_type": "code",
      "source": [
        "sklearn.metrics.r2_score( y_train, predTrainNn1010 )\n",
        "print(\"\\n\")\n",
        "sklearn.metrics.r2_score( y_test, predTestNn1010 )"
      ],
      "metadata": {
        "colab": {
          "base_uri": "https://localhost:8080/"
        },
        "id": "6il7JX0DEfeB",
        "outputId": "7948abed-6b72-4515-c797-c054b9f80c58"
      },
      "execution_count": null,
      "outputs": [
        {
          "output_type": "execute_result",
          "data": {
            "text/plain": [
              "0.9393260085148644"
            ]
          },
          "metadata": {},
          "execution_count": 35
        },
        {
          "output_type": "stream",
          "name": "stdout",
          "text": [
            "\n",
            "\n"
          ]
        },
        {
          "output_type": "execute_result",
          "data": {
            "text/plain": [
              "0.9413872175873924"
            ]
          },
          "metadata": {},
          "execution_count": 35
        }
      ]
    },
    {
      "cell_type": "markdown",
      "source": [
        "#### Neural Network with with 3 hidden layer with 100 nodes each"
      ],
      "metadata": {
        "id": "vY-jtXD1eFbn"
      }
    },
    {
      "cell_type": "code",
      "source": [
        "pipeNnCCC = Pipeline([\n",
        "    ('preprocessor',preprocessor),\n",
        "    ('model',MLPRegressor(hidden_layer_sizes=(100,100,100)))\n",
        "],verbose = True)\n",
        "\n",
        "\n",
        "pipeNnCCC.fit(X_train,y_train)\n",
        "\n",
        "predTrainNnCCC = pipeNnCCC.predict(X_train)\n",
        "predTestNnCCC = pipeNnCCC.predict(X_test)\n"
      ],
      "metadata": {
        "colab": {
          "base_uri": "https://localhost:8080/",
          "height": 361
        },
        "id": "Ai_-1TlpduPC",
        "outputId": "2ed725c6-14bb-4c3e-f431-2a6b49762522"
      },
      "execution_count": null,
      "outputs": [
        {
          "output_type": "stream",
          "name": "stdout",
          "text": [
            "[Pipeline] ...... (step 1 of 2) Processing preprocessor, total=   0.1s\n",
            "[Pipeline] ............. (step 2 of 2) Processing model, total= 2.0min\n"
          ]
        },
        {
          "output_type": "stream",
          "name": "stderr",
          "text": [
            "/usr/local/lib/python3.10/dist-packages/sklearn/neural_network/_multilayer_perceptron.py:686: ConvergenceWarning: Stochastic Optimizer: Maximum iterations (200) reached and the optimization hasn't converged yet.\n",
            "  warnings.warn(\n"
          ]
        },
        {
          "output_type": "execute_result",
          "data": {
            "text/plain": [
              "Pipeline(steps=[('preprocessor',\n",
              "                 FeatureUnion(transformer_list=[('cat',\n",
              "                                                 Pipeline(steps=[('selector',\n",
              "                                                                  ColumnTransformer(transformers=[('selector',\n",
              "                                                                                                   'passthrough',\n",
              "                                                                                                   ['weather_main',\n",
              "                                                                                                    'year',\n",
              "                                                                                                    'month',\n",
              "                                                                                                    'dayofweek',\n",
              "                                                                                                    'hour',\n",
              "                                                                                                    'isholiday',\n",
              "                                                                                                    'isSnow'])])),\n",
              "                                                                 ('encoder',\n",
              "                                                                  OneHotEncoder(drop='first',\n",
              "                                                                                dtype=<class 'int'>,\n",
              "                                                                                sparse_output=False))])),\n",
              "                                                ('num',\n",
              "                                                 Pipeline(steps=[('selector',\n",
              "                                                                  ColumnTransformer(transformers=[('selector',\n",
              "                                                                                                   'passthrough',\n",
              "                                                                                                   ['temp',\n",
              "                                                                                                    'rain_1h_transform',\n",
              "                                                                                                    'clouds_all'])])),\n",
              "                                                                 ('scaler',\n",
              "                                                                  StandardScaler())]))])),\n",
              "                ('model', MLPRegressor(hidden_layer_sizes=(100, 100, 100)))],\n",
              "         verbose=True)"
            ],
            "text/html": [
              "<style>#sk-container-id-4 {color: black;background-color: white;}#sk-container-id-4 pre{padding: 0;}#sk-container-id-4 div.sk-toggleable {background-color: white;}#sk-container-id-4 label.sk-toggleable__label {cursor: pointer;display: block;width: 100%;margin-bottom: 0;padding: 0.3em;box-sizing: border-box;text-align: center;}#sk-container-id-4 label.sk-toggleable__label-arrow:before {content: \"▸\";float: left;margin-right: 0.25em;color: #696969;}#sk-container-id-4 label.sk-toggleable__label-arrow:hover:before {color: black;}#sk-container-id-4 div.sk-estimator:hover label.sk-toggleable__label-arrow:before {color: black;}#sk-container-id-4 div.sk-toggleable__content {max-height: 0;max-width: 0;overflow: hidden;text-align: left;background-color: #f0f8ff;}#sk-container-id-4 div.sk-toggleable__content pre {margin: 0.2em;color: black;border-radius: 0.25em;background-color: #f0f8ff;}#sk-container-id-4 input.sk-toggleable__control:checked~div.sk-toggleable__content {max-height: 200px;max-width: 100%;overflow: auto;}#sk-container-id-4 input.sk-toggleable__control:checked~label.sk-toggleable__label-arrow:before {content: \"▾\";}#sk-container-id-4 div.sk-estimator input.sk-toggleable__control:checked~label.sk-toggleable__label {background-color: #d4ebff;}#sk-container-id-4 div.sk-label input.sk-toggleable__control:checked~label.sk-toggleable__label {background-color: #d4ebff;}#sk-container-id-4 input.sk-hidden--visually {border: 0;clip: rect(1px 1px 1px 1px);clip: rect(1px, 1px, 1px, 1px);height: 1px;margin: -1px;overflow: hidden;padding: 0;position: absolute;width: 1px;}#sk-container-id-4 div.sk-estimator {font-family: monospace;background-color: #f0f8ff;border: 1px dotted black;border-radius: 0.25em;box-sizing: border-box;margin-bottom: 0.5em;}#sk-container-id-4 div.sk-estimator:hover {background-color: #d4ebff;}#sk-container-id-4 div.sk-parallel-item::after {content: \"\";width: 100%;border-bottom: 1px solid gray;flex-grow: 1;}#sk-container-id-4 div.sk-label:hover label.sk-toggleable__label {background-color: #d4ebff;}#sk-container-id-4 div.sk-serial::before {content: \"\";position: absolute;border-left: 1px solid gray;box-sizing: border-box;top: 0;bottom: 0;left: 50%;z-index: 0;}#sk-container-id-4 div.sk-serial {display: flex;flex-direction: column;align-items: center;background-color: white;padding-right: 0.2em;padding-left: 0.2em;position: relative;}#sk-container-id-4 div.sk-item {position: relative;z-index: 1;}#sk-container-id-4 div.sk-parallel {display: flex;align-items: stretch;justify-content: center;background-color: white;position: relative;}#sk-container-id-4 div.sk-item::before, #sk-container-id-4 div.sk-parallel-item::before {content: \"\";position: absolute;border-left: 1px solid gray;box-sizing: border-box;top: 0;bottom: 0;left: 50%;z-index: -1;}#sk-container-id-4 div.sk-parallel-item {display: flex;flex-direction: column;z-index: 1;position: relative;background-color: white;}#sk-container-id-4 div.sk-parallel-item:first-child::after {align-self: flex-end;width: 50%;}#sk-container-id-4 div.sk-parallel-item:last-child::after {align-self: flex-start;width: 50%;}#sk-container-id-4 div.sk-parallel-item:only-child::after {width: 0;}#sk-container-id-4 div.sk-dashed-wrapped {border: 1px dashed gray;margin: 0 0.4em 0.5em 0.4em;box-sizing: border-box;padding-bottom: 0.4em;background-color: white;}#sk-container-id-4 div.sk-label label {font-family: monospace;font-weight: bold;display: inline-block;line-height: 1.2em;}#sk-container-id-4 div.sk-label-container {text-align: center;}#sk-container-id-4 div.sk-container {/* jupyter's `normalize.less` sets `[hidden] { display: none; }` but bootstrap.min.css set `[hidden] { display: none !important; }` so we also need the `!important` here to be able to override the default hidden behavior on the sphinx rendered scikit-learn.org. See: https://github.com/scikit-learn/scikit-learn/issues/21755 */display: inline-block !important;position: relative;}#sk-container-id-4 div.sk-text-repr-fallback {display: none;}</style><div id=\"sk-container-id-4\" class=\"sk-top-container\"><div class=\"sk-text-repr-fallback\"><pre>Pipeline(steps=[(&#x27;preprocessor&#x27;,\n",
              "                 FeatureUnion(transformer_list=[(&#x27;cat&#x27;,\n",
              "                                                 Pipeline(steps=[(&#x27;selector&#x27;,\n",
              "                                                                  ColumnTransformer(transformers=[(&#x27;selector&#x27;,\n",
              "                                                                                                   &#x27;passthrough&#x27;,\n",
              "                                                                                                   [&#x27;weather_main&#x27;,\n",
              "                                                                                                    &#x27;year&#x27;,\n",
              "                                                                                                    &#x27;month&#x27;,\n",
              "                                                                                                    &#x27;dayofweek&#x27;,\n",
              "                                                                                                    &#x27;hour&#x27;,\n",
              "                                                                                                    &#x27;isholiday&#x27;,\n",
              "                                                                                                    &#x27;isSnow&#x27;])])),\n",
              "                                                                 (&#x27;encoder&#x27;,\n",
              "                                                                  OneHotEncoder(drop=&#x27;first&#x27;,\n",
              "                                                                                dtype=&lt;class &#x27;int&#x27;&gt;,\n",
              "                                                                                sparse_output=False))])),\n",
              "                                                (&#x27;num&#x27;,\n",
              "                                                 Pipeline(steps=[(&#x27;selector&#x27;,\n",
              "                                                                  ColumnTransformer(transformers=[(&#x27;selector&#x27;,\n",
              "                                                                                                   &#x27;passthrough&#x27;,\n",
              "                                                                                                   [&#x27;temp&#x27;,\n",
              "                                                                                                    &#x27;rain_1h_transform&#x27;,\n",
              "                                                                                                    &#x27;clouds_all&#x27;])])),\n",
              "                                                                 (&#x27;scaler&#x27;,\n",
              "                                                                  StandardScaler())]))])),\n",
              "                (&#x27;model&#x27;, MLPRegressor(hidden_layer_sizes=(100, 100, 100)))],\n",
              "         verbose=True)</pre><b>In a Jupyter environment, please rerun this cell to show the HTML representation or trust the notebook. <br />On GitHub, the HTML representation is unable to render, please try loading this page with nbviewer.org.</b></div><div class=\"sk-container\" hidden><div class=\"sk-item sk-dashed-wrapped\"><div class=\"sk-label-container\"><div class=\"sk-label sk-toggleable\"><input class=\"sk-toggleable__control sk-hidden--visually\" id=\"sk-estimator-id-34\" type=\"checkbox\" ><label for=\"sk-estimator-id-34\" class=\"sk-toggleable__label sk-toggleable__label-arrow\">Pipeline</label><div class=\"sk-toggleable__content\"><pre>Pipeline(steps=[(&#x27;preprocessor&#x27;,\n",
              "                 FeatureUnion(transformer_list=[(&#x27;cat&#x27;,\n",
              "                                                 Pipeline(steps=[(&#x27;selector&#x27;,\n",
              "                                                                  ColumnTransformer(transformers=[(&#x27;selector&#x27;,\n",
              "                                                                                                   &#x27;passthrough&#x27;,\n",
              "                                                                                                   [&#x27;weather_main&#x27;,\n",
              "                                                                                                    &#x27;year&#x27;,\n",
              "                                                                                                    &#x27;month&#x27;,\n",
              "                                                                                                    &#x27;dayofweek&#x27;,\n",
              "                                                                                                    &#x27;hour&#x27;,\n",
              "                                                                                                    &#x27;isholiday&#x27;,\n",
              "                                                                                                    &#x27;isSnow&#x27;])])),\n",
              "                                                                 (&#x27;encoder&#x27;,\n",
              "                                                                  OneHotEncoder(drop=&#x27;first&#x27;,\n",
              "                                                                                dtype=&lt;class &#x27;int&#x27;&gt;,\n",
              "                                                                                sparse_output=False))])),\n",
              "                                                (&#x27;num&#x27;,\n",
              "                                                 Pipeline(steps=[(&#x27;selector&#x27;,\n",
              "                                                                  ColumnTransformer(transformers=[(&#x27;selector&#x27;,\n",
              "                                                                                                   &#x27;passthrough&#x27;,\n",
              "                                                                                                   [&#x27;temp&#x27;,\n",
              "                                                                                                    &#x27;rain_1h_transform&#x27;,\n",
              "                                                                                                    &#x27;clouds_all&#x27;])])),\n",
              "                                                                 (&#x27;scaler&#x27;,\n",
              "                                                                  StandardScaler())]))])),\n",
              "                (&#x27;model&#x27;, MLPRegressor(hidden_layer_sizes=(100, 100, 100)))],\n",
              "         verbose=True)</pre></div></div></div><div class=\"sk-serial\"><div class=\"sk-item sk-dashed-wrapped\"><div class=\"sk-label-container\"><div class=\"sk-label sk-toggleable\"><input class=\"sk-toggleable__control sk-hidden--visually\" id=\"sk-estimator-id-35\" type=\"checkbox\" ><label for=\"sk-estimator-id-35\" class=\"sk-toggleable__label sk-toggleable__label-arrow\">preprocessor: FeatureUnion</label><div class=\"sk-toggleable__content\"><pre>FeatureUnion(transformer_list=[(&#x27;cat&#x27;,\n",
              "                                Pipeline(steps=[(&#x27;selector&#x27;,\n",
              "                                                 ColumnTransformer(transformers=[(&#x27;selector&#x27;,\n",
              "                                                                                  &#x27;passthrough&#x27;,\n",
              "                                                                                  [&#x27;weather_main&#x27;,\n",
              "                                                                                   &#x27;year&#x27;,\n",
              "                                                                                   &#x27;month&#x27;,\n",
              "                                                                                   &#x27;dayofweek&#x27;,\n",
              "                                                                                   &#x27;hour&#x27;,\n",
              "                                                                                   &#x27;isholiday&#x27;,\n",
              "                                                                                   &#x27;isSnow&#x27;])])),\n",
              "                                                (&#x27;encoder&#x27;,\n",
              "                                                 OneHotEncoder(drop=&#x27;first&#x27;,\n",
              "                                                               dtype=&lt;class &#x27;int&#x27;&gt;,\n",
              "                                                               sparse_output=False))])),\n",
              "                               (&#x27;num&#x27;,\n",
              "                                Pipeline(steps=[(&#x27;selector&#x27;,\n",
              "                                                 ColumnTransformer(transformers=[(&#x27;selector&#x27;,\n",
              "                                                                                  &#x27;passthrough&#x27;,\n",
              "                                                                                  [&#x27;temp&#x27;,\n",
              "                                                                                   &#x27;rain_1h_transform&#x27;,\n",
              "                                                                                   &#x27;clouds_all&#x27;])])),\n",
              "                                                (&#x27;scaler&#x27;,\n",
              "                                                 StandardScaler())]))])</pre></div></div></div><div class=\"sk-parallel\"><div class=\"sk-parallel-item\"><div class=\"sk-item\"><div class=\"sk-label-container\"><div class=\"sk-label sk-toggleable\"><label>cat</label></div></div><div class=\"sk-serial\"><div class=\"sk-item\"><div class=\"sk-serial\"><div class=\"sk-item sk-dashed-wrapped\"><div class=\"sk-label-container\"><div class=\"sk-label sk-toggleable\"><input class=\"sk-toggleable__control sk-hidden--visually\" id=\"sk-estimator-id-36\" type=\"checkbox\" ><label for=\"sk-estimator-id-36\" class=\"sk-toggleable__label sk-toggleable__label-arrow\">selector: ColumnTransformer</label><div class=\"sk-toggleable__content\"><pre>ColumnTransformer(transformers=[(&#x27;selector&#x27;, &#x27;passthrough&#x27;,\n",
              "                                 [&#x27;weather_main&#x27;, &#x27;year&#x27;, &#x27;month&#x27;, &#x27;dayofweek&#x27;,\n",
              "                                  &#x27;hour&#x27;, &#x27;isholiday&#x27;, &#x27;isSnow&#x27;])])</pre></div></div></div><div class=\"sk-parallel\"><div class=\"sk-parallel-item\"><div class=\"sk-item\"><div class=\"sk-label-container\"><div class=\"sk-label sk-toggleable\"><input class=\"sk-toggleable__control sk-hidden--visually\" id=\"sk-estimator-id-37\" type=\"checkbox\" ><label for=\"sk-estimator-id-37\" class=\"sk-toggleable__label sk-toggleable__label-arrow\">selector</label><div class=\"sk-toggleable__content\"><pre>[&#x27;weather_main&#x27;, &#x27;year&#x27;, &#x27;month&#x27;, &#x27;dayofweek&#x27;, &#x27;hour&#x27;, &#x27;isholiday&#x27;, &#x27;isSnow&#x27;]</pre></div></div></div><div class=\"sk-serial\"><div class=\"sk-item\"><div class=\"sk-estimator sk-toggleable\"><input class=\"sk-toggleable__control sk-hidden--visually\" id=\"sk-estimator-id-38\" type=\"checkbox\" ><label for=\"sk-estimator-id-38\" class=\"sk-toggleable__label sk-toggleable__label-arrow\">passthrough</label><div class=\"sk-toggleable__content\"><pre>passthrough</pre></div></div></div></div></div></div></div></div><div class=\"sk-item\"><div class=\"sk-estimator sk-toggleable\"><input class=\"sk-toggleable__control sk-hidden--visually\" id=\"sk-estimator-id-39\" type=\"checkbox\" ><label for=\"sk-estimator-id-39\" class=\"sk-toggleable__label sk-toggleable__label-arrow\">OneHotEncoder</label><div class=\"sk-toggleable__content\"><pre>OneHotEncoder(drop=&#x27;first&#x27;, dtype=&lt;class &#x27;int&#x27;&gt;, sparse_output=False)</pre></div></div></div></div></div></div></div></div><div class=\"sk-parallel-item\"><div class=\"sk-item\"><div class=\"sk-label-container\"><div class=\"sk-label sk-toggleable\"><label>num</label></div></div><div class=\"sk-serial\"><div class=\"sk-item\"><div class=\"sk-serial\"><div class=\"sk-item sk-dashed-wrapped\"><div class=\"sk-label-container\"><div class=\"sk-label sk-toggleable\"><input class=\"sk-toggleable__control sk-hidden--visually\" id=\"sk-estimator-id-40\" type=\"checkbox\" ><label for=\"sk-estimator-id-40\" class=\"sk-toggleable__label sk-toggleable__label-arrow\">selector: ColumnTransformer</label><div class=\"sk-toggleable__content\"><pre>ColumnTransformer(transformers=[(&#x27;selector&#x27;, &#x27;passthrough&#x27;,\n",
              "                                 [&#x27;temp&#x27;, &#x27;rain_1h_transform&#x27;, &#x27;clouds_all&#x27;])])</pre></div></div></div><div class=\"sk-parallel\"><div class=\"sk-parallel-item\"><div class=\"sk-item\"><div class=\"sk-label-container\"><div class=\"sk-label sk-toggleable\"><input class=\"sk-toggleable__control sk-hidden--visually\" id=\"sk-estimator-id-41\" type=\"checkbox\" ><label for=\"sk-estimator-id-41\" class=\"sk-toggleable__label sk-toggleable__label-arrow\">selector</label><div class=\"sk-toggleable__content\"><pre>[&#x27;temp&#x27;, &#x27;rain_1h_transform&#x27;, &#x27;clouds_all&#x27;]</pre></div></div></div><div class=\"sk-serial\"><div class=\"sk-item\"><div class=\"sk-estimator sk-toggleable\"><input class=\"sk-toggleable__control sk-hidden--visually\" id=\"sk-estimator-id-42\" type=\"checkbox\" ><label for=\"sk-estimator-id-42\" class=\"sk-toggleable__label sk-toggleable__label-arrow\">passthrough</label><div class=\"sk-toggleable__content\"><pre>passthrough</pre></div></div></div></div></div></div></div></div><div class=\"sk-item\"><div class=\"sk-estimator sk-toggleable\"><input class=\"sk-toggleable__control sk-hidden--visually\" id=\"sk-estimator-id-43\" type=\"checkbox\" ><label for=\"sk-estimator-id-43\" class=\"sk-toggleable__label sk-toggleable__label-arrow\">StandardScaler</label><div class=\"sk-toggleable__content\"><pre>StandardScaler()</pre></div></div></div></div></div></div></div></div></div></div><div class=\"sk-item\"><div class=\"sk-estimator sk-toggleable\"><input class=\"sk-toggleable__control sk-hidden--visually\" id=\"sk-estimator-id-44\" type=\"checkbox\" ><label for=\"sk-estimator-id-44\" class=\"sk-toggleable__label sk-toggleable__label-arrow\">MLPRegressor</label><div class=\"sk-toggleable__content\"><pre>MLPRegressor(hidden_layer_sizes=(100, 100, 100))</pre></div></div></div></div></div></div></div>"
            ]
          },
          "metadata": {},
          "execution_count": 36
        }
      ]
    },
    {
      "cell_type": "code",
      "source": [
        "sklearn.metrics.r2_score( y_train, predTrainNnCCC )\n",
        "print(\"\\n\")\n",
        "sklearn.metrics.r2_score( y_test, predTestNnCCC )"
      ],
      "metadata": {
        "colab": {
          "base_uri": "https://localhost:8080/"
        },
        "id": "1gLofDz9d1Vd",
        "outputId": "fdd4541e-de0c-4b57-de6d-3fc106d98896"
      },
      "execution_count": null,
      "outputs": [
        {
          "output_type": "execute_result",
          "data": {
            "text/plain": [
              "0.9688292929489256"
            ]
          },
          "metadata": {},
          "execution_count": 37
        },
        {
          "output_type": "stream",
          "name": "stdout",
          "text": [
            "\n",
            "\n"
          ]
        },
        {
          "output_type": "execute_result",
          "data": {
            "text/plain": [
              "0.949068886776201"
            ]
          },
          "metadata": {},
          "execution_count": 37
        }
      ]
    },
    {
      "cell_type": "markdown",
      "source": [
        "interaction"
      ],
      "metadata": {
        "id": "LuEV8uhf5d26"
      }
    },
    {
      "cell_type": "code",
      "source": [
        "# interaction pivot table\n",
        "\n",
        "pivot = pd.pivot_table(df, index='hour', columns='dayofweek', values='traffic_volume')\n",
        "map = plt.pcolormesh( pivot )"
      ],
      "metadata": {
        "id": "e4ulm-Gi8nou",
        "colab": {
          "base_uri": "https://localhost:8080/",
          "height": 430
        },
        "outputId": "5bbb83cd-972f-4016-80d6-f5d11658617d"
      },
      "execution_count": null,
      "outputs": [
        {
          "output_type": "display_data",
          "data": {
            "text/plain": [
              "<Figure size 640x480 with 1 Axes>"
            ],
            "image/png": "[encoded data removed]"
          },
          "metadata": {}
        }
      ]
    },
    {
      "cell_type": "code",
      "source": [
        "# interact hour and day of week\n",
        "# would expect different volume of traffic for each hour depending on the day of week\n",
        "# weekday rush hour vs weekend\n",
        "\n",
        "from sklearn.preprocessing import PolynomialFeatures\n",
        "lstInteract = ['dayofweek','hour']\n",
        "\n",
        "pipeInteract1 = Pipeline([\n",
        "    ('selector', ColumnTransformer([ (\"selector\", 'passthrough', lstInteract ) ] )),\n",
        "    ('encoder', OneHotEncoder( dtype=int, drop='first' ) ),\n",
        "    ('interact', PolynomialFeatures( degree=2, interaction_only=True ) )\n",
        "])\n",
        "\n",
        "preprocessor2 = FeatureUnion([\n",
        "    ('cat', pipeCat ),\n",
        "    ('int', pipeInteract1 ),\n",
        "    ('num', pipeNum )\n",
        "])\n",
        "\n",
        "\n",
        "\n",
        "pipeNnCCCi = Pipeline([\n",
        "    ('preprocessor', preprocessor2 ),\n",
        "    ('model',MLPRegressor(hidden_layer_sizes=(100,100,100) ) )\n",
        "], verbose = True)\n",
        "\n",
        "pipeNnCCCi.fit( X_train, y_train )\n",
        "predTrainNnCCCi = pipeNnCCCi.predict(X_train)\n",
        "predTestNnCCCi = pipeNnCCCi.predict(X_test)\n",
        "\n",
        "sklearn.metrics.r2_score( y_train, predTrainNnCCCi )\n",
        "sklearn.metrics.r2_score( y_test, predTestNnCCCi )\n",
        "# still not better than nnCCC"
      ],
      "metadata": {
        "id": "Bt0lyIcD5dTb",
        "colab": {
          "base_uri": "https://localhost:8080/",
          "height": 433
        },
        "outputId": "5bc45a1f-2614-44f9-f24b-ef64fbd65fb8"
      },
      "execution_count": null,
      "outputs": [
        {
          "output_type": "stream",
          "name": "stdout",
          "text": [
            "[Pipeline] ...... (step 1 of 2) Processing preprocessor, total=   0.1s\n",
            "[Pipeline] ............. (step 2 of 2) Processing model, total= 3.5min\n"
          ]
        },
        {
          "output_type": "stream",
          "name": "stderr",
          "text": [
            "/usr/local/lib/python3.10/dist-packages/sklearn/neural_network/_multilayer_perceptron.py:686: ConvergenceWarning: Stochastic Optimizer: Maximum iterations (200) reached and the optimization hasn't converged yet.\n",
            "  warnings.warn(\n"
          ]
        },
        {
          "output_type": "execute_result",
          "data": {
            "text/plain": [
              "Pipeline(steps=[('preprocessor',\n",
              "                 FeatureUnion(transformer_list=[('cat',\n",
              "                                                 Pipeline(steps=[('selector',\n",
              "                                                                  ColumnTransformer(transformers=[('selector',\n",
              "                                                                                                   'passthrough',\n",
              "                                                                                                   ['weather_main',\n",
              "                                                                                                    'year',\n",
              "                                                                                                    'month',\n",
              "                                                                                                    'dayofweek',\n",
              "                                                                                                    'hour',\n",
              "                                                                                                    'isholiday',\n",
              "                                                                                                    'isSnow'])])),\n",
              "                                                                 ('encoder',\n",
              "                                                                  OneHotEncoder(drop='first',\n",
              "                                                                                dtype=<class 'int'>,\n",
              "                                                                                sparse_output=False))])),\n",
              "                                                ('int',\n",
              "                                                 Pipeline(steps=[('selector',\n",
              "                                                                  C...\n",
              "                                                                  OneHotEncoder(drop='first',\n",
              "                                                                                dtype=<class 'int'>)),\n",
              "                                                                 ('interact',\n",
              "                                                                  PolynomialFeatures(interaction_only=True))])),\n",
              "                                                ('num',\n",
              "                                                 Pipeline(steps=[('selector',\n",
              "                                                                  ColumnTransformer(transformers=[('selector',\n",
              "                                                                                                   'passthrough',\n",
              "                                                                                                   ['temp',\n",
              "                                                                                                    'rain_1h_transform',\n",
              "                                                                                                    'clouds_all'])])),\n",
              "                                                                 ('scaler',\n",
              "                                                                  StandardScaler())]))])),\n",
              "                ('model', MLPRegressor(hidden_layer_sizes=(100, 100, 100)))],\n",
              "         verbose=True)"
            ],
            "text/html": [
              "<style>#sk-container-id-5 {color: black;background-color: white;}#sk-container-id-5 pre{padding: 0;}#sk-container-id-5 div.sk-toggleable {background-color: white;}#sk-container-id-5 label.sk-toggleable__label {cursor: pointer;display: block;width: 100%;margin-bottom: 0;padding: 0.3em;box-sizing: border-box;text-align: center;}#sk-container-id-5 label.sk-toggleable__label-arrow:before {content: \"▸\";float: left;margin-right: 0.25em;color: #696969;}#sk-container-id-5 label.sk-toggleable__label-arrow:hover:before {color: black;}#sk-container-id-5 div.sk-estimator:hover label.sk-toggleable__label-arrow:before {color: black;}#sk-container-id-5 div.sk-toggleable__content {max-height: 0;max-width: 0;overflow: hidden;text-align: left;background-color: #f0f8ff;}#sk-container-id-5 div.sk-toggleable__content pre {margin: 0.2em;color: black;border-radius: 0.25em;background-color: #f0f8ff;}#sk-container-id-5 input.sk-toggleable__control:checked~div.sk-toggleable__content {max-height: 200px;max-width: 100%;overflow: auto;}#sk-container-id-5 input.sk-toggleable__control:checked~label.sk-toggleable__label-arrow:before {content: \"▾\";}#sk-container-id-5 div.sk-estimator input.sk-toggleable__control:checked~label.sk-toggleable__label {background-color: #d4ebff;}#sk-container-id-5 div.sk-label input.sk-toggleable__control:checked~label.sk-toggleable__label {background-color: #d4ebff;}#sk-container-id-5 input.sk-hidden--visually {border: 0;clip: rect(1px 1px 1px 1px);clip: rect(1px, 1px, 1px, 1px);height: 1px;margin: -1px;overflow: hidden;padding: 0;position: absolute;width: 1px;}#sk-container-id-5 div.sk-estimator {font-family: monospace;background-color: #f0f8ff;border: 1px dotted black;border-radius: 0.25em;box-sizing: border-box;margin-bottom: 0.5em;}#sk-container-id-5 div.sk-estimator:hover {background-color: #d4ebff;}#sk-container-id-5 div.sk-parallel-item::after {content: \"\";width: 100%;border-bottom: 1px solid gray;flex-grow: 1;}#sk-container-id-5 div.sk-label:hover label.sk-toggleable__label {background-color: #d4ebff;}#sk-container-id-5 div.sk-serial::before {content: \"\";position: absolute;border-left: 1px solid gray;box-sizing: border-box;top: 0;bottom: 0;left: 50%;z-index: 0;}#sk-container-id-5 div.sk-serial {display: flex;flex-direction: column;align-items: center;background-color: white;padding-right: 0.2em;padding-left: 0.2em;position: relative;}#sk-container-id-5 div.sk-item {position: relative;z-index: 1;}#sk-container-id-5 div.sk-parallel {display: flex;align-items: stretch;justify-content: center;background-color: white;position: relative;}#sk-container-id-5 div.sk-item::before, #sk-container-id-5 div.sk-parallel-item::before {content: \"\";position: absolute;border-left: 1px solid gray;box-sizing: border-box;top: 0;bottom: 0;left: 50%;z-index: -1;}#sk-container-id-5 div.sk-parallel-item {display: flex;flex-direction: column;z-index: 1;position: relative;background-color: white;}#sk-container-id-5 div.sk-parallel-item:first-child::after {align-self: flex-end;width: 50%;}#sk-container-id-5 div.sk-parallel-item:last-child::after {align-self: flex-start;width: 50%;}#sk-container-id-5 div.sk-parallel-item:only-child::after {width: 0;}#sk-container-id-5 div.sk-dashed-wrapped {border: 1px dashed gray;margin: 0 0.4em 0.5em 0.4em;box-sizing: border-box;padding-bottom: 0.4em;background-color: white;}#sk-container-id-5 div.sk-label label {font-family: monospace;font-weight: bold;display: inline-block;line-height: 1.2em;}#sk-container-id-5 div.sk-label-container {text-align: center;}#sk-container-id-5 div.sk-container {/* jupyter's `normalize.less` sets `[hidden] { display: none; }` but bootstrap.min.css set `[hidden] { display: none !important; }` so we also need the `!important` here to be able to override the default hidden behavior on the sphinx rendered scikit-learn.org. See: https://github.com/scikit-learn/scikit-learn/issues/21755 */display: inline-block !important;position: relative;}#sk-container-id-5 div.sk-text-repr-fallback {display: none;}</style><div id=\"sk-container-id-5\" class=\"sk-top-container\"><div class=\"sk-text-repr-fallback\"><pre>Pipeline(steps=[(&#x27;preprocessor&#x27;,\n",
              "                 FeatureUnion(transformer_list=[(&#x27;cat&#x27;,\n",
              "                                                 Pipeline(steps=[(&#x27;selector&#x27;,\n",
              "                                                                  ColumnTransformer(transformers=[(&#x27;selector&#x27;,\n",
              "                                                                                                   &#x27;passthrough&#x27;,\n",
              "                                                                                                   [&#x27;weather_main&#x27;,\n",
              "                                                                                                    &#x27;year&#x27;,\n",
              "                                                                                                    &#x27;month&#x27;,\n",
              "                                                                                                    &#x27;dayofweek&#x27;,\n",
              "                                                                                                    &#x27;hour&#x27;,\n",
              "                                                                                                    &#x27;isholiday&#x27;,\n",
              "                                                                                                    &#x27;isSnow&#x27;])])),\n",
              "                                                                 (&#x27;encoder&#x27;,\n",
              "                                                                  OneHotEncoder(drop=&#x27;first&#x27;,\n",
              "                                                                                dtype=&lt;class &#x27;int&#x27;&gt;,\n",
              "                                                                                sparse_output=False))])),\n",
              "                                                (&#x27;int&#x27;,\n",
              "                                                 Pipeline(steps=[(&#x27;selector&#x27;,\n",
              "                                                                  C...\n",
              "                                                                  OneHotEncoder(drop=&#x27;first&#x27;,\n",
              "                                                                                dtype=&lt;class &#x27;int&#x27;&gt;)),\n",
              "                                                                 (&#x27;interact&#x27;,\n",
              "                                                                  PolynomialFeatures(interaction_only=True))])),\n",
              "                                                (&#x27;num&#x27;,\n",
              "                                                 Pipeline(steps=[(&#x27;selector&#x27;,\n",
              "                                                                  ColumnTransformer(transformers=[(&#x27;selector&#x27;,\n",
              "                                                                                                   &#x27;passthrough&#x27;,\n",
              "                                                                                                   [&#x27;temp&#x27;,\n",
              "                                                                                                    &#x27;rain_1h_transform&#x27;,\n",
              "                                                                                                    &#x27;clouds_all&#x27;])])),\n",
              "                                                                 (&#x27;scaler&#x27;,\n",
              "                                                                  StandardScaler())]))])),\n",
              "                (&#x27;model&#x27;, MLPRegressor(hidden_layer_sizes=(100, 100, 100)))],\n",
              "         verbose=True)</pre><b>In a Jupyter environment, please rerun this cell to show the HTML representation or trust the notebook. <br />On GitHub, the HTML representation is unable to render, please try loading this page with nbviewer.org.</b></div><div class=\"sk-container\" hidden><div class=\"sk-item sk-dashed-wrapped\"><div class=\"sk-label-container\"><div class=\"sk-label sk-toggleable\"><input class=\"sk-toggleable__control sk-hidden--visually\" id=\"sk-estimator-id-45\" type=\"checkbox\" ><label for=\"sk-estimator-id-45\" class=\"sk-toggleable__label sk-toggleable__label-arrow\">Pipeline</label><div class=\"sk-toggleable__content\"><pre>Pipeline(steps=[(&#x27;preprocessor&#x27;,\n",
              "                 FeatureUnion(transformer_list=[(&#x27;cat&#x27;,\n",
              "                                                 Pipeline(steps=[(&#x27;selector&#x27;,\n",
              "                                                                  ColumnTransformer(transformers=[(&#x27;selector&#x27;,\n",
              "                                                                                                   &#x27;passthrough&#x27;,\n",
              "                                                                                                   [&#x27;weather_main&#x27;,\n",
              "                                                                                                    &#x27;year&#x27;,\n",
              "                                                                                                    &#x27;month&#x27;,\n",
              "                                                                                                    &#x27;dayofweek&#x27;,\n",
              "                                                                                                    &#x27;hour&#x27;,\n",
              "                                                                                                    &#x27;isholiday&#x27;,\n",
              "                                                                                                    &#x27;isSnow&#x27;])])),\n",
              "                                                                 (&#x27;encoder&#x27;,\n",
              "                                                                  OneHotEncoder(drop=&#x27;first&#x27;,\n",
              "                                                                                dtype=&lt;class &#x27;int&#x27;&gt;,\n",
              "                                                                                sparse_output=False))])),\n",
              "                                                (&#x27;int&#x27;,\n",
              "                                                 Pipeline(steps=[(&#x27;selector&#x27;,\n",
              "                                                                  C...\n",
              "                                                                  OneHotEncoder(drop=&#x27;first&#x27;,\n",
              "                                                                                dtype=&lt;class &#x27;int&#x27;&gt;)),\n",
              "                                                                 (&#x27;interact&#x27;,\n",
              "                                                                  PolynomialFeatures(interaction_only=True))])),\n",
              "                                                (&#x27;num&#x27;,\n",
              "                                                 Pipeline(steps=[(&#x27;selector&#x27;,\n",
              "                                                                  ColumnTransformer(transformers=[(&#x27;selector&#x27;,\n",
              "                                                                                                   &#x27;passthrough&#x27;,\n",
              "                                                                                                   [&#x27;temp&#x27;,\n",
              "                                                                                                    &#x27;rain_1h_transform&#x27;,\n",
              "                                                                                                    &#x27;clouds_all&#x27;])])),\n",
              "                                                                 (&#x27;scaler&#x27;,\n",
              "                                                                  StandardScaler())]))])),\n",
              "                (&#x27;model&#x27;, MLPRegressor(hidden_layer_sizes=(100, 100, 100)))],\n",
              "         verbose=True)</pre></div></div></div><div class=\"sk-serial\"><div class=\"sk-item sk-dashed-wrapped\"><div class=\"sk-label-container\"><div class=\"sk-label sk-toggleable\"><input class=\"sk-toggleable__control sk-hidden--visually\" id=\"sk-estimator-id-46\" type=\"checkbox\" ><label for=\"sk-estimator-id-46\" class=\"sk-toggleable__label sk-toggleable__label-arrow\">preprocessor: FeatureUnion</label><div class=\"sk-toggleable__content\"><pre>FeatureUnion(transformer_list=[(&#x27;cat&#x27;,\n",
              "                                Pipeline(steps=[(&#x27;selector&#x27;,\n",
              "                                                 ColumnTransformer(transformers=[(&#x27;selector&#x27;,\n",
              "                                                                                  &#x27;passthrough&#x27;,\n",
              "                                                                                  [&#x27;weather_main&#x27;,\n",
              "                                                                                   &#x27;year&#x27;,\n",
              "                                                                                   &#x27;month&#x27;,\n",
              "                                                                                   &#x27;dayofweek&#x27;,\n",
              "                                                                                   &#x27;hour&#x27;,\n",
              "                                                                                   &#x27;isholiday&#x27;,\n",
              "                                                                                   &#x27;isSnow&#x27;])])),\n",
              "                                                (&#x27;encoder&#x27;,\n",
              "                                                 OneHotEncoder(drop=&#x27;first&#x27;,\n",
              "                                                               dtype=&lt;class &#x27;int&#x27;&gt;,\n",
              "                                                               sparse_output=False))])),\n",
              "                               (&#x27;int&#x27;,\n",
              "                                Pipeline(steps=[(&#x27;selector&#x27;,\n",
              "                                                 ColumnTransformer(transformers=[(&#x27;selector&#x27;,\n",
              "                                                                                  &#x27;passthrough&#x27;,\n",
              "                                                                                  [&#x27;dayofweek&#x27;,\n",
              "                                                                                   &#x27;hour&#x27;])])),\n",
              "                                                (&#x27;encoder&#x27;,\n",
              "                                                 OneHotEncoder(drop=&#x27;first&#x27;,\n",
              "                                                               dtype=&lt;class &#x27;int&#x27;&gt;)),\n",
              "                                                (&#x27;interact&#x27;,\n",
              "                                                 PolynomialFeatures(interaction_only=True))])),\n",
              "                               (&#x27;num&#x27;,\n",
              "                                Pipeline(steps=[(&#x27;selector&#x27;,\n",
              "                                                 ColumnTransformer(transformers=[(&#x27;selector&#x27;,\n",
              "                                                                                  &#x27;passthrough&#x27;,\n",
              "                                                                                  [&#x27;temp&#x27;,\n",
              "                                                                                   &#x27;rain_1h_transform&#x27;,\n",
              "                                                                                   &#x27;clouds_all&#x27;])])),\n",
              "                                                (&#x27;scaler&#x27;,\n",
              "                                                 StandardScaler())]))])</pre></div></div></div><div class=\"sk-parallel\"><div class=\"sk-parallel-item\"><div class=\"sk-item\"><div class=\"sk-label-container\"><div class=\"sk-label sk-toggleable\"><label>cat</label></div></div><div class=\"sk-serial\"><div class=\"sk-item\"><div class=\"sk-serial\"><div class=\"sk-item sk-dashed-wrapped\"><div class=\"sk-label-container\"><div class=\"sk-label sk-toggleable\"><input class=\"sk-toggleable__control sk-hidden--visually\" id=\"sk-estimator-id-47\" type=\"checkbox\" ><label for=\"sk-estimator-id-47\" class=\"sk-toggleable__label sk-toggleable__label-arrow\">selector: ColumnTransformer</label><div class=\"sk-toggleable__content\"><pre>ColumnTransformer(transformers=[(&#x27;selector&#x27;, &#x27;passthrough&#x27;,\n",
              "                                 [&#x27;weather_main&#x27;, &#x27;year&#x27;, &#x27;month&#x27;, &#x27;dayofweek&#x27;,\n",
              "                                  &#x27;hour&#x27;, &#x27;isholiday&#x27;, &#x27;isSnow&#x27;])])</pre></div></div></div><div class=\"sk-parallel\"><div class=\"sk-parallel-item\"><div class=\"sk-item\"><div class=\"sk-label-container\"><div class=\"sk-label sk-toggleable\"><input class=\"sk-toggleable__control sk-hidden--visually\" id=\"sk-estimator-id-48\" type=\"checkbox\" ><label for=\"sk-estimator-id-48\" class=\"sk-toggleable__label sk-toggleable__label-arrow\">selector</label><div class=\"sk-toggleable__content\"><pre>[&#x27;weather_main&#x27;, &#x27;year&#x27;, &#x27;month&#x27;, &#x27;dayofweek&#x27;, &#x27;hour&#x27;, &#x27;isholiday&#x27;, &#x27;isSnow&#x27;]</pre></div></div></div><div class=\"sk-serial\"><div class=\"sk-item\"><div class=\"sk-estimator sk-toggleable\"><input class=\"sk-toggleable__control sk-hidden--visually\" id=\"sk-estimator-id-49\" type=\"checkbox\" ><label for=\"sk-estimator-id-49\" class=\"sk-toggleable__label sk-toggleable__label-arrow\">passthrough</label><div class=\"sk-toggleable__content\"><pre>passthrough</pre></div></div></div></div></div></div></div></div><div class=\"sk-item\"><div class=\"sk-estimator sk-toggleable\"><input class=\"sk-toggleable__control sk-hidden--visually\" id=\"sk-estimator-id-50\" type=\"checkbox\" ><label for=\"sk-estimator-id-50\" class=\"sk-toggleable__label sk-toggleable__label-arrow\">OneHotEncoder</label><div class=\"sk-toggleable__content\"><pre>OneHotEncoder(drop=&#x27;first&#x27;, dtype=&lt;class &#x27;int&#x27;&gt;, sparse_output=False)</pre></div></div></div></div></div></div></div></div><div class=\"sk-parallel-item\"><div class=\"sk-item\"><div class=\"sk-label-container\"><div class=\"sk-label sk-toggleable\"><label>int</label></div></div><div class=\"sk-serial\"><div class=\"sk-item\"><div class=\"sk-serial\"><div class=\"sk-item sk-dashed-wrapped\"><div class=\"sk-label-container\"><div class=\"sk-label sk-toggleable\"><input class=\"sk-toggleable__control sk-hidden--visually\" id=\"sk-estimator-id-51\" type=\"checkbox\" ><label for=\"sk-estimator-id-51\" class=\"sk-toggleable__label sk-toggleable__label-arrow\">selector: ColumnTransformer</label><div class=\"sk-toggleable__content\"><pre>ColumnTransformer(transformers=[(&#x27;selector&#x27;, &#x27;passthrough&#x27;,\n",
              "                                 [&#x27;dayofweek&#x27;, &#x27;hour&#x27;])])</pre></div></div></div><div class=\"sk-parallel\"><div class=\"sk-parallel-item\"><div class=\"sk-item\"><div class=\"sk-label-container\"><div class=\"sk-label sk-toggleable\"><input class=\"sk-toggleable__control sk-hidden--visually\" id=\"sk-estimator-id-52\" type=\"checkbox\" ><label for=\"sk-estimator-id-52\" class=\"sk-toggleable__label sk-toggleable__label-arrow\">selector</label><div class=\"sk-toggleable__content\"><pre>[&#x27;dayofweek&#x27;, &#x27;hour&#x27;]</pre></div></div></div><div class=\"sk-serial\"><div class=\"sk-item\"><div class=\"sk-estimator sk-toggleable\"><input class=\"sk-toggleable__control sk-hidden--visually\" id=\"sk-estimator-id-53\" type=\"checkbox\" ><label for=\"sk-estimator-id-53\" class=\"sk-toggleable__label sk-toggleable__label-arrow\">passthrough</label><div class=\"sk-toggleable__content\"><pre>passthrough</pre></div></div></div></div></div></div></div></div><div class=\"sk-item\"><div class=\"sk-estimator sk-toggleable\"><input class=\"sk-toggleable__control sk-hidden--visually\" id=\"sk-estimator-id-54\" type=\"checkbox\" ><label for=\"sk-estimator-id-54\" class=\"sk-toggleable__label sk-toggleable__label-arrow\">OneHotEncoder</label><div class=\"sk-toggleable__content\"><pre>OneHotEncoder(drop=&#x27;first&#x27;, dtype=&lt;class &#x27;int&#x27;&gt;)</pre></div></div></div><div class=\"sk-item\"><div class=\"sk-estimator sk-toggleable\"><input class=\"sk-toggleable__control sk-hidden--visually\" id=\"sk-estimator-id-55\" type=\"checkbox\" ><label for=\"sk-estimator-id-55\" class=\"sk-toggleable__label sk-toggleable__label-arrow\">PolynomialFeatures</label><div class=\"sk-toggleable__content\"><pre>PolynomialFeatures(interaction_only=True)</pre></div></div></div></div></div></div></div></div><div class=\"sk-parallel-item\"><div class=\"sk-item\"><div class=\"sk-label-container\"><div class=\"sk-label sk-toggleable\"><label>num</label></div></div><div class=\"sk-serial\"><div class=\"sk-item\"><div class=\"sk-serial\"><div class=\"sk-item sk-dashed-wrapped\"><div class=\"sk-label-container\"><div class=\"sk-label sk-toggleable\"><input class=\"sk-toggleable__control sk-hidden--visually\" id=\"sk-estimator-id-56\" type=\"checkbox\" ><label for=\"sk-estimator-id-56\" class=\"sk-toggleable__label sk-toggleable__label-arrow\">selector: ColumnTransformer</label><div class=\"sk-toggleable__content\"><pre>ColumnTransformer(transformers=[(&#x27;selector&#x27;, &#x27;passthrough&#x27;,\n",
              "                                 [&#x27;temp&#x27;, &#x27;rain_1h_transform&#x27;, &#x27;clouds_all&#x27;])])</pre></div></div></div><div class=\"sk-parallel\"><div class=\"sk-parallel-item\"><div class=\"sk-item\"><div class=\"sk-label-container\"><div class=\"sk-label sk-toggleable\"><input class=\"sk-toggleable__control sk-hidden--visually\" id=\"sk-estimator-id-57\" type=\"checkbox\" ><label for=\"sk-estimator-id-57\" class=\"sk-toggleable__label sk-toggleable__label-arrow\">selector</label><div class=\"sk-toggleable__content\"><pre>[&#x27;temp&#x27;, &#x27;rain_1h_transform&#x27;, &#x27;clouds_all&#x27;]</pre></div></div></div><div class=\"sk-serial\"><div class=\"sk-item\"><div class=\"sk-estimator sk-toggleable\"><input class=\"sk-toggleable__control sk-hidden--visually\" id=\"sk-estimator-id-58\" type=\"checkbox\" ><label for=\"sk-estimator-id-58\" class=\"sk-toggleable__label sk-toggleable__label-arrow\">passthrough</label><div class=\"sk-toggleable__content\"><pre>passthrough</pre></div></div></div></div></div></div></div></div><div class=\"sk-item\"><div class=\"sk-estimator sk-toggleable\"><input class=\"sk-toggleable__control sk-hidden--visually\" id=\"sk-estimator-id-59\" type=\"checkbox\" ><label for=\"sk-estimator-id-59\" class=\"sk-toggleable__label sk-toggleable__label-arrow\">StandardScaler</label><div class=\"sk-toggleable__content\"><pre>StandardScaler()</pre></div></div></div></div></div></div></div></div></div></div><div class=\"sk-item\"><div class=\"sk-estimator sk-toggleable\"><input class=\"sk-toggleable__control sk-hidden--visually\" id=\"sk-estimator-id-60\" type=\"checkbox\" ><label for=\"sk-estimator-id-60\" class=\"sk-toggleable__label sk-toggleable__label-arrow\">MLPRegressor</label><div class=\"sk-toggleable__content\"><pre>MLPRegressor(hidden_layer_sizes=(100, 100, 100))</pre></div></div></div></div></div></div></div>"
            ]
          },
          "metadata": {},
          "execution_count": 39
        },
        {
          "output_type": "execute_result",
          "data": {
            "text/plain": [
              "0.9721620301321294"
            ]
          },
          "metadata": {},
          "execution_count": 39
        },
        {
          "output_type": "execute_result",
          "data": {
            "text/plain": [
              "0.9454010557198437"
            ]
          },
          "metadata": {},
          "execution_count": 39
        }
      ]
    },
    {
      "cell_type": "markdown",
      "source": [
        "tuning"
      ],
      "metadata": {
        "id": "WsTEBjX0MmlB"
      }
    },
    {
      "cell_type": "code",
      "source": [
        "from sklearn.model_selection import GridSearchCV\n",
        "# sklearn page for mlpregressor: https://scikit-learn.org/stable/modules/generated/sklearn.neural_network.MLPRegressor.html\n",
        "# i got an error when i tried tuning on solver\n",
        "# 'solver': ['lbfgs', 'sgd', 'adam']\n",
        "\n",
        "\n",
        "\n",
        "paramGridNn = {'model__activation': ['identity', 'logistic', 'tanh', 'relu'],\n",
        "}\n",
        "\n",
        "gridNn = GridSearchCV( pipeNnCCC, paramGridNn, cv=5, n_jobs=-1 )\n",
        "gridNn.fit( X_train, y_train )\n",
        "\n",
        "gridNn.best_params_\n",
        "gridNn.best_score_"
      ],
      "metadata": {
        "id": "E3dGbN4d5gMC",
        "colab": {
          "base_uri": "https://localhost:8080/",
          "height": 425
        },
        "outputId": "3d2f0b6d-eae7-41dc-8740-4b27af64a40e"
      },
      "execution_count": null,
      "outputs": [
        {
          "output_type": "stream",
          "name": "stdout",
          "text": [
            "[Pipeline] ...... (step 1 of 2) Processing preprocessor, total=   0.1s\n"
          ]
        },
        {
          "output_type": "stream",
          "name": "stderr",
          "text": [
            "/usr/local/lib/python3.10/dist-packages/sklearn/neural_network/_multilayer_perceptron.py:686: ConvergenceWarning: Stochastic Optimizer: Maximum iterations (200) reached and the optimization hasn't converged yet.\n",
            "  warnings.warn(\n"
          ]
        },
        {
          "output_type": "stream",
          "name": "stdout",
          "text": [
            "[Pipeline] ............. (step 2 of 2) Processing model, total= 2.2min\n"
          ]
        },
        {
          "output_type": "execute_result",
          "data": {
            "text/plain": [
              "GridSearchCV(cv=5,\n",
              "             estimator=Pipeline(steps=[('preprocessor',\n",
              "                                        FeatureUnion(transformer_list=[('cat',\n",
              "                                                                        Pipeline(steps=[('selector',\n",
              "                                                                                         ColumnTransformer(transformers=[('selector',\n",
              "                                                                                                                          'passthrough',\n",
              "                                                                                                                          ['weather_main',\n",
              "                                                                                                                           'year',\n",
              "                                                                                                                           'month',\n",
              "                                                                                                                           'dayofweek',\n",
              "                                                                                                                           'hour',\n",
              "                                                                                                                           'isholiday',\n",
              "                                                                                                                           'isSnow'])])),\n",
              "                                                                                        ('encoder',\n",
              "                                                                                         OneHotEncoder(drop='first',\n",
              "                                                                                                       dtype=<class 'int'>,\n",
              "                                                                                                       sparse_output=False))])),\n",
              "                                                                       ('num',\n",
              "                                                                        Pipeline(steps=[('selector',\n",
              "                                                                                         ColumnTransformer(transformers=[('selector',\n",
              "                                                                                                                          'passthrough',\n",
              "                                                                                                                          ['temp',\n",
              "                                                                                                                           'rain_1h_transform',\n",
              "                                                                                                                           'clouds_all'])])),\n",
              "                                                                                        ('scaler',\n",
              "                                                                                         StandardScaler())]))])),\n",
              "                                       ('model',\n",
              "                                        MLPRegressor(hidden_layer_sizes=(100,\n",
              "                                                                         100,\n",
              "                                                                         100)))],\n",
              "                                verbose=True),\n",
              "             n_jobs=-1,\n",
              "             param_grid={'model__activation': ['identity', 'logistic', 'tanh',\n",
              "                                               'relu']})"
            ],
            "text/html": [
              "<style>#sk-container-id-6 {color: black;background-color: white;}#sk-container-id-6 pre{padding: 0;}#sk-container-id-6 div.sk-toggleable {background-color: white;}#sk-container-id-6 label.sk-toggleable__label {cursor: pointer;display: block;width: 100%;margin-bottom: 0;padding: 0.3em;box-sizing: border-box;text-align: center;}#sk-container-id-6 label.sk-toggleable__label-arrow:before {content: \"▸\";float: left;margin-right: 0.25em;color: #696969;}#sk-container-id-6 label.sk-toggleable__label-arrow:hover:before {color: black;}#sk-container-id-6 div.sk-estimator:hover label.sk-toggleable__label-arrow:before {color: black;}#sk-container-id-6 div.sk-toggleable__content {max-height: 0;max-width: 0;overflow: hidden;text-align: left;background-color: #f0f8ff;}#sk-container-id-6 div.sk-toggleable__content pre {margin: 0.2em;color: black;border-radius: 0.25em;background-color: #f0f8ff;}#sk-container-id-6 input.sk-toggleable__control:checked~div.sk-toggleable__content {max-height: 200px;max-width: 100%;overflow: auto;}#sk-container-id-6 input.sk-toggleable__control:checked~label.sk-toggleable__label-arrow:before {content: \"▾\";}#sk-container-id-6 div.sk-estimator input.sk-toggleable__control:checked~label.sk-toggleable__label {background-color: #d4ebff;}#sk-container-id-6 div.sk-label input.sk-toggleable__control:checked~label.sk-toggleable__label {background-color: #d4ebff;}#sk-container-id-6 input.sk-hidden--visually {border: 0;clip: rect(1px 1px 1px 1px);clip: rect(1px, 1px, 1px, 1px);height: 1px;margin: -1px;overflow: hidden;padding: 0;position: absolute;width: 1px;}#sk-container-id-6 div.sk-estimator {font-family: monospace;background-color: #f0f8ff;border: 1px dotted black;border-radius: 0.25em;box-sizing: border-box;margin-bottom: 0.5em;}#sk-container-id-6 div.sk-estimator:hover {background-color: #d4ebff;}#sk-container-id-6 div.sk-parallel-item::after {content: \"\";width: 100%;border-bottom: 1px solid gray;flex-grow: 1;}#sk-container-id-6 div.sk-label:hover label.sk-toggleable__label {background-color: #d4ebff;}#sk-container-id-6 div.sk-serial::before {content: \"\";position: absolute;border-left: 1px solid gray;box-sizing: border-box;top: 0;bottom: 0;left: 50%;z-index: 0;}#sk-container-id-6 div.sk-serial {display: flex;flex-direction: column;align-items: center;background-color: white;padding-right: 0.2em;padding-left: 0.2em;position: relative;}#sk-container-id-6 div.sk-item {position: relative;z-index: 1;}#sk-container-id-6 div.sk-parallel {display: flex;align-items: stretch;justify-content: center;background-color: white;position: relative;}#sk-container-id-6 div.sk-item::before, #sk-container-id-6 div.sk-parallel-item::before {content: \"\";position: absolute;border-left: 1px solid gray;box-sizing: border-box;top: 0;bottom: 0;left: 50%;z-index: -1;}#sk-container-id-6 div.sk-parallel-item {display: flex;flex-direction: column;z-index: 1;position: relative;background-color: white;}#sk-container-id-6 div.sk-parallel-item:first-child::after {align-self: flex-end;width: 50%;}#sk-container-id-6 div.sk-parallel-item:last-child::after {align-self: flex-start;width: 50%;}#sk-container-id-6 div.sk-parallel-item:only-child::after {width: 0;}#sk-container-id-6 div.sk-dashed-wrapped {border: 1px dashed gray;margin: 0 0.4em 0.5em 0.4em;box-sizing: border-box;padding-bottom: 0.4em;background-color: white;}#sk-container-id-6 div.sk-label label {font-family: monospace;font-weight: bold;display: inline-block;line-height: 1.2em;}#sk-container-id-6 div.sk-label-container {text-align: center;}#sk-container-id-6 div.sk-container {/* jupyter's `normalize.less` sets `[hidden] { display: none; }` but bootstrap.min.css set `[hidden] { display: none !important; }` so we also need the `!important` here to be able to override the default hidden behavior on the sphinx rendered scikit-learn.org. See: https://github.com/scikit-learn/scikit-learn/issues/21755 */display: inline-block !important;position: relative;}#sk-container-id-6 div.sk-text-repr-fallback {display: none;}</style><div id=\"sk-container-id-6\" class=\"sk-top-container\"><div class=\"sk-text-repr-fallback\"><pre>GridSearchCV(cv=5,\n",
              "             estimator=Pipeline(steps=[(&#x27;preprocessor&#x27;,\n",
              "                                        FeatureUnion(transformer_list=[(&#x27;cat&#x27;,\n",
              "                                                                        Pipeline(steps=[(&#x27;selector&#x27;,\n",
              "                                                                                         ColumnTransformer(transformers=[(&#x27;selector&#x27;,\n",
              "                                                                                                                          &#x27;passthrough&#x27;,\n",
              "                                                                                                                          [&#x27;weather_main&#x27;,\n",
              "                                                                                                                           &#x27;year&#x27;,\n",
              "                                                                                                                           &#x27;month&#x27;,\n",
              "                                                                                                                           &#x27;dayofweek&#x27;,\n",
              "                                                                                                                           &#x27;hour&#x27;,\n",
              "                                                                                                                           &#x27;isholiday&#x27;,\n",
              "                                                                                                                           &#x27;isSnow&#x27;])])),\n",
              "                                                                                        (&#x27;encoder&#x27;,\n",
              "                                                                                         OneHotEncoder(drop=&#x27;first&#x27;,\n",
              "                                                                                                       dtype=&lt;class &#x27;int&#x27;&gt;,\n",
              "                                                                                                       sparse_output=False))])),\n",
              "                                                                       (&#x27;num&#x27;,\n",
              "                                                                        Pipeline(steps=[(&#x27;selector&#x27;,\n",
              "                                                                                         ColumnTransformer(transformers=[(&#x27;selector&#x27;,\n",
              "                                                                                                                          &#x27;passthrough&#x27;,\n",
              "                                                                                                                          [&#x27;temp&#x27;,\n",
              "                                                                                                                           &#x27;rain_1h_transform&#x27;,\n",
              "                                                                                                                           &#x27;clouds_all&#x27;])])),\n",
              "                                                                                        (&#x27;scaler&#x27;,\n",
              "                                                                                         StandardScaler())]))])),\n",
              "                                       (&#x27;model&#x27;,\n",
              "                                        MLPRegressor(hidden_layer_sizes=(100,\n",
              "                                                                         100,\n",
              "                                                                         100)))],\n",
              "                                verbose=True),\n",
              "             n_jobs=-1,\n",
              "             param_grid={&#x27;model__activation&#x27;: [&#x27;identity&#x27;, &#x27;logistic&#x27;, &#x27;tanh&#x27;,\n",
              "                                               &#x27;relu&#x27;]})</pre><b>In a Jupyter environment, please rerun this cell to show the HTML representation or trust the notebook. <br />On GitHub, the HTML representation is unable to render, please try loading this page with nbviewer.org.</b></div><div class=\"sk-container\" hidden><div class=\"sk-item sk-dashed-wrapped\"><div class=\"sk-label-container\"><div class=\"sk-label sk-toggleable\"><input class=\"sk-toggleable__control sk-hidden--visually\" id=\"sk-estimator-id-61\" type=\"checkbox\" ><label for=\"sk-estimator-id-61\" class=\"sk-toggleable__label sk-toggleable__label-arrow\">GridSearchCV</label><div class=\"sk-toggleable__content\"><pre>GridSearchCV(cv=5,\n",
              "             estimator=Pipeline(steps=[(&#x27;preprocessor&#x27;,\n",
              "                                        FeatureUnion(transformer_list=[(&#x27;cat&#x27;,\n",
              "                                                                        Pipeline(steps=[(&#x27;selector&#x27;,\n",
              "                                                                                         ColumnTransformer(transformers=[(&#x27;selector&#x27;,\n",
              "                                                                                                                          &#x27;passthrough&#x27;,\n",
              "                                                                                                                          [&#x27;weather_main&#x27;,\n",
              "                                                                                                                           &#x27;year&#x27;,\n",
              "                                                                                                                           &#x27;month&#x27;,\n",
              "                                                                                                                           &#x27;dayofweek&#x27;,\n",
              "                                                                                                                           &#x27;hour&#x27;,\n",
              "                                                                                                                           &#x27;isholiday&#x27;,\n",
              "                                                                                                                           &#x27;isSnow&#x27;])])),\n",
              "                                                                                        (&#x27;encoder&#x27;,\n",
              "                                                                                         OneHotEncoder(drop=&#x27;first&#x27;,\n",
              "                                                                                                       dtype=&lt;class &#x27;int&#x27;&gt;,\n",
              "                                                                                                       sparse_output=False))])),\n",
              "                                                                       (&#x27;num&#x27;,\n",
              "                                                                        Pipeline(steps=[(&#x27;selector&#x27;,\n",
              "                                                                                         ColumnTransformer(transformers=[(&#x27;selector&#x27;,\n",
              "                                                                                                                          &#x27;passthrough&#x27;,\n",
              "                                                                                                                          [&#x27;temp&#x27;,\n",
              "                                                                                                                           &#x27;rain_1h_transform&#x27;,\n",
              "                                                                                                                           &#x27;clouds_all&#x27;])])),\n",
              "                                                                                        (&#x27;scaler&#x27;,\n",
              "                                                                                         StandardScaler())]))])),\n",
              "                                       (&#x27;model&#x27;,\n",
              "                                        MLPRegressor(hidden_layer_sizes=(100,\n",
              "                                                                         100,\n",
              "                                                                         100)))],\n",
              "                                verbose=True),\n",
              "             n_jobs=-1,\n",
              "             param_grid={&#x27;model__activation&#x27;: [&#x27;identity&#x27;, &#x27;logistic&#x27;, &#x27;tanh&#x27;,\n",
              "                                               &#x27;relu&#x27;]})</pre></div></div></div><div class=\"sk-parallel\"><div class=\"sk-parallel-item\"><div class=\"sk-item\"><div class=\"sk-label-container\"><div class=\"sk-label sk-toggleable\"><input class=\"sk-toggleable__control sk-hidden--visually\" id=\"sk-estimator-id-62\" type=\"checkbox\" ><label for=\"sk-estimator-id-62\" class=\"sk-toggleable__label sk-toggleable__label-arrow\">estimator: Pipeline</label><div class=\"sk-toggleable__content\"><pre>Pipeline(steps=[(&#x27;preprocessor&#x27;,\n",
              "                 FeatureUnion(transformer_list=[(&#x27;cat&#x27;,\n",
              "                                                 Pipeline(steps=[(&#x27;selector&#x27;,\n",
              "                                                                  ColumnTransformer(transformers=[(&#x27;selector&#x27;,\n",
              "                                                                                                   &#x27;passthrough&#x27;,\n",
              "                                                                                                   [&#x27;weather_main&#x27;,\n",
              "                                                                                                    &#x27;year&#x27;,\n",
              "                                                                                                    &#x27;month&#x27;,\n",
              "                                                                                                    &#x27;dayofweek&#x27;,\n",
              "                                                                                                    &#x27;hour&#x27;,\n",
              "                                                                                                    &#x27;isholiday&#x27;,\n",
              "                                                                                                    &#x27;isSnow&#x27;])])),\n",
              "                                                                 (&#x27;encoder&#x27;,\n",
              "                                                                  OneHotEncoder(drop=&#x27;first&#x27;,\n",
              "                                                                                dtype=&lt;class &#x27;int&#x27;&gt;,\n",
              "                                                                                sparse_output=False))])),\n",
              "                                                (&#x27;num&#x27;,\n",
              "                                                 Pipeline(steps=[(&#x27;selector&#x27;,\n",
              "                                                                  ColumnTransformer(transformers=[(&#x27;selector&#x27;,\n",
              "                                                                                                   &#x27;passthrough&#x27;,\n",
              "                                                                                                   [&#x27;temp&#x27;,\n",
              "                                                                                                    &#x27;rain_1h_transform&#x27;,\n",
              "                                                                                                    &#x27;clouds_all&#x27;])])),\n",
              "                                                                 (&#x27;scaler&#x27;,\n",
              "                                                                  StandardScaler())]))])),\n",
              "                (&#x27;model&#x27;, MLPRegressor(hidden_layer_sizes=(100, 100, 100)))],\n",
              "         verbose=True)</pre></div></div></div><div class=\"sk-serial\"><div class=\"sk-item\"><div class=\"sk-serial\"><div class=\"sk-item sk-dashed-wrapped\"><div class=\"sk-label-container\"><div class=\"sk-label sk-toggleable\"><input class=\"sk-toggleable__control sk-hidden--visually\" id=\"sk-estimator-id-63\" type=\"checkbox\" ><label for=\"sk-estimator-id-63\" class=\"sk-toggleable__label sk-toggleable__label-arrow\">preprocessor: FeatureUnion</label><div class=\"sk-toggleable__content\"><pre>FeatureUnion(transformer_list=[(&#x27;cat&#x27;,\n",
              "                                Pipeline(steps=[(&#x27;selector&#x27;,\n",
              "                                                 ColumnTransformer(transformers=[(&#x27;selector&#x27;,\n",
              "                                                                                  &#x27;passthrough&#x27;,\n",
              "                                                                                  [&#x27;weather_main&#x27;,\n",
              "                                                                                   &#x27;year&#x27;,\n",
              "                                                                                   &#x27;month&#x27;,\n",
              "                                                                                   &#x27;dayofweek&#x27;,\n",
              "                                                                                   &#x27;hour&#x27;,\n",
              "                                                                                   &#x27;isholiday&#x27;,\n",
              "                                                                                   &#x27;isSnow&#x27;])])),\n",
              "                                                (&#x27;encoder&#x27;,\n",
              "                                                 OneHotEncoder(drop=&#x27;first&#x27;,\n",
              "                                                               dtype=&lt;class &#x27;int&#x27;&gt;,\n",
              "                                                               sparse_output=False))])),\n",
              "                               (&#x27;num&#x27;,\n",
              "                                Pipeline(steps=[(&#x27;selector&#x27;,\n",
              "                                                 ColumnTransformer(transformers=[(&#x27;selector&#x27;,\n",
              "                                                                                  &#x27;passthrough&#x27;,\n",
              "                                                                                  [&#x27;temp&#x27;,\n",
              "                                                                                   &#x27;rain_1h_transform&#x27;,\n",
              "                                                                                   &#x27;clouds_all&#x27;])])),\n",
              "                                                (&#x27;scaler&#x27;,\n",
              "                                                 StandardScaler())]))])</pre></div></div></div><div class=\"sk-parallel\"><div class=\"sk-parallel-item\"><div class=\"sk-item\"><div class=\"sk-label-container\"><div class=\"sk-label sk-toggleable\"><label>cat</label></div></div><div class=\"sk-serial\"><div class=\"sk-item\"><div class=\"sk-serial\"><div class=\"sk-item sk-dashed-wrapped\"><div class=\"sk-label-container\"><div class=\"sk-label sk-toggleable\"><input class=\"sk-toggleable__control sk-hidden--visually\" id=\"sk-estimator-id-64\" type=\"checkbox\" ><label for=\"sk-estimator-id-64\" class=\"sk-toggleable__label sk-toggleable__label-arrow\">selector: ColumnTransformer</label><div class=\"sk-toggleable__content\"><pre>ColumnTransformer(transformers=[(&#x27;selector&#x27;, &#x27;passthrough&#x27;,\n",
              "                                 [&#x27;weather_main&#x27;, &#x27;year&#x27;, &#x27;month&#x27;, &#x27;dayofweek&#x27;,\n",
              "                                  &#x27;hour&#x27;, &#x27;isholiday&#x27;, &#x27;isSnow&#x27;])])</pre></div></div></div><div class=\"sk-parallel\"><div class=\"sk-parallel-item\"><div class=\"sk-item\"><div class=\"sk-label-container\"><div class=\"sk-label sk-toggleable\"><input class=\"sk-toggleable__control sk-hidden--visually\" id=\"sk-estimator-id-65\" type=\"checkbox\" ><label for=\"sk-estimator-id-65\" class=\"sk-toggleable__label sk-toggleable__label-arrow\">selector</label><div class=\"sk-toggleable__content\"><pre>[&#x27;weather_main&#x27;, &#x27;year&#x27;, &#x27;month&#x27;, &#x27;dayofweek&#x27;, &#x27;hour&#x27;, &#x27;isholiday&#x27;, &#x27;isSnow&#x27;]</pre></div></div></div><div class=\"sk-serial\"><div class=\"sk-item\"><div class=\"sk-estimator sk-toggleable\"><input class=\"sk-toggleable__control sk-hidden--visually\" id=\"sk-estimator-id-66\" type=\"checkbox\" ><label for=\"sk-estimator-id-66\" class=\"sk-toggleable__label sk-toggleable__label-arrow\">passthrough</label><div class=\"sk-toggleable__content\"><pre>passthrough</pre></div></div></div></div></div></div></div></div><div class=\"sk-item\"><div class=\"sk-estimator sk-toggleable\"><input class=\"sk-toggleable__control sk-hidden--visually\" id=\"sk-estimator-id-67\" type=\"checkbox\" ><label for=\"sk-estimator-id-67\" class=\"sk-toggleable__label sk-toggleable__label-arrow\">OneHotEncoder</label><div class=\"sk-toggleable__content\"><pre>OneHotEncoder(drop=&#x27;first&#x27;, dtype=&lt;class &#x27;int&#x27;&gt;, sparse_output=False)</pre></div></div></div></div></div></div></div></div><div class=\"sk-parallel-item\"><div class=\"sk-item\"><div class=\"sk-label-container\"><div class=\"sk-label sk-toggleable\"><label>num</label></div></div><div class=\"sk-serial\"><div class=\"sk-item\"><div class=\"sk-serial\"><div class=\"sk-item sk-dashed-wrapped\"><div class=\"sk-label-container\"><div class=\"sk-label sk-toggleable\"><input class=\"sk-toggleable__control sk-hidden--visually\" id=\"sk-estimator-id-68\" type=\"checkbox\" ><label for=\"sk-estimator-id-68\" class=\"sk-toggleable__label sk-toggleable__label-arrow\">selector: ColumnTransformer</label><div class=\"sk-toggleable__content\"><pre>ColumnTransformer(transformers=[(&#x27;selector&#x27;, &#x27;passthrough&#x27;,\n",
              "                                 [&#x27;temp&#x27;, &#x27;rain_1h_transform&#x27;, &#x27;clouds_all&#x27;])])</pre></div></div></div><div class=\"sk-parallel\"><div class=\"sk-parallel-item\"><div class=\"sk-item\"><div class=\"sk-label-container\"><div class=\"sk-label sk-toggleable\"><input class=\"sk-toggleable__control sk-hidden--visually\" id=\"sk-estimator-id-69\" type=\"checkbox\" ><label for=\"sk-estimator-id-69\" class=\"sk-toggleable__label sk-toggleable__label-arrow\">selector</label><div class=\"sk-toggleable__content\"><pre>[&#x27;temp&#x27;, &#x27;rain_1h_transform&#x27;, &#x27;clouds_all&#x27;]</pre></div></div></div><div class=\"sk-serial\"><div class=\"sk-item\"><div class=\"sk-estimator sk-toggleable\"><input class=\"sk-toggleable__control sk-hidden--visually\" id=\"sk-estimator-id-70\" type=\"checkbox\" ><label for=\"sk-estimator-id-70\" class=\"sk-toggleable__label sk-toggleable__label-arrow\">passthrough</label><div class=\"sk-toggleable__content\"><pre>passthrough</pre></div></div></div></div></div></div></div></div><div class=\"sk-item\"><div class=\"sk-estimator sk-toggleable\"><input class=\"sk-toggleable__control sk-hidden--visually\" id=\"sk-estimator-id-71\" type=\"checkbox\" ><label for=\"sk-estimator-id-71\" class=\"sk-toggleable__label sk-toggleable__label-arrow\">StandardScaler</label><div class=\"sk-toggleable__content\"><pre>StandardScaler()</pre></div></div></div></div></div></div></div></div></div></div><div class=\"sk-item\"><div class=\"sk-estimator sk-toggleable\"><input class=\"sk-toggleable__control sk-hidden--visually\" id=\"sk-estimator-id-72\" type=\"checkbox\" ><label for=\"sk-estimator-id-72\" class=\"sk-toggleable__label sk-toggleable__label-arrow\">MLPRegressor</label><div class=\"sk-toggleable__content\"><pre>MLPRegressor(hidden_layer_sizes=(100, 100, 100))</pre></div></div></div></div></div></div></div></div></div></div></div></div>"
            ]
          },
          "metadata": {},
          "execution_count": 40
        },
        {
          "output_type": "execute_result",
          "data": {
            "text/plain": [
              "{'model__activation': 'relu'}"
            ]
          },
          "metadata": {},
          "execution_count": 40
        },
        {
          "output_type": "execute_result",
          "data": {
            "text/plain": [
              "0.9468657055980767"
            ]
          },
          "metadata": {},
          "execution_count": 40
        }
      ]
    },
    {
      "cell_type": "code",
      "source": [],
      "metadata": {
        "id": "MpwULhNGNX6y"
      },
      "execution_count": null,
      "outputs": []
    },
    {
      "cell_type": "markdown",
      "metadata": {
        "id": "pKY4BIGRgrcw"
      },
      "source": [
        "## Evaluating data (To be done after fine tuning details)"
      ]
    },
    {
      "cell_type": "markdown",
      "source": [
        "Given the data we want to predict has a lot of small values, any score that involves percentages will be way off, as anything divided by a small number will result in large values."
      ],
      "metadata": {
        "id": "JQN952QXEls5"
      }
    },
    {
      "cell_type": "markdown",
      "metadata": {
        "id": "OouCnIugNI1f"
      },
      "source": [
        "#### R squared score"
      ]
    },
    {
      "cell_type": "code",
      "execution_count": null,
      "metadata": {
        "id": "sYdhCREMNaId",
        "colab": {
          "base_uri": "https://localhost:8080/"
        },
        "outputId": "31c70964-f89e-4798-f91a-88bc35939001"
      },
      "outputs": [
        {
          "output_type": "stream",
          "name": "stdout",
          "text": [
            "R^2 score for Random Forest (train) 0.991398313913515\n",
            "R^2 score for Random Forest (test) 0.9422848067821795\n",
            "R^2 score for Gradient Boosting (train) 0.824050296664168\n",
            "R^2 score for Gradient Boosting (test) 0.8233219034692995\n",
            "R^2 score for Neural Network-10,10 (train) 0.9393260085148644\n",
            "R^2 score for Neural Network-10,10 (test) 0.9413872175873924\n",
            "R^2 score for Neural Network-100,100,100 (train) 0.9688292929489256\n",
            "R^2 score for Neural Network-100,100,100 (test) 0.949068886776201\n",
            "R^2 score for Neural Network-100,100,100 with interaction (train) 0.9721620301321294\n",
            "R^2 score for Neural Network-100,100,100 with interaction (test) 0.9454010557198437\n"
          ]
        }
      ],
      "source": [
        "# print(\"R^2 score for Random Forest (train)\", sklearn.metrics.r2_score(y_train, predTrainRf))\n",
        "print(\"R^2 score for Random Forest (train)\", sklearn.metrics.r2_score(y_train, predTrainRf))\n",
        "print(\"R^2 score for Random Forest (test)\", sklearn.metrics.r2_score(y_test, predTestRf))\n",
        "\n",
        "print(\"R^2 score for Gradient Boosting (train)\", sklearn.metrics.r2_score(y_train, predTrainGbA))\n",
        "print(\"R^2 score for Gradient Boosting (test)\", sklearn.metrics.r2_score(y_test, predTestGbA))\n",
        "\n",
        "print(\"R^2 score for Neural Network-10,10 (train)\", sklearn.metrics.r2_score(y_train, predTrainNn1010))\n",
        "print(\"R^2 score for Neural Network-10,10 (test)\", sklearn.metrics.r2_score(y_test, predTestNn1010))\n",
        "\n",
        "print(\"R^2 score for Neural Network-100,100,100 (train)\", sklearn.metrics.r2_score(y_train, predTrainNnCCC))\n",
        "print(\"R^2 score for Neural Network-100,100,100 (test)\", sklearn.metrics.r2_score(y_test, predTestNnCCC))\n",
        "\n",
        "print(\"R^2 score for Neural Network-100,100,100 with interaction (train)\", sklearn.metrics.r2_score(y_train, predTrainNnCCCi))\n",
        "print(\"R^2 score for Neural Network-100,100,100 with interaction (test)\", sklearn.metrics.r2_score(y_test, predTestNnCCCi))\n",
        "\n"
      ]
    },
    {
      "cell_type": "markdown",
      "metadata": {
        "id": "PpVnjCzCNLcl"
      },
      "source": [
        "#### Mean absolute Error\n"
      ]
    },
    {
      "cell_type": "code",
      "execution_count": null,
      "metadata": {
        "id": "XOAfy5dFNZeN",
        "colab": {
          "base_uri": "https://localhost:8080/"
        },
        "outputId": "aa883ac8-3fc6-4a7a-dcd6-28e44736bb4e"
      },
      "outputs": [
        {
          "output_type": "stream",
          "name": "stdout",
          "text": [
            "Mean Absolute Error for Random Forest (train) 100.19900476605517\n",
            "Mean Absolute Error for Random Forest (test) 263.7165271494777\n",
            "Mean Absolute Error for Gradient Boosting (train) 624.1294189730695\n",
            "Mean Absolute Error for Gradient Boosting (test) 620.7355964629262\n",
            "Mean Absolute Error for Neural Network-10,10 (train) 289.8014536844265\n",
            "Mean Absolute Error for Neural Network-10,10 (test) 285.89071914147775\n",
            "Mean Absolute Error for Neural Network-100,100,100 (train) 220.36348131074402\n",
            "Mean Absolute Error for Neural Network-100,100,100 (test) 278.0623241193836\n"
          ]
        }
      ],
      "source": [
        "print(\"Mean Absolute Error for Random Forest (train)\",sklearn.metrics.mean_absolute_error(y_train, predTrainRf))\n",
        "print(\"Mean Absolute Error for Random Forest (test)\",sklearn.metrics.mean_absolute_error(y_test, predTestRf))\n",
        "\n",
        "print(\"Mean Absolute Error for Gradient Boosting (train)\",sklearn.metrics.mean_absolute_error(y_train, predTrainGbA))\n",
        "print(\"Mean Absolute Error for Gradient Boosting (test)\",sklearn.metrics.mean_absolute_error(y_test, predTestGbA))\n",
        "\n",
        "print(\"Mean Absolute Error for Neural Network-10,10 (train)\",sklearn.metrics.mean_absolute_error(y_train, predTrainNn1010))\n",
        "print(\"Mean Absolute Error for Neural Network-10,10 (test)\",sklearn.metrics.mean_absolute_error(y_test, predTestNn1010))\n",
        "\n",
        "print(\"Mean Absolute Error for Neural Network-100,100,100 (train)\",sklearn.metrics.mean_absolute_error(y_train, predTrainNnCCC))\n",
        "print(\"Mean Absolute Error for Neural Network-100,100,100 (test)\",sklearn.metrics.mean_absolute_error(y_test, predTestNnCCC))"
      ]
    },
    {
      "cell_type": "markdown",
      "metadata": {
        "id": "Cw9SihIgNPdN"
      },
      "source": [
        "#### Mean Squared Error"
      ]
    },
    {
      "cell_type": "code",
      "execution_count": null,
      "metadata": {
        "id": "oJUmcVWkNZFv",
        "colab": {
          "base_uri": "https://localhost:8080/"
        },
        "outputId": "41593088-3f46-46df-916b-02333cc7e16f"
      },
      "outputs": [
        {
          "output_type": "stream",
          "name": "stdout",
          "text": [
            "Mean Squared Error for Random Forest (train) 34214.20111998976\n",
            "Mean Squared Error for Random Forest (test) 226044.06812971886\n",
            "Mean Squared Error for Gradient Boosting (train) 699860.2920877644\n",
            "Mean Squared Error for Gradient Boosting (test) 691967.4606041781\n",
            "Mean Squared Error for Neural Network-10,10 (train) 241337.8175572627\n",
            "Mean Squared Error for Neural Network-10,10 (test) 229559.5153072621\n",
            "Mean Squared Error for Neural Network-100,100,100 (train) 123985.09191975684\n",
            "Mean Squared Error for Neural Network-100,100,100 (test) 199473.923339966\n"
          ]
        }
      ],
      "source": [
        "print(\"Mean Squared Error for Random Forest (train)\",sklearn.metrics.mean_squared_error(y_train, predTrainRf))\n",
        "print(\"Mean Squared Error for Random Forest (test)\",sklearn.metrics.mean_squared_error(y_test, predTestRf))\n",
        "\n",
        "print(\"Mean Squared Error for Gradient Boosting (train)\",sklearn.metrics.mean_squared_error(y_train, predTrainGbA))\n",
        "print(\"Mean Squared Error for Gradient Boosting (test)\",sklearn.metrics.mean_squared_error(y_test, predTestGbA))\n",
        "\n",
        "print(\"Mean Squared Error for Neural Network-10,10 (train)\",sklearn.metrics.mean_squared_error(y_train, predTrainNn1010))\n",
        "print(\"Mean Squared Error for Neural Network-10,10 (test)\",sklearn.metrics.mean_squared_error(y_test, predTestNn1010))\n",
        "\n",
        "print(\"Mean Squared Error for Neural Network-100,100,100 (train)\",sklearn.metrics.mean_squared_error(y_train, predTrainNnCCC))\n",
        "print(\"Mean Squared Error for Neural Network-100,100,100 (test)\",sklearn.metrics.mean_squared_error(y_test, predTestNnCCC))"
      ]
    },
    {
      "cell_type": "markdown",
      "metadata": {
        "id": "cOP0_4SmNRbu"
      },
      "source": [
        "#### Median Absolute Error"
      ]
    },
    {
      "cell_type": "code",
      "execution_count": null,
      "metadata": {
        "id": "AZSJu9giNYiS",
        "colab": {
          "base_uri": "https://localhost:8080/"
        },
        "outputId": "d012972c-2a1a-4f63-9c4f-eb6d4d99446c"
      },
      "outputs": [
        {
          "output_type": "stream",
          "name": "stdout",
          "text": [
            "Median Absolute Error for Random Forest (train) 50.54500000000007\n",
            "Median Absolute Error for Random Forest (test) 138.32999999999993\n",
            "Median Absolute Error for Gradient Boosting (train) 464.015818090581\n",
            "Median Absolute Error for Gradient Boosting (test) 466.2253194210723\n",
            "Median Absolute Error for Neural Network-10,10 (train) 176.89267366666456\n",
            "Median Absolute Error for Neural Network-10,10 (test) 177.68883484334856\n",
            "Median Absolute Error for Neural Network-100,100,100 (train) 142.20835853827595\n",
            "Median Absolute Error for Neural Network-100,100,100 (test) 178.11851423164444\n"
          ]
        }
      ],
      "source": [
        "print(\"Median Absolute Error for Random Forest (train)\",sklearn.metrics.median_absolute_error(y_train, predTrainRf))\n",
        "print(\"Median Absolute Error for Random Forest (test)\",sklearn.metrics.median_absolute_error(y_test, predTestRf))\n",
        "\n",
        "print(\"Median Absolute Error for Gradient Boosting (train)\",sklearn.metrics.median_absolute_error(y_train, predTrainGbA))\n",
        "print(\"Median Absolute Error for Gradient Boosting (test)\",sklearn.metrics.median_absolute_error(y_test, predTestGbA))\n",
        "\n",
        "print(\"Median Absolute Error for Neural Network-10,10 (train)\",sklearn.metrics.median_absolute_error(y_train, predTrainNn1010))\n",
        "print(\"Median Absolute Error for Neural Network-10,10 (test)\",sklearn.metrics.median_absolute_error(y_test, predTestNn1010))\n",
        "\n",
        "print(\"Median Absolute Error for Neural Network-100,100,100 (train)\",sklearn.metrics.median_absolute_error(y_train, predTrainNnCCC))\n",
        "print(\"Median Absolute Error for Neural Network-100,100,100 (test)\",sklearn.metrics.median_absolute_error(y_test, predTestNnCCC))"
      ]
    },
    {
      "cell_type": "markdown",
      "metadata": {
        "id": "FnQv9UyBNTYb"
      },
      "source": [
        "#### Mean absolute percentage Error"
      ]
    },
    {
      "cell_type": "code",
      "execution_count": null,
      "metadata": {
        "id": "Kx_rtz93NIdp",
        "colab": {
          "base_uri": "https://localhost:8080/"
        },
        "outputId": "3f2c01b6-9308-4769-d777-00d749acb00b"
      },
      "outputs": [
        {
          "output_type": "stream",
          "name": "stdout",
          "text": [
            "Mean Absolute Percentage Error for Random Forest (train) 164403629627862.72\n",
            "Mean Absolute Percentage Error for Random Forest (test) 675171731145794.4\n",
            "Mean Absolute Percentage Error for Gradient Boosting (train) 401412211603572.56\n",
            "Mean Absolute Percentage Error for Gradient Boosting (test) 724049847471794.5\n",
            "Mean Absolute Percentage Error for Neural Network-10,10 (train) 309642874409525.0\n",
            "Mean Absolute Percentage Error for Neural Network-10,10 (test) 691011977951157.5\n",
            "Mean Absolute Percentage Error for Neural Network-100,100,100 (train) 235436617300883.94\n",
            "Mean Absolute Percentage Error for Neural Network-100,100,100 (test) 541997512722122.94\n"
          ]
        }
      ],
      "source": [
        "print(\"Mean Absolute Percentage Error for Random Forest (train)\",sklearn.metrics.mean_absolute_percentage_error(y_train, predTrainRf))\n",
        "print(\"Mean Absolute Percentage Error for Random Forest (test)\",sklearn.metrics.mean_absolute_percentage_error(y_test, predTestRf))\n",
        "\n",
        "print(\"Mean Absolute Percentage Error for Gradient Boosting (train)\",sklearn.metrics.mean_absolute_percentage_error(y_train, predTrainGbA))\n",
        "print(\"Mean Absolute Percentage Error for Gradient Boosting (test)\",sklearn.metrics.mean_absolute_percentage_error(y_test, predTestGbA))\n",
        "\n",
        "print(\"Mean Absolute Percentage Error for Neural Network-10,10 (train)\",sklearn.metrics.mean_absolute_percentage_error(y_train, predTrainNn1010))\n",
        "print(\"Mean Absolute Percentage Error for Neural Network-10,10 (test)\",sklearn.metrics.mean_absolute_percentage_error(y_test, predTestNn1010))\n",
        "\n",
        "print(\"Mean Absolute Percentage Error for Neural Network-100,100,100 (train)\",sklearn.metrics.mean_absolute_percentage_error(y_train, predTrainNnCCC))\n",
        "print(\"Mean Absolute Percentage Error for Neural Network-100,100,100 (test)\",sklearn.metrics.mean_absolute_percentage_error(y_test, predTestNnCCC))"
      ]
    }
  ],
  "metadata": {
    "colab": {
      "provenance": []
    },
    "kernelspec": {
      "display_name": "Python 3",
      "name": "python3"
    },
    "language_info": {
      "name": "python"
    }
  },
  "nbformat": 4,
  "nbformat_minor": 0
}